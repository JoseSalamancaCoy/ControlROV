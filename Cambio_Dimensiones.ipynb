{
 "cells": [
  {
   "cell_type": "code",
   "execution_count": 15,
   "metadata": {},
   "outputs": [],
   "source": [
    "#Se importan las librerias\n",
    "\n",
    "import matplotlib.pyplot as plt\n",
    "import numpy as np\n",
    "from sympy import *\n",
    "from scipy import *\n",
    "from scipy import integrate\n",
    "from scipy.integrate import ode"
   ]
  },
  {
   "cell_type": "code",
   "execution_count": 35,
   "metadata": {},
   "outputs": [
    {
     "name": "stdout",
     "output_type": "stream",
     "text": [
      "[xdot, ydot, zdot, thetadot, phidot, psidot]\n"
     ]
    }
   ],
   "source": [
    "#Se crean las variables simbolicas dependientes e independientes\n",
    "\n",
    "#Entradas velocidades lineales y angulares del marco de referencia local\n",
    "u = symbols('u')\n",
    "v = symbols('v')\n",
    "w = symbols('w')\n",
    "p = symbols('p')\n",
    "q = symbols('q')\n",
    "r = symbols('r')\n",
    "V = np.array([u,v,w,p,q,r])\n",
    "t = symbols(\"t\") #Tiempo\n",
    "\n",
    "#Salidas de posiciones lineales y angulares del marco de referencia inercial en funcion a las velocidades del marco local\n",
    "\n",
    "x = symbols('x')\n",
    "y = symbols('y')\n",
    "z = symbols('z')\n",
    "theta = symbols('theta')\n",
    "phi = symbols('phi')\n",
    "psi = symbols('psi')\n",
    "n = np.array([x,y,z,theta,phi,psi])\n",
    "\n",
    "xdot,ydot,zdot,thetadot,phidot,psidot = symbols(\"xdot ydot zdot thetadot phidot psidot\")\n",
    "#ndot = [xdot,ydot,zdot,thetadot,phidot,psidot] #Vector aceleracion en el marco de referencia\n"
   ]
  },
  {
   "cell_type": "code",
   "execution_count": 60,
   "metadata": {},
   "outputs": [
    {
     "name": "stdout",
     "output_type": "stream",
     "text": [
      "J1 = \n",
      "[[cos(psi)*cos(theta) sin(phi)*sin(theta)*cos(psi) - sin(psi)*cos(phi)\n",
      "  sin(phi)*sin(psi) + sin(theta)*cos(phi)*cos(psi)]\n",
      " [sin(psi)*cos(theta) sin(phi)*sin(psi)*sin(theta) + cos(phi)*cos(psi)\n",
      "  -sin(phi)*cos(psi) + sin(psi)*sin(theta)*cos(phi)]\n",
      " [-sin(theta) sin(phi)*cos(theta) cos(phi)*cos(theta)]]\n",
      "J2 = \n",
      "[[1.1 sin(phi)*sin(theta)/cos(theta) sin(theta)*cos(phi)/cos(theta)]\n",
      " [0.0 cos(phi) -sin(phi)]\n",
      " [0.0 sin(phi)/cos(theta) 1.1]]\n",
      "J = \n",
      "[[cos(psi)*cos(theta) sin(phi)*sin(theta)*cos(psi) - sin(psi)*cos(phi)\n",
      "  sin(phi)*sin(psi) + sin(theta)*cos(phi)*cos(psi) 0.0 0.0 0.0]\n",
      " [sin(psi)*cos(theta) sin(phi)*sin(psi)*sin(theta) + cos(phi)*cos(psi)\n",
      "  -sin(phi)*cos(psi) + sin(psi)*sin(theta)*cos(phi) 0.0 0.0 0.0]\n",
      " [-sin(theta) sin(phi)*cos(theta) cos(phi)*cos(theta) 0.0 0.0 0.0]\n",
      " [0.0 0.0 0.0 1.1 sin(phi)*sin(theta)/cos(theta)\n",
      "  sin(theta)*cos(phi)/cos(theta)]\n",
      " [0.0 0.0 0.0 0.0 cos(phi) -sin(phi)]\n",
      " [0.0 0.0 0.0 0.0 sin(phi)/cos(theta) 1.1]]\n"
     ]
    }
   ],
   "source": [
    "#Se construye la matriz J1 y J2 y finalmente J2\n",
    "\n",
    "J1 = np.array([[cos(theta)*cos(psi),(-cos(phi)*sin(psi))+(sin(phi)*sin(theta)*cos(psi)), (sin(phi)*sin(psi))+ (cos(phi)*sin(theta)*cos(psi))],\n",
    "               [cos(theta)*sin(psi),(cos(phi)*cos(psi))+(sin(phi)*sin(theta)*sin(psi)) ,(-sin(phi)*cos(psi))+ (cos(phi)*sin(theta)*sin(psi))],\n",
    "               [   -sin(theta)     ,            cos(theta)*sin(phi)                    ,                   cos(theta)*cos(phi)              ]])\n",
    "J2 = np.array([[     1.1     ,  sin(phi)*sin(theta)/cos(theta)  ,  cos(phi)*sin(theta)/cos(theta)  ],\n",
    "               [     0.0     ,             cos(phi)             ,            -sin(phi)             ],\n",
    "               [     0.0     ,        sin(phi)/cos(theta)       ,               1.1                ]])\n",
    "zeros = np.zeros((3,3))\n",
    "J = np.concatenate((np.concatenate((J1, zeros), axis=1), np.concatenate((zeros, J2), axis=1)), axis=0)\n",
    "print(\"J1 = \\n{}\".format(J1))\n",
    "print(\"J2 = \\n{}\".format(J2))\n",
    "print(\"J = \\n{}\".format(J))\n",
    "\n"
   ]
  },
  {
   "cell_type": "code",
   "execution_count": 62,
   "metadata": {},
   "outputs": [
    {
     "name": "stdout",
     "output_type": "stream",
     "text": [
      "[u*cos(psi)*cos(theta) + v*(sin(phi)*sin(theta)*cos(psi) - sin(psi)*cos(phi)) + w*(sin(phi)*sin(psi) + sin(theta)*cos(phi)*cos(psi))\n",
      " u*sin(psi)*cos(theta) + v*(sin(phi)*sin(psi)*sin(theta) + cos(phi)*cos(psi)) + w*(-sin(phi)*cos(psi) + sin(psi)*sin(theta)*cos(phi))\n",
      " -u*sin(theta) + v*sin(phi)*cos(theta) + w*cos(phi)*cos(theta)\n",
      " 1.1*p + q*sin(phi)*sin(theta)/cos(theta) + r*sin(theta)*cos(phi)/cos(theta)\n",
      " q*cos(phi) - r*sin(phi) q*sin(phi)/cos(theta) + 1.1*r]\n"
     ]
    }
   ],
   "source": [
    "ndot = np.dot(J,V) #Vector de velocidad en el marco de referencia\n",
    "print(ndot.subs([]))"
   ]
  },
  {
   "cell_type": "code",
   "execution_count": null,
   "metadata": {},
   "outputs": [],
   "source": []
  }
 ],
 "metadata": {
  "kernelspec": {
   "display_name": "Python 3",
   "language": "python",
   "name": "python3"
  },
  "language_info": {
   "codemirror_mode": {
    "name": "ipython",
    "version": 3
   },
   "file_extension": ".py",
   "mimetype": "text/x-python",
   "name": "python",
   "nbconvert_exporter": "python",
   "pygments_lexer": "ipython3",
   "version": "3.7.3"
  }
 },
 "nbformat": 4,
 "nbformat_minor": 2
}
