{
 "cells": [
  {
   "cell_type": "code",
   "execution_count": 1,
   "metadata": {},
   "outputs": [],
   "source": [
    "import matplotlib.pyplot as plt\n",
    "import numpy as np\n",
    "from sympy import *\n",
    "\n",
    "from scipy import *\n",
    "from scipy import integrate\n",
    "from scipy.integrate import ode"
   ]
  },
  {
   "cell_type": "code",
   "execution_count": 2,
   "metadata": {},
   "outputs": [],
   "source": [
    "#Importa Parametros de control\n",
    "\n",
    "f = open ('parrov_bluerov.txt','r')\n",
    "D={}\n",
    "for i in f:\n",
    "    [clave, valor]= i.split(\"=\")\n",
    "    D[clave] = float(valor[:-2])\n",
    "f.close()\n",
    "#Se asignan las variables... esto se hace para que sea sencillo describir mas adelante las matrices .... Ya estan los C+ y C- ??\n",
    "[m,xg,yg,zg,xb,yb,zb,Ix,Iy,Iz,Ixy,Ixz,Iyz,W,B,Xu,Yv,Zw,Kp,Mq,Nr,Xudot,Yvdot,Zwdot,Kpdot,Mqdot,Nrdot,Xuu,Yvv,Zww,Kpp,Mqq,Nrr,lx1,ly1,lz1,lx2,ly2,lz2,lx3,ly3,lz3,lx4,ly4,lz4,lx5,ly5,lz5,lx6,ly6,lz6,Cmas1,Cmas2,Cmas3,Cmas4,Cmas5,Cmas6,Cmenos1,Cmenos2,Cmenos3,Cmenos4,Cmenos5,Cmenos6 ]   =   [D['m'],D['xg'],D['yg'],D['zg'],D['xb'],D['yb'],D['zb'],D['Ix'],D['Iy'],D['Iz'],D['Ixy'],D['Ixz'],D['Iyz'],D['W'],D['B'],D['Xu'],D['Yv'],D['Zw'],D['Kp'],D['Mq'],D['Nr'],D['Xudot'],D['Yvdot'],D['Zwdot'],D['Kpdot'],D['Mqdot'],D['Nrdot'],D['Xuu'],D['Yvv'],D['Zww'],D['Kpp'],D['Mqq'],D['Nrr'],D['lx1'],D['ly1'],D['lz1'],D['lx2'],D['ly2'],D['lz2'],D['lx3'],D['ly3'],D['lz3'],D['lx4'],D['ly4'],D['lz4'],D['lx5'],D['ly5'],D['lz5'],D['lx6'],D['ly6'],D['lz6'],0.000333,0.000333,0.000224,0.000241,0.000241,0.000243,0.000368,0.000368,0.000227,0.000175,0.000175,0.000229]\n",
    "\n",
    "\n"
   ]
  },
  {
   "cell_type": "code",
   "execution_count": 3,
   "metadata": {},
   "outputs": [],
   "source": [
    "#Se crean las variables simbolicas dependientes e independientes\n",
    "\n",
    "#Entradas para el modelo dinamico .... Torques aplicados por los propulsores\n",
    "u1 = symbols('u1')\n",
    "u2 = symbols('u2')\n",
    "u3 = symbols('u3')\n",
    "u4 = symbols('u4')\n",
    "u5 = symbols('u5')\n",
    "u6 = symbols('u6')\n",
    "U= np.array([u1,u2,u3,u4,u5,u6]) # Se define el vector de entradas\n",
    "\n",
    "#Salidas de mi modelo dinamico... o velocidades en el marco de referencia local\n",
    "u = symbols('u')\n",
    "v = symbols('v')\n",
    "w = symbols('w')\n",
    "p = symbols('p')\n",
    "q = symbols('q')\n",
    "r = symbols('r')\n",
    "V = np.array([u,v,w,p,q,r])\n",
    "t = symbols(\"t\") #Tiempo\n",
    "\n",
    "#Salidas de posiciones lineales y angulares del marco de referencia inercial en funcion a las velocidades del marco local\n",
    "x = symbols('x')\n",
    "y = symbols('y')\n",
    "z = symbols('z')\n",
    "theta = symbols('theta')\n",
    "phi = symbols('phi')\n",
    "psi = symbols('psi')\n",
    "n = np.array([x,y,z,theta,phi,psi])\n",
    "\n"
   ]
  },
  {
   "cell_type": "code",
   "execution_count": 4,
   "metadata": {},
   "outputs": [
    {
     "name": "stdout",
     "output_type": "stream",
     "text": [
      "J1 = \n",
      "[[cos(psi)*cos(theta) sin(phi)*sin(theta)*cos(psi) - sin(psi)*cos(phi)\n",
      "  sin(phi)*sin(psi) + sin(theta)*cos(phi)*cos(psi)]\n",
      " [sin(psi)*cos(theta) sin(phi)*sin(psi)*sin(theta) + cos(phi)*cos(psi)\n",
      "  -sin(phi)*cos(psi) + sin(psi)*sin(theta)*cos(phi)]\n",
      " [-sin(theta) sin(phi)*cos(theta) cos(phi)*cos(theta)]]\n",
      "J2 = \n",
      "[[1.1 sin(phi)*sin(theta)/cos(theta) sin(theta)*cos(phi)/cos(theta)]\n",
      " [0.0 cos(phi) -sin(phi)]\n",
      " [0.0 sin(phi)/cos(theta) 1.1]]\n",
      "J = \n",
      "[[cos(psi)*cos(theta) sin(phi)*sin(theta)*cos(psi) - sin(psi)*cos(phi)\n",
      "  sin(phi)*sin(psi) + sin(theta)*cos(phi)*cos(psi) 0.0 0.0 0.0]\n",
      " [sin(psi)*cos(theta) sin(phi)*sin(psi)*sin(theta) + cos(phi)*cos(psi)\n",
      "  -sin(phi)*cos(psi) + sin(psi)*sin(theta)*cos(phi) 0.0 0.0 0.0]\n",
      " [-sin(theta) sin(phi)*cos(theta) cos(phi)*cos(theta) 0.0 0.0 0.0]\n",
      " [0.0 0.0 0.0 1.1 sin(phi)*sin(theta)/cos(theta)\n",
      "  sin(theta)*cos(phi)/cos(theta)]\n",
      " [0.0 0.0 0.0 0.0 cos(phi) -sin(phi)]\n",
      " [0.0 0.0 0.0 0.0 sin(phi)/cos(theta) 1.1]]\n"
     ]
    }
   ],
   "source": [
    "#Se construye la matriz J1 y J2 y finalmente J2\n",
    "from sympy import *\n",
    "\n",
    "J1 = np.array([[cos(theta)*cos(psi),(-cos(phi)*sin(psi))+(sin(phi)*sin(theta)*cos(psi)), (sin(phi)*sin(psi))+ (cos(phi)*sin(theta)*cos(psi))],\n",
    "               [cos(theta)*sin(psi),(cos(phi)*cos(psi))+(sin(phi)*sin(theta)*sin(psi)) ,(-sin(phi)*cos(psi))+ (cos(phi)*sin(theta)*sin(psi))],\n",
    "               [   -sin(theta)     ,            cos(theta)*sin(phi)                    ,                   cos(theta)*cos(phi)              ]])\n",
    "J2 = np.array([[     1.1     ,  sin(phi)*sin(theta)/cos(theta)  ,  cos(phi)*sin(theta)/cos(theta)  ],\n",
    "               [     0.0     ,             cos(phi)             ,            -sin(phi)             ],\n",
    "               [     0.0     ,        sin(phi)/cos(theta)       ,               1.1                ]])\n",
    "zeros = np.zeros((3,3))\n",
    "J = np.concatenate((np.concatenate((J1, zeros), axis=1), np.concatenate((zeros, J2), axis=1)), axis=0)\n",
    "print(\"J1 = \\n{}\".format(J1))\n",
    "print(\"J2 = \\n{}\".format(J2))\n",
    "print(\"J = \\n{}\".format(J))\n"
   ]
  },
  {
   "cell_type": "code",
   "execution_count": 5,
   "metadata": {},
   "outputs": [
    {
     "name": "stdout",
     "output_type": "stream",
     "text": [
      "M_RB = \n",
      "[[ 7.31  0.    0.    0.    0.   -0.  ]\n",
      " [ 0.    7.31  0.   -0.    0.    0.  ]\n",
      " [ 0.    0.    7.31  0.   -0.    0.  ]\n",
      " [ 0.   -0.    0.   -0.16 -0.   -0.  ]\n",
      " [ 0.    0.   -0.   -0.    0.16 -0.  ]\n",
      " [-0.    0.    0.   -0.   -0.    0.16]]\n",
      "M_A = \n",
      "[[ -5.5   -0.    -0.    -0.    -0.    -0.  ]\n",
      " [ -0.   -12.7   -0.    -0.    -0.    -0.  ]\n",
      " [ -0.    -0.   -14.57  -0.    -0.    -0.  ]\n",
      " [ -0.    -0.    -0.    -0.12  -0.    -0.  ]\n",
      " [ -0.    -0.    -0.    -0.    -0.12  -0.  ]\n",
      " [ -0.    -0.    -0.    -0.    -0.    -0.12]]\n",
      "M = \n",
      "[[ 1.81  0.    0.    0.    0.   -0.  ]\n",
      " [ 0.   -5.39  0.   -0.    0.    0.  ]\n",
      " [ 0.    0.   -7.26  0.   -0.    0.  ]\n",
      " [ 0.   -0.    0.   -0.28 -0.   -0.  ]\n",
      " [ 0.    0.   -0.   -0.    0.04 -0.  ]\n",
      " [-0.    0.    0.   -0.   -0.    0.04]]\n"
     ]
    }
   ],
   "source": [
    "#Matriz M\n",
    "#Matriz M_RB                     \n",
    "M_RB = np.array([[     m        ,        0      ,        0      ,      0        ,     m*zg     ,       -m*yg    ],\n",
    "                 [     0        ,        m      ,        0      ,    -m*zg      ,       0      ,        m*xg    ],\n",
    "                 [     0        ,        0      ,        m      ,     m*yg      ,    -m*xg     ,          0     ],\n",
    "                 [     0        ,      -m*zg    ,       m*yg    ,     -Ix       ,    -Ixy      ,        -Ixz    ],\n",
    "                 [    m*zg      ,        0      ,      -m*xg    ,     -Ixy      ,     Iy       ,        -Iyz    ],\n",
    "                 [   -m*yg      ,       m*xg    ,        0      ,     -Ixz      ,     -Iyz     ,         Iz     ]])\n",
    "#Matriz M_A\n",
    "M_A = np.array([Xudot,Yvdot,Zwdot,Kpdot,Mqdot,Nrdot]) * np.eye(6) # MUltiplica vector valores con matris identidad 6x6\n",
    "\n",
    "M= M_RB + M_A\n",
    "\n",
    "print(\"M_RB = \\n{}\".format(M_RB))\n",
    "print(\"M_A = \\n{}\".format(M_A))\n",
    "print(\"M = \\n{}\".format(M))"
   ]
  },
  {
   "cell_type": "code",
   "execution_count": 6,
   "metadata": {},
   "outputs": [
    {
     "name": "stdout",
     "output_type": "stream",
     "text": [
      "C_RB = \n",
      "[[0.0 0.0 0.0 0 7.31*w -7.31*v]\n",
      " [0.0 0.0 0.0 -7.31*w 0 7.31*u]\n",
      " [0.0 0.0 0.0 7.31*v -7.31*u 0]\n",
      " [0 -7.31*w 7.31*v 0 0.16*r -0.16*q]\n",
      " [7.31*w 0 -7.31*u -0.16*r 0 0.16*p]\n",
      " [-7.31*v 7.31*u 0 0.16*q -0.16*p 0]]\n",
      "CA = \n",
      "[[0 0 0 0 14.57*w -12.7*v]\n",
      " [0 0 0 -14.57*w 0 5.5*u]\n",
      " [0 0 0 12.7*v -5.5*u 0]\n",
      " [0 14.57*w -12.7*v 0 0.12*r -0.12*q]\n",
      " [-14.57*w 0 5.5*u -0.12*r 0 0.12*p]\n",
      " [12.7*v -5.5*u 0 0.12*q -0.12*p 0]]\n",
      "C = \n",
      "[[0.0 0.0 0.0 0 21.88*w -20.01*v]\n",
      " [0.0 0.0 0.0 -21.88*w 0 12.81*u]\n",
      " [0.0 0.0 0.0 20.01*v -12.81*u 0]\n",
      " [0 7.26*w -5.39*v 0 0.28*r -0.28*q]\n",
      " [-7.26*w 0 -1.81*u -0.28*r 0 0.28*p]\n",
      " [5.39*v 1.81*u 0 0.28*q -0.28*p 0]]\n"
     ]
    }
   ],
   "source": [
    "#Matriz C.... Matriz de fuerzas centrípeta y Coriolis\n",
    "#Matriz C_RB\n",
    "#Matriz C12 \n",
    "C11 = np.eye(3)*0 #Crea matriz 3x3 de Ceros\n",
    "C12 = np.array([[ m*(yg*q +zg*r), -m*(xg*q-w)  , -m*(xg*r+v)  ],\n",
    "                [ -m*(yg*p+w)   , m*(zg*r+xg*p), -m*(yg*r-u)  ],\n",
    "                [ -m*(zg*p-v)   , -m*(zg*q+u)  , m*(xg*p+yg*q)]])\n",
    "\n",
    "C22 = np.array([[         0                 ,-Iyz*q-Ixz*p+Iz*r, Iyz*r+Ixy*p-Iy*q],\n",
    "                [ Iyz*q+Ixz*p-+Iz*r,          0               ,-Ixz*r-Ixy*q+Iy*p],\n",
    "                [-Iyz*r-Ixy*p+Iy*q , Ixz*r+Ixy*q-Iy*p, 0                  ]])\n",
    "C21 = np.transpose(C12) # Transpuesta de C12\n",
    "C_RB = np.concatenate((np.concatenate((C11, C12), axis=1), np.concatenate((C21, C22), axis=1)), axis=0)\n",
    "\n",
    "\n",
    "\n",
    "CA = np.array([[     0        ,        0      ,        0      ,      0        , -Zwdot*w  ,     Yvdot*v ],\n",
    "               [     0        ,        0      ,        0      ,  Zwdot*w   ,       0      ,    -Xudot*u ],\n",
    "               [     0        ,        0      ,        0      , -Yvdot*v   ,  Xudot*u  ,          0     ],\n",
    "               [      0       , -Zwdot*w   ,    Yvdot*v ,      0        , -Nrdot*r  ,     Mqdot*q ],\n",
    "               [  Zwdot*w  ,        0      ,   -Xudot*u ,  Nrdot*r   ,       0      ,    -Kpdot*p ],\n",
    "               [ -Yvdot*v  ,  Xudot*u   ,          0    , -Mqdot*q   ,  Kpdot*p  ,          0     ]])\n",
    "\n",
    "C = C_RB + CA\n",
    "print(\"C_RB = \\n{}\".format(C_RB))\n",
    "print(\"CA = \\n{}\".format(CA))\n",
    "print(\"C = \\n{}\".format(C))\n"
   ]
  },
  {
   "cell_type": "code",
   "execution_count": 7,
   "metadata": {},
   "outputs": [
    {
     "name": "stdout",
     "output_type": "stream",
     "text": [
      "DL = \n",
      "[[-4.03 -0.   -0.   -0.   -0.   -0.  ]\n",
      " [-0.   -6.22 -0.   -0.   -0.   -0.  ]\n",
      " [-0.   -0.   -5.18 -0.   -0.   -0.  ]\n",
      " [-0.   -0.   -0.   -0.07 -0.   -0.  ]\n",
      " [-0.   -0.   -0.   -0.   -0.07 -0.  ]\n",
      " [-0.   -0.   -0.   -0.   -0.   -0.07]]\n",
      "DQ = \n",
      "[[-18.18*u 0 0 0 0 0]\n",
      " [0 -21.66*v 0 0 0 0]\n",
      " [0 0 -36.99*w 0 0 0]\n",
      " [0 0 0 -1.55*p 0 0]\n",
      " [0 0 0 0 -1.55*q 0]\n",
      " [0 0 0 0 0 -1.55*r]]\n",
      "C = \n",
      "[[0.0 0.0 0.0 0 21.88*w -20.01*v]\n",
      " [0.0 0.0 0.0 -21.88*w 0 12.81*u]\n",
      " [0.0 0.0 0.0 20.01*v -12.81*u 0]\n",
      " [0 7.26*w -5.39*v 0 0.28*r -0.28*q]\n",
      " [-7.26*w 0 -1.81*u -0.28*r 0 0.28*p]\n",
      " [5.39*v 1.81*u 0 0.28*q -0.28*p 0]]\n"
     ]
    }
   ],
   "source": [
    "#Matriz de amortiguamiento hidrodinamico\n",
    "DL = np.array([Xu,Yv,Zw,Kp,Mq,Nr]) * np.eye(6)\n",
    "DQ = np.array([Xuu*u,Yvv*v,Zww*w,Kpp*p,Mqq*q,Nrr*r]) * np.eye(6)\n",
    "D = DL + DQ\n",
    "print(\"DL = \\n{}\".format(DL))\n",
    "print(\"DQ = \\n{}\".format(DQ))\n",
    "print(\"C = \\n{}\".format(C))\n"
   ]
  },
  {
   "cell_type": "code",
   "execution_count": 8,
   "metadata": {},
   "outputs": [
    {
     "name": "stdout",
     "output_type": "stream",
     "text": [
      "T = \n",
      "[[ 0.00e+00  0.00e+00  0.00e+00  1.00e+00  1.00e+00  0.00e+00]\n",
      " [ 0.00e+00  7.31e+00  0.00e+00  0.00e+00  0.00e+00  1.00e+00]\n",
      " [-1.00e+00 -1.00e+00 -1.00e+00  0.00e+00  0.00e+00  0.00e+00]\n",
      " [ 1.11e-04 -1.11e-04 -0.00e+00  0.00e+00  0.00e+00 -9.50e-05]\n",
      " [ 1.53e-04  1.53e-04 -1.99e-04 -1.40e-05 -1.40e-05  0.00e+00]\n",
      " [ 0.00e+00  0.00e+00  0.00e+00 -1.11e-04  1.11e-04  8.00e-06]]\n",
      "C+ = \n",
      "[[0.000333 0.       0.       0.       0.       0.      ]\n",
      " [0.       0.000333 0.       0.       0.       0.      ]\n",
      " [0.       0.       0.000224 0.       0.       0.      ]\n",
      " [0.       0.       0.       0.000241 0.       0.      ]\n",
      " [0.       0.       0.       0.       0.000241 0.      ]\n",
      " [0.       0.       0.       0.       0.       0.000243]]\n",
      "TC+ = \n",
      "[[ 0.00000e+00  0.00000e+00  0.00000e+00  2.41000e-04  2.41000e-04\n",
      "   0.00000e+00]\n",
      " [ 0.00000e+00  2.43423e-03  0.00000e+00  0.00000e+00  0.00000e+00\n",
      "   2.43000e-04]\n",
      " [-3.33000e-04 -3.33000e-04 -2.24000e-04  0.00000e+00  0.00000e+00\n",
      "   0.00000e+00]\n",
      " [ 3.69630e-08 -3.69630e-08  0.00000e+00  0.00000e+00  0.00000e+00\n",
      "  -2.30850e-08]\n",
      " [ 5.09490e-08  5.09490e-08 -4.45760e-08 -3.37400e-09 -3.37400e-09\n",
      "   0.00000e+00]\n",
      " [ 0.00000e+00  0.00000e+00  0.00000e+00 -2.67510e-08  2.67510e-08\n",
      "   1.94400e-09]]\n",
      "C = \n",
      "[[0.0 0.0 0.0 0 21.88*w -20.01*v]\n",
      " [0.0 0.0 0.0 -21.88*w 0 12.81*u]\n",
      " [0.0 0.0 0.0 20.01*v -12.81*u 0]\n",
      " [0 7.26*w -5.39*v 0 0.28*r -0.28*q]\n",
      " [-7.26*w 0 -1.81*u -0.28*r 0 0.28*p]\n",
      " [5.39*v 1.81*u 0 0.28*q -0.28*p 0]]\n"
     ]
    }
   ],
   "source": [
    "#Matriz de configuracion de los propulsores T\n",
    "T= np.array([[     0        ,        0      ,        0      ,      1        ,       1     ,          0      ],\n",
    "             [     0        ,        m      ,        0      ,      0        ,       0     ,          1      ],\n",
    "             [    -1        ,        -1     ,        -1     ,      0        ,       0     ,          0      ],\n",
    "             [   -ly1       ,      -ly2     ,      -ly3     ,      0        ,       0     ,        -lz6     ],\n",
    "             [    lx1       ,        lx2    ,       lx3     ,     lz4       ,      lz5    ,          0      ],\n",
    "             [     0        ,        0      ,        0      ,    -ly4       ,     -ly5    ,         lx6     ]])\n",
    "Cmas = np.array([Cmas1,Cmas2,Cmas3,Cmas4,Cmas5,Cmas6]) * np.eye(6)\n",
    "TC = np.dot(T,Cmas)\n",
    "print(\"T = \\n{}\".format(T))\n",
    "print(\"C+ = \\n{}\".format(Cmas))\n",
    "print(\"TC+ = \\n{}\".format(TC))\n",
    "\n",
    "print(\"C = \\n{}\".format(C))\n"
   ]
  },
  {
   "cell_type": "code",
   "execution_count": 94,
   "metadata": {},
   "outputs": [
    {
     "name": "stdout",
     "output_type": "stream",
     "text": [
      "[-6.67*sin(theta), 6.67*sin(phi)*cos(theta), 6.67*cos(phi)*cos(theta), -0.0148922*sin(phi)*cos(theta), 0.0148922*sin(theta), 0]\n",
      "C = \n",
      "[[0.0 0.0 0.0 0 21.88*w -20.01*v]\n",
      " [0.0 0.0 0.0 -21.88*w 0 12.81*u]\n",
      " [0.0 0.0 0.0 20.01*v -12.81*u 0]\n",
      " [0 7.26*w -5.39*v 0 0.28*r -0.28*q]\n",
      " [-7.26*w 0 -1.81*u -0.28*r 0 0.28*p]\n",
      " [5.39*v 1.81*u 0 0.28*q -0.28*p 0]]\n"
     ]
    }
   ],
   "source": [
    "#Vector de fuerza gravitacional y de empuje\n",
    "\n",
    "g = [                         (W-B)*sin(theta)                             ,    \n",
    "                         -(W-B)*cos(theta)*sin(phi)                        ,    \n",
    "                         -(W-B)*cos(theta)*cos(phi)                        ,     \n",
    "     -((yg*W)-(yb*B))*cos(theta)*cos(phi) + (zg*w-zb*B)*cos(theta)*sin(phi),\n",
    "           -((zg*W)-(zb*B))*sin(theta) + (xg*W-xb*B)*cos(theta)*cos(phi)   ,\n",
    "       -((xg*W)-(xb*B))*cos(theta)*sin(phi) - (yg*W-yb*B)*sin(theta)         ]\n",
    "print(g)\n",
    "print(\"C = \\n{}\".format(C))\n"
   ]
  },
  {
   "cell_type": "code",
   "execution_count": 95,
   "metadata": {},
   "outputs": [
    {
     "name": "stdout",
     "output_type": "stream",
     "text": [
      "M = \n",
      "[[ 0.55248619  0.          0.          0.          0.          0.        ]\n",
      " [-0.         -0.18552876 -0.         -0.         -0.         -0.        ]\n",
      " [-0.         -0.         -0.13774105 -0.         -0.         -0.        ]\n",
      " [ 0.          0.          0.         -3.57142857  0.          0.        ]\n",
      " [ 0.          0.          0.          0.         25.          0.        ]\n",
      " [ 0.          0.          0.          0.          0.         25.        ]]\n",
      "C = \n",
      "[[0.0 0.0 0.0 0 21.88*w -20.01*v]\n",
      " [0.0 0.0 0.0 -21.88*w 0 12.81*u]\n",
      " [0.0 0.0 0.0 20.01*v -12.81*u 0]\n",
      " [0 7.26*w -5.39*v 0 0.28*r -0.28*q]\n",
      " [-7.26*w 0 -1.81*u -0.28*r 0 0.28*p]\n",
      " [5.39*v 1.81*u 0 0.28*q -0.28*p 0]]\n",
      "V = \n",
      "[u v w p q r]\n",
      "Vdot = \n",
      "-q*(-38.75*q - 1.75) + 226.75*u*w + 1.273725e-6*u1 + 1.273725e-6*u2 - 1.1144e-6*u3 - 8.435e-8*u4 - 8.435e-8*u5 - 0.0148922*sin(theta)\n",
      "[u*cos(psi)*cos(theta) + v*(sin(phi)*sin(theta)*cos(psi) - sin(psi)*cos(phi)) + w*(sin(phi)*sin(psi) + sin(theta)*cos(phi)*cos(psi))\n",
      " u*sin(psi)*cos(theta) + v*(sin(phi)*sin(psi)*sin(theta) + cos(phi)*cos(psi)) + w*(-sin(phi)*cos(psi) + sin(psi)*sin(theta)*cos(phi))\n",
      " -u*sin(theta) + v*sin(phi)*cos(theta) + w*cos(phi)*cos(theta)\n",
      " 1.1*p + q*sin(phi)*sin(theta)/cos(theta) + r*sin(theta)*cos(phi)/cos(theta)\n",
      " q*cos(phi) - r*sin(phi) q*sin(phi)/cos(theta) + 1.1*r]\n"
     ]
    }
   ],
   "source": [
    "#Se replantea la ecuacion diferencial despejando Vdot\n",
    "# INGRESO\n",
    "D_ = np.dot(np.dot(  np.linalg.inv(M) ,  D ) ,V)  #M-1*D*V\n",
    "T_ = np.dot(np.dot(  np.linalg.inv(M) ,  TC) ,U) #M-1*TC+*V\n",
    "print(\"M = \\n{}\".format( np.linalg.inv(M)))\n",
    "print(\"C = \\n{}\".format(C))\n",
    "print(\"V = \\n{}\".format(V))\n",
    "\n",
    "C_ = np.dot(np.dot(  np.linalg.inv(M) ,  C ) ,V)  #M-1*C*V\n",
    "\n",
    "Vdott = -C_ -D_ -g + T_\n",
    "print(\"Vdot = \\n{}\".format(Vdott[4]))\n",
    "\n",
    "\n",
    "#Se expresa ndot y de esta forma tenemos nuestro sistema de 12 ecuaciones diferenciales no lineales\n",
    "\n",
    "ndott = np.dot(J,V) #Vector de velocidad en el marco de referencia\n",
    "print(ndott)"
   ]
  },
  {
   "cell_type": "code",
   "execution_count": null,
   "metadata": {},
   "outputs": [],
   "source": []
  },
  {
   "cell_type": "code",
   "execution_count": 105,
   "metadata": {},
   "outputs": [],
   "source": [
    "def ResolvEcuations(Vdot,ndot,VSym,nSym,USym,V_ant,n_ant,U,dt): #Retorna acelaraciones locales y velocidades inerciales\n",
    "    Values = []\n",
    "    for i in range(6):\n",
    "        Values.append((VSym.item(i),V_ant.item(i))) #Agrega tupla de (symbolo valor)   \n",
    "        Values.append((nSym.item(i),n_ant.item(0))) #Agrega tupla de (symbolo valor)\n",
    "        Values.append((USym.item(i),U.item(0)))     #Agrega tupla de (symbolo valor)\n",
    " \n",
    "    _Vdot =[]\n",
    "    _ndot =[]\n",
    "    for i in range(6):\n",
    "        _Vdot.append(Vdot[i].subs(Values))\n",
    "        _ndot.append(ndot[i].subs(Values))\n",
    "    if(n_ant[2] == 0):\n",
    "        _Vdot[2]=0\n",
    "    \n",
    "    return [_Vdot*dt,_ndot*dt]\n",
    "    \n",
    "def IntegerEcuations(Vdot,ndot,VSym,nSym,USym,V_ant,n_ant,U,dt,T):\n",
    "    VdotValue,ndotValue = ResolvEcuations(Vdott,ndott,V,n,U,ceros,ceros,ceros,1)"
   ]
  },
  {
   "cell_type": "code",
   "execution_count": 107,
   "metadata": {},
   "outputs": [
    {
     "name": "stdout",
     "output_type": "stream",
     "text": [
      "[(u, 0.0), (x, 0.0), (u1, 0.0), (v, 0.0), (y, 0.0), (u2, 0.0), (w, 0.0), (z, 0.0), (u3, 0.0), (p, 0.0), (theta, 0.0), (u4, 0.0), (q, 0.0), (phi, 0.0), (u5, 0.0), (r, 0.0), (psi, 0.0), (u6, 0.0)]\n"
     ]
    }
   ],
   "source": [
    "ceros = np.zeros(6)\n",
    "for i in \n",
    "ResolvEcuations(Vdott,ndott,V,n,U,ceros,ceros,ceros,1)"
   ]
  },
  {
   "cell_type": "code",
   "execution_count": null,
   "metadata": {},
   "outputs": [],
   "source": [
    "\n",
    "f_np = lambdify([u,v,w,p,q,r], Vdott[0])\n",
    "\n",
    "y0 = 0\n",
    "xp = np.linspace(0, 1.9, 100)\n",
    "X = [xp,xp,xp,xp,xp,xp]\n",
    "# Calculando la solución numerica para los valores de y0 y xp\n",
    "yp = integrate.odeint(f_np, [0,0,0,0,0,0], X)"
   ]
  },
  {
   "cell_type": "code",
   "execution_count": null,
   "metadata": {},
   "outputs": [],
   "source": [
    "V0 = [0,0,0,0,0,0]\n",
    "Up = [x,x,x,x,x,x]\n",
    "print(Vdott)\n",
    "#yn = integrate.odeint(f_np, V0, Up)"
   ]
  },
  {
   "cell_type": "code",
   "execution_count": null,
   "metadata": {},
   "outputs": [],
   "source": []
  }
 ],
 "metadata": {
  "kernelspec": {
   "display_name": "Python 3",
   "language": "python",
   "name": "python3"
  },
  "language_info": {
   "codemirror_mode": {
    "name": "ipython",
    "version": 3
   },
   "file_extension": ".py",
   "mimetype": "text/x-python",
   "name": "python",
   "nbconvert_exporter": "python",
   "pygments_lexer": "ipython3",
   "version": "3.7.3"
  }
 },
 "nbformat": 4,
 "nbformat_minor": 2
}
