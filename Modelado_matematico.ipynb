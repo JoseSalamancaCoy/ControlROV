{
 "cells": [
  {
   "cell_type": "code",
   "execution_count": 1,
   "metadata": {},
   "outputs": [],
   "source": [
    "import matplotlib.pyplot as plt\n",
    "import numpy as np\n",
    "import sympy as sympy\n",
    "from scipy import *\n",
    "from scipy import integrate\n",
    "from scipy.integrate import ode"
   ]
  },
  {
   "cell_type": "code",
   "execution_count": 2,
   "metadata": {},
   "outputs": [],
   "source": [
    "#Importa Parametros de control\n",
    "\n",
    "f = open ('parrov_bluerov.txt','r')\n",
    "D={}\n",
    "for i in f:\n",
    "    [clave, valor]= i.split(\"=\")\n",
    "    D[clave] = float(valor[:-2])\n",
    "f.close()\n",
    "#Se asignan las variables... esto se hace para que sea sencillo describir mas adelante las matrices .... Ya estan los C+ y C- ??\n",
    "[m,xg,yg,zg,xb,yb,zb,Ix,Iy,Iz,Ixy,Ixz,Iyz,W,B,Xu,Yv,Zw,Kp,Mq,Nr,Xudot,Yvdot,Zwdot,Kpdot,Mqdot,Nrdot,Xuu,Yvv,Zww,Kpp,Mqq,Nrr,lx1,ly1,lz1,lx2,ly2,lz2,lx3,ly3,lz3,lx4,ly4,lz4,lx5,ly5,lz5,lx6,ly6,lz6,Cmas1,Cmas2,Cmas3,Cmas4,Cmas5,Cmas6,Cmenos1,Cmenos2,Cmenos3,Cmenos4,Cmenos5,Cmenos6 ]   =   [D['m'],D['xg'],D['yg'],D['zg'],D['xb'],D['yb'],D['zb'],D['Ix'],D['Iy'],D['Iz'],D['Ixy'],D['Ixz'],D['Iyz'],D['W'],D['B'],D['Xu'],D['Yv'],D['Zw'],D['Kp'],D['Mq'],D['Nr'],D['Xudot'],D['Yvdot'],D['Zwdot'],D['Kpdot'],D['Mqdot'],D['Nrdot'],D['Xuu'],D['Yvv'],D['Zww'],D['Kpp'],D['Mqq'],D['Nrr'],D['lx1'],D['ly1'],D['lz1'],D['lx2'],D['ly2'],D['lz2'],D['lx3'],D['ly3'],D['lz3'],D['lx4'],D['ly4'],D['lz4'],D['lx5'],D['ly5'],D['lz5'],D['lx6'],D['ly6'],D['lz6'],0.000333,0.000333,0.000224,0.000241,0.000241,0.000243,0.000368,0.000368,0.000227,0.000175,0.000175,0.000229]\n",
    "\n",
    "\n"
   ]
  },
  {
   "cell_type": "code",
   "execution_count": 3,
   "metadata": {},
   "outputs": [],
   "source": [
    "#Se crean las variables simbolicas dependientes e independientes\n",
    "\n",
    "#Entradas para el modelo dinamico .... Torques aplicados por los propulsores\n",
    "u1 = sympy.Symbol('u1')\n",
    "u2 = sympy.Symbol('u2')\n",
    "u3 = sympy.Symbol('u3')\n",
    "u4 = sympy.Symbol('u4')\n",
    "u5 = sympy.Symbol('u5')\n",
    "u6 = sympy.Symbol('u6')\n",
    "t = sympy.symbols(\"t\", positive=True) #Tiempo\n",
    "U= np.array([u1,u2,u3,u4,u5,u6]) # Se define el vector de entradas\n",
    "\n",
    "#Salidas de mi modelo dinamico... o velocidades en el marco de referencia local\n",
    "u = sympy.Function('u')\n",
    "v = sympy.Function('v')\n",
    "w = sympy.Function('w')\n",
    "p = sympy.Function('p')\n",
    "q = sympy.Function('q')\n",
    "r = sympy.Function('r')\n",
    "V = np.array([u,v,w,p,q,r])\n",
    "Vdot = [] #Vector aceleracion en el marco de referencia\n",
    "for i in V:\n",
    "    Vdot.append(i(t).diff(t))\n",
    "\n"
   ]
  },
  {
   "cell_type": "code",
   "execution_count": 4,
   "metadata": {},
   "outputs": [
    {
     "name": "stdout",
     "output_type": "stream",
     "text": [
      "M_RB = \n",
      "[[ 7.31  0.    0.    0.    0.   -0.  ]\n",
      " [ 0.    7.31  0.   -0.    0.    0.  ]\n",
      " [ 0.    0.    7.31  0.   -0.    0.  ]\n",
      " [ 0.   -0.    0.   -0.16 -0.   -0.  ]\n",
      " [ 0.    0.   -0.   -0.    0.16 -0.  ]\n",
      " [-0.    0.    0.   -0.   -0.    0.16]]\n",
      "M_A = \n",
      "[[ -5.5   -0.    -0.    -0.    -0.    -0.  ]\n",
      " [ -0.   -12.7   -0.    -0.    -0.    -0.  ]\n",
      " [ -0.    -0.   -14.57  -0.    -0.    -0.  ]\n",
      " [ -0.    -0.    -0.    -0.12  -0.    -0.  ]\n",
      " [ -0.    -0.    -0.    -0.    -0.12  -0.  ]\n",
      " [ -0.    -0.    -0.    -0.    -0.    -0.12]]\n",
      "M = \n",
      "[[ 1.81  0.    0.    0.    0.   -0.  ]\n",
      " [ 0.   -5.39  0.   -0.    0.    0.  ]\n",
      " [ 0.    0.   -7.26  0.   -0.    0.  ]\n",
      " [ 0.   -0.    0.   -0.28 -0.   -0.  ]\n",
      " [ 0.    0.   -0.   -0.    0.04 -0.  ]\n",
      " [-0.    0.    0.   -0.   -0.    0.04]]\n"
     ]
    }
   ],
   "source": [
    "#Matriz M\n",
    "#Matriz M_RB                     \n",
    "M_RB = np.array([[     m        ,        0      ,        0      ,      0        ,     m*zg     ,       -m*yg    ],\n",
    "                 [     0        ,        m      ,        0      ,    -m*zg      ,       0      ,        m*xg    ],\n",
    "                 [     0        ,        0      ,        m      ,     m*yg      ,    -m*xg     ,          0     ],\n",
    "                 [     0        ,      -m*zg    ,       m*yg    ,     -Ix       ,    -Ixy      ,        -Ixz    ],\n",
    "                 [    m*zg      ,        0      ,      -m*xg    ,     -Ixy      ,     Iy       ,        -Iyz    ],\n",
    "                 [   -m*yg      ,       m*xg    ,        0      ,     -Ixz      ,     -Iyz     ,         Iz     ]])\n",
    "#Matriz M_A\n",
    "M_A = np.array([Xudot,Yvdot,Zwdot,Kpdot,Mqdot,Nrdot]) * np.eye(6) # MUltiplica vector valores con matris identidad 6x6\n",
    "\n",
    "M= M_RB + M_A\n",
    "\n",
    "print(\"M_RB = \\n{}\".format(M_RB))\n",
    "print(\"M_A = \\n{}\".format(M_A))\n",
    "print(\"M = \\n{}\".format(M))"
   ]
  },
  {
   "cell_type": "code",
   "execution_count": 5,
   "metadata": {},
   "outputs": [
    {
     "name": "stdout",
     "output_type": "stream",
     "text": [
      "C11 = \n",
      "[[0. 0. 0.]\n",
      " [0. 0. 0.]\n",
      " [0. 0. 0.]]\n",
      "C12 = \n",
      "[[0 7.31*w(t) -7.31*v(t)]\n",
      " [-7.31*w(t) 0 7.31*u(t)]\n",
      " [7.31*v(t) -7.31*u(t) 0]]\n",
      "C21 = \n",
      "[[0 -7.31*w(t) 7.31*v(t)]\n",
      " [7.31*w(t) 0 -7.31*u(t)]\n",
      " [-7.31*v(t) 7.31*u(t) 0]]\n",
      "C22 = \n",
      "[[0 0.16*r(t) -0.16*q(t)]\n",
      " [-0.16*r(t) 0 0.16*p(t)]\n",
      " [0.16*q(t) -0.16*p(t) 0]]\n",
      "[[0 7.31*w(t) -7.31*v(t)]\n",
      " [-7.31*w(t) 0 7.31*u(t)]\n",
      " [7.31*v(t) -7.31*u(t) 0]]\n"
     ]
    },
    {
     "ename": "NameError",
     "evalue": "name 'C' is not defined",
     "output_type": "error",
     "traceback": [
      "\u001b[1;31m---------------------------------------------------------------------------\u001b[0m",
      "\u001b[1;31mNameError\u001b[0m                                 Traceback (most recent call last)",
      "\u001b[1;32m<ipython-input-5-b4d2a45d013c>\u001b[0m in \u001b[0;36m<module>\u001b[1;34m\u001b[0m\n\u001b[0;32m     26\u001b[0m \u001b[1;33m\u001b[0m\u001b[0m\n\u001b[0;32m     27\u001b[0m \u001b[0mprint\u001b[0m\u001b[1;33m(\u001b[0m\u001b[0mC_RB\u001b[0m\u001b[1;33m[\u001b[0m\u001b[1;36m1\u001b[0m\u001b[1;33m]\u001b[0m\u001b[1;33m)\u001b[0m\u001b[1;33m\u001b[0m\u001b[1;33m\u001b[0m\u001b[0m\n\u001b[1;32m---> 28\u001b[1;33m \u001b[0mprint\u001b[0m\u001b[1;33m(\u001b[0m\u001b[1;34m\"C = \\n{}\"\u001b[0m\u001b[1;33m.\u001b[0m\u001b[0mformat\u001b[0m\u001b[1;33m(\u001b[0m\u001b[0mC\u001b[0m\u001b[1;33m)\u001b[0m\u001b[1;33m)\u001b[0m\u001b[1;33m\u001b[0m\u001b[1;33m\u001b[0m\u001b[0m\n\u001b[0m",
      "\u001b[1;31mNameError\u001b[0m: name 'C' is not defined"
     ]
    }
   ],
   "source": [
    "#Matriz C.... Matriz de fuerzas centrípeta y Coriolis\n",
    "#Matriz C_RB\n",
    "#Matriz C12 \n",
    "C12 = np.array([[ m*(yg*q(t) +zg*r(t)), -m*(xg*q(t)-w(t))  , -m*(xg*r(t)+v(t))  ],\n",
    "                [ -m*(yg*p(t)+w(t))   , m*(zg*r(t)+xg*p(t)), -m*(yg*r(t)-u(t))  ],\n",
    "                [ -m*(zg*p(t)-v(t))   , -m*(zg*q(t)+u(t))  , m*(xg*p(t)+yg*q(t))]])\n",
    "\n",
    "C22 = np.array([[         0                 ,-Iyz*q(t)-Ixz*p(t)+Iz*r(t), Iyz*r(t)+Ixy*p(t)-Iy*q(t)],\n",
    "                [ Iyz*q(t)+Ixz*p(t)-+Iz*r(t),          0               ,-Ixz*r(t)-Ixy*q(t)+Iy*p(t)],\n",
    "                [-Iyz*r(t)-Ixy*p(t)+Iy*q(t) , Ixz*r(t)+Ixy*q(t)-Iy*p(t), 0                  ]])\n",
    "Ceros3x3 = np.eye(3)*0 #Crea matriz 3x3 de Ceros\n",
    "C21 = np.transpose(C12) # Transpuesta de C12\n",
    "C_RB = np.array([Ceros3x3    ,     C12, C21       ,     C22  ])\n",
    "print(\"C11 = \\n{}\".format(Ceros3x3))\n",
    "print(\"C12 = \\n{}\".format(C12))\n",
    "print(\"C21 = \\n{}\".format(C21))\n",
    "print(\"C22 = \\n{}\".format(C22))\n",
    "\n",
    "\n",
    "CA = np.array([[     0        ,        0      ,        0      ,      0        , -Zwdot*w(t)  ,     Yvdot*v(t) ],\n",
    "               [     0        ,        0      ,        0      ,  Zwdot*w(t)   ,       0      ,    -Xudot*u(t) ],\n",
    "               [     0        ,        0      ,        0      , -Yvdot*v(t)   ,  Xudot*u(t)  ,          0     ],\n",
    "               [      0       , -Zwdot*w(t)   ,    Yvdot*v(t) ,      0        , -Nrdot*r(t)  ,     Mqdot*q(t) ],\n",
    "               [  Zwdot*w(t)  ,        0      ,   -Xudot*u(t) ,  Nrdot*r(t)   ,       0      ,    -Kpdot*p(t) ],\n",
    "               [ -Yvdot*v(t)  ,  Xudot*u(t)   ,          0    , -Mqdot*q(t)   ,  Kpdot*p(t)  ,          0     ]])\n",
    "\n",
    "print(C_RB[1])\n",
    "print(\"C = \\n{}\".format(C))\n"
   ]
  },
  {
   "cell_type": "code",
   "execution_count": 6,
   "metadata": {},
   "outputs": [
    {
     "name": "stdout",
     "output_type": "stream",
     "text": [
      "T = \n",
      "[[ 0.00e+00  0.00e+00  0.00e+00  1.00e+00  1.00e+00  0.00e+00]\n",
      " [ 0.00e+00  7.31e+00  0.00e+00  0.00e+00  0.00e+00  1.00e+00]\n",
      " [-1.00e+00 -1.00e+00 -1.00e+00  0.00e+00  0.00e+00  0.00e+00]\n",
      " [ 1.11e-04 -1.11e-04 -0.00e+00  0.00e+00  0.00e+00 -9.50e-05]\n",
      " [ 1.53e-04  1.53e-04 -1.99e-04 -1.40e-05 -1.40e-05  0.00e+00]\n",
      " [ 0.00e+00  0.00e+00  0.00e+00 -1.11e-04  1.11e-04  8.00e-06]]\n",
      "C+ = \n",
      "[[0.000333 0.       0.       0.       0.       0.      ]\n",
      " [0.       0.000333 0.       0.       0.       0.      ]\n",
      " [0.       0.       0.000224 0.       0.       0.      ]\n",
      " [0.       0.       0.       0.000241 0.       0.      ]\n",
      " [0.       0.       0.       0.       0.000241 0.      ]\n",
      " [0.       0.       0.       0.       0.       0.000243]]\n"
     ]
    }
   ],
   "source": [
    "#Matriz de configuracion de los propulsores T\n",
    "T= np.array([[     0        ,        0      ,        0      ,      1        ,       1     ,          0      ],\n",
    "             [     0        ,        m      ,        0      ,      0        ,       0     ,          1      ],\n",
    "             [    -1        ,        -1     ,        -1     ,      0        ,       0     ,          0      ],\n",
    "             [   -ly1       ,      -ly2     ,      -ly3     ,      0        ,       0     ,        -lz6     ],\n",
    "             [    lx1       ,        lx2    ,       lx3     ,     lz4       ,      lz5    ,          0      ],\n",
    "             [     0        ,        0      ,        0      ,    -ly4       ,     -ly5    ,         lx6     ]])\n",
    "Cmas = np.array([Cmas1,Cmas2,Cmas3,Cmas4,Cmas5,Cmas6]) * np.eye(6)\n",
    "print(\"T = \\n{}\".format(T))\n",
    "print(\"C+ = \\n{}\".format(Cmas))"
   ]
  },
  {
   "cell_type": "code",
   "execution_count": 7,
   "metadata": {},
   "outputs": [
    {
     "data": {
      "text/latex": [
       "$\\displaystyle w{\\left(t \\right)} = C_{1} + \\frac{t \\left(333 u_{1} + 333 u_{2} + 224 u_{3}\\right)}{7260000}$"
      ],
      "text/plain": [
       "Eq(w(t), C1 + t*(333*u1 + 333*u2 + 224*u3)/7260000)"
      ]
     },
     "execution_count": 7,
     "metadata": {},
     "output_type": "execute_result"
    }
   ],
   "source": [
    "f = np.dot(M,Vdot) #Multiplicacion de matriz vector\n",
    "torques= np.dot(np.dot(T,Cmas),U)\n",
    "\n",
    "sympy.dsolve(f[2]-torques[2])"
   ]
  },
  {
   "cell_type": "code",
   "execution_count": null,
   "metadata": {},
   "outputs": [],
   "source": []
  }
 ],
 "metadata": {
  "kernelspec": {
   "display_name": "Python 3",
   "language": "python",
   "name": "python3"
  },
  "language_info": {
   "codemirror_mode": {
    "name": "ipython",
    "version": 3
   },
   "file_extension": ".py",
   "mimetype": "text/x-python",
   "name": "python",
   "nbconvert_exporter": "python",
   "pygments_lexer": "ipython3",
   "version": "3.7.3"
  }
 },
 "nbformat": 4,
 "nbformat_minor": 2
}
