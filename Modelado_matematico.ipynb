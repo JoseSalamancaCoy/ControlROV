{
 "cells": [
  {
   "cell_type": "code",
   "execution_count": 365,
   "metadata": {},
   "outputs": [],
   "source": [
    "import matplotlib.pyplot as plt\n",
    "import numpy as np\n",
    "import matplotlib.mlab as mlab\n",
    "import matplotlib.gridspec as gridspec\n",
    "import numpy as np\n",
    "import os\n",
    "from sympy import *\n",
    "\n",
    "from scipy import *\n",
    "from scipy import integrate\n",
    "from scipy.integrate import ode\n",
    "\n",
    "from jupyter_client.manager import KernelManager\n",
    "from ipykernel import kernelapp as app\n",
    "\n"
   ]
  },
  {
   "cell_type": "code",
   "execution_count": 366,
   "metadata": {},
   "outputs": [],
   "source": [
    "#Importa Parametros de control\n",
    "\n",
    "f = open ('parrov_bluerov.txt','r')\n",
    "D={}\n",
    "for i in f:\n",
    "    [clave, valor]= i.split(\"=\")\n",
    "    D[clave] = float(valor[:-2])\n",
    "f.close()\n",
    "#Se asignan las variables... esto se hace para que sea sencillo describir mas adelante las matrices .... Ya estan los C+ y C- ??\n",
    "[m,xg,yg,zg,xb,yb,zb,Ix,Iy,Iz,Ixy,Ixz,Iyz,W,B,Xu,Yv,Zw,Kp,Mq,Nr,Xudot,Yvdot,Zwdot,Kpdot,Mqdot,Nrdot,Xuu,Yvv,Zww,Kpp,Mqq,Nrr,lx1,ly1,lz1,lx2,ly2,lz2,lx3,ly3,lz3,lx4,ly4,lz4,lx5,ly5,lz5,lx6,ly6,lz6,Cmas1,Cmas2,Cmas3,Cmas4,Cmas5,Cmas6,Cmenos1,Cmenos2,Cmenos3,Cmenos4,Cmenos5,Cmenos6 ]   =   [D['m'],D['xg'],D['yg'],D['zg'],D['xb'],D['yb'],D['zb'],D['Ix'],D['Iy'],D['Iz'],D['Ixy'],D['Ixz'],D['Iyz'],D['W'],D['B'],D['Xu'],D['Yv'],D['Zw'],D['Kp'],D['Mq'],D['Nr'],D['Xudot'],D['Yvdot'],D['Zwdot'],D['Kpdot'],D['Mqdot'],D['Nrdot'],D['Xuu'],D['Yvv'],D['Zww'],D['Kpp'],D['Mqq'],D['Nrr'],D['lx1'],D['ly1'],D['lz1'],D['lx2'],D['ly2'],D['lz2'],D['lx3'],D['ly3'],D['lz3'],D['lx4'],D['ly4'],D['lz4'],D['lx5'],D['ly5'],D['lz5'],D['lx6'],D['ly6'],D['lz6'],0.000333,0.000333,0.000224,0.000241,0.000241,0.000243,0.000368,0.000368,0.000227,0.000175,0.000175,0.000229]\n",
    "\n",
    "\n"
   ]
  },
  {
   "cell_type": "code",
   "execution_count": 367,
   "metadata": {},
   "outputs": [],
   "source": [
    "#Se crean las variables simbolicas dependientes e independientes\n",
    "\n",
    "#Entradas para el modelo dinamico .... Torques aplicados por los propulsores\n",
    "u1 = symbols('u1')\n",
    "u2 = symbols('u2')\n",
    "u3 = symbols('u3')\n",
    "u4 = symbols('u4')\n",
    "u5 = symbols('u5')\n",
    "u6 = symbols('u6')\n",
    "U= np.array([u1,u2,u3,u4,u5,u6]) # Se define el vector de entradas\n",
    "\n",
    "#Salidas de mi modelo dinamico... o velocidades en el marco de referencia local\n",
    "u = symbols('u')\n",
    "v = symbols('v')\n",
    "w = symbols('w')\n",
    "p = symbols('p')\n",
    "q = symbols('q')\n",
    "r = symbols('r')\n",
    "V = np.array([u,v,w,p,q,r])\n",
    "t = symbols(\"t\") #Tiempo\n",
    "\n",
    "#Salidas de posiciones lineales y angulares del marco de referencia inercial en funcion a las velocidades del marco local\n",
    "x = symbols('x')\n",
    "y = symbols('y')\n",
    "z = symbols('z')\n",
    "theta = symbols('theta')\n",
    "phi = symbols('phi')\n",
    "psi = symbols('psi')\n",
    "n = np.array([x,y,z,phi,theta,psi])\n",
    "\n"
   ]
  },
  {
   "cell_type": "code",
   "execution_count": 368,
   "metadata": {},
   "outputs": [
    {
     "name": "stdout",
     "output_type": "stream",
     "text": [
      "J1 = \n",
      "[[cos(psi)*cos(theta) sin(phi)*sin(theta)*cos(psi) - sin(psi)*cos(phi)\n",
      "  sin(phi)*sin(psi) + sin(theta)*cos(phi)*cos(psi)]\n",
      " [sin(psi)*cos(theta) sin(phi)*sin(psi)*sin(theta) + cos(phi)*cos(psi)\n",
      "  -sin(phi)*cos(psi) + sin(psi)*sin(theta)*cos(phi)]\n",
      " [-sin(theta) sin(phi)*cos(theta) cos(phi)*cos(theta)]]\n",
      "J2 = \n",
      "[[1.0 sin(phi)*sin(theta)/cos(theta) sin(theta)*cos(phi)/cos(theta)]\n",
      " [0.0 cos(phi) -sin(phi)]\n",
      " [0.0 sin(phi)/cos(theta) 1.0]]\n",
      "J = \n",
      "[[cos(psi)*cos(theta) sin(phi)*sin(theta)*cos(psi) - sin(psi)*cos(phi)\n",
      "  sin(phi)*sin(psi) + sin(theta)*cos(phi)*cos(psi) 0.0 0.0 0.0]\n",
      " [sin(psi)*cos(theta) sin(phi)*sin(psi)*sin(theta) + cos(phi)*cos(psi)\n",
      "  -sin(phi)*cos(psi) + sin(psi)*sin(theta)*cos(phi) 0.0 0.0 0.0]\n",
      " [-sin(theta) sin(phi)*cos(theta) cos(phi)*cos(theta) 0.0 0.0 0.0]\n",
      " [0.0 0.0 0.0 1.0 sin(phi)*sin(theta)/cos(theta)\n",
      "  sin(theta)*cos(phi)/cos(theta)]\n",
      " [0.0 0.0 0.0 0.0 cos(phi) -sin(phi)]\n",
      " [0.0 0.0 0.0 0.0 sin(phi)/cos(theta) 1.0]]\n"
     ]
    }
   ],
   "source": [
    "#Se construye la matriz J1 y J2 y finalmente J2\n",
    "from sympy import *\n",
    "\n",
    "J1 = np.array([[cos(theta)*cos(psi),(-cos(phi)*sin(psi))+(sin(phi)*sin(theta)*cos(psi)), (sin(phi)*sin(psi))+ (cos(phi)*sin(theta)*cos(psi))],\n",
    "               [cos(theta)*sin(psi),(cos(phi)*cos(psi))+(sin(phi)*sin(theta)*sin(psi)) ,(-sin(phi)*cos(psi))+ (cos(phi)*sin(theta)*sin(psi))],\n",
    "               [   -sin(theta)     ,            cos(theta)*sin(phi)                    ,                   cos(theta)*cos(phi)              ]])\n",
    "J2 = np.array([[     1.0     ,  sin(phi)*sin(theta)/cos(theta)  ,  cos(phi)*sin(theta)/cos(theta)  ],\n",
    "               [     0.0     ,             cos(phi)             ,            -sin(phi)             ],\n",
    "               [     0.0     ,        sin(phi)/cos(theta)       ,               1.0                ]])\n",
    "zeros = np.zeros((3,3))\n",
    "J = np.concatenate((np.concatenate((J1, zeros), axis=1), np.concatenate((zeros, J2), axis=1)), axis=0)\n",
    "print(\"J1 = \\n{}\".format(J1))\n",
    "print(\"J2 = \\n{}\".format(J2))\n",
    "print(\"J = \\n{}\".format(J))\n",
    "\n"
   ]
  },
  {
   "cell_type": "code",
   "execution_count": 369,
   "metadata": {},
   "outputs": [
    {
     "name": "stdout",
     "output_type": "stream",
     "text": [
      "[-6.67*sin(theta), 6.67*sin(phi)*cos(theta), 6.67*cos(phi)*cos(theta), -0.0148922*sin(phi)*cos(theta), -0.0148922*sin(theta), 0]\n"
     ]
    }
   ],
   "source": [
    "#Vector de fuerza gravitacional y de empuje\n",
    "from sympy import *\n",
    "\n",
    "g = [                         (W-B)*sin(theta)                             ,    \n",
    "                         -(W-B)*cos(theta)*sin(phi)                        ,    \n",
    "                         -(W-B)*cos(theta)*cos(phi)                        ,     \n",
    "     -((yg*W)-(yb*B))*cos(theta)*cos(phi) + (zg*W-zb*B)*cos(theta)*sin(phi),\n",
    "           ((zg*W)-(zb*B))*sin(theta) + (xg*W-xb*B)*cos(theta)*cos(phi)   ,\n",
    "       -((xg*W)-(xb*B))*cos(theta)*sin(phi) - (yg*W-yb*B)*sin(theta)       ]\n",
    "print(g)\n",
    "\n"
   ]
  },
  {
   "cell_type": "code",
   "execution_count": 370,
   "metadata": {},
   "outputs": [
    {
     "name": "stdout",
     "output_type": "stream",
     "text": [
      "M_RB = \n",
      "[[ 7.31  0.    0.    0.    0.   -0.  ]\n",
      " [ 0.    7.31  0.   -0.    0.    0.  ]\n",
      " [ 0.    0.    7.31  0.   -0.    0.  ]\n",
      " [ 0.   -0.    0.    0.16 -0.   -0.  ]\n",
      " [ 0.    0.   -0.   -0.    0.16 -0.  ]\n",
      " [-0.    0.    0.   -0.   -0.    0.16]]\n",
      "M_A = \n",
      "[[ 5.5   0.    0.    0.    0.    0.  ]\n",
      " [ 0.   12.7   0.    0.    0.    0.  ]\n",
      " [ 0.    0.   14.57  0.    0.    0.  ]\n",
      " [ 0.    0.    0.    0.12  0.    0.  ]\n",
      " [ 0.    0.    0.    0.    0.12  0.  ]\n",
      " [ 0.    0.    0.    0.    0.    0.12]]\n",
      "M = \n",
      "[[12.81  0.    0.    0.    0.    0.  ]\n",
      " [ 0.   20.01  0.    0.    0.    0.  ]\n",
      " [ 0.    0.   21.88  0.    0.    0.  ]\n",
      " [ 0.    0.    0.    0.28  0.    0.  ]\n",
      " [ 0.    0.    0.    0.    0.28  0.  ]\n",
      " [ 0.    0.    0.    0.    0.    0.28]]\n"
     ]
    }
   ],
   "source": [
    "#Matriz M\n",
    "#Matriz M_RB                     \n",
    "M_RB = np.array([[     m        ,        0      ,        0      ,      0        ,     m*zg     ,       -m*yg    ],\n",
    "                 [     0        ,        m      ,        0      ,    -m*zg      ,       0      ,        m*xg    ],\n",
    "                 [     0        ,        0      ,        m      ,     m*yg      ,    -m*xg     ,          0     ],\n",
    "                 [     0        ,      -m*zg    ,       m*yg    ,      Ix       ,    -Ixy      ,        -Ixz    ],\n",
    "                 [    m*zg      ,        0      ,      -m*xg    ,     -Ixy      ,     Iy       ,        -Iyz    ],\n",
    "                 [   -m*yg      ,       m*xg    ,        0      ,     -Ixz      ,     -Iyz     ,         Iz     ]])\n",
    "#Matriz M_A\n",
    "M_A = -np.array([Xudot,Yvdot,Zwdot,Kpdot,Mqdot,Nrdot]) * np.eye(6) # MUltiplica vector valores con matris identidad 6x6\n",
    "\n",
    "M= M_RB + M_A\n",
    "\n",
    "print(\"M_RB = \\n{}\".format(M_RB))\n",
    "print(\"M_A = \\n{}\".format(M_A))\n",
    "print(\"M = \\n{}\".format(M))\n",
    "\n"
   ]
  },
  {
   "cell_type": "code",
   "execution_count": 371,
   "metadata": {},
   "outputs": [
    {
     "name": "stdout",
     "output_type": "stream",
     "text": [
      "C_RB = \n",
      "[[0.0 0.0 0.0 0 7.31*w -7.31*v]\n",
      " [0.0 0.0 0.0 -7.31*w 0 7.31*u]\n",
      " [0.0 0.0 0.0 7.31*v -7.31*u 0]\n",
      " [0 7.31*w -7.31*v 0 0.16*r -0.16*q]\n",
      " [-7.31*w 0 7.31*u -0.16*r 0 0.16*p]\n",
      " [7.31*v -7.31*u 0 0.16*q -0.16*p 0]]\n",
      "CA = \n",
      "[[0 0 0 0 14.57*w -12.7*v]\n",
      " [0 0 0 -14.57*w 0 5.5*u]\n",
      " [0 0 0 12.7*v -5.5*u 0]\n",
      " [0 14.57*w -12.7*v 0 0.12*r -0.12*q]\n",
      " [-14.57*w 0 5.5*u -0.12*r 0 0.12*p]\n",
      " [12.7*v -5.5*u 0 0.12*q -0.12*p 0]]\n",
      "C = \n",
      "[[0.0 0.0 0.0 0 21.88*w -20.01*v]\n",
      " [0.0 0.0 0.0 -21.88*w 0 12.81*u]\n",
      " [0.0 0.0 0.0 20.01*v -12.81*u 0]\n",
      " [0 21.88*w -20.01*v 0 0.28*r -0.28*q]\n",
      " [-21.88*w 0 12.81*u -0.28*r 0 0.28*p]\n",
      " [20.01*v -12.81*u 0 0.28*q -0.28*p 0]]\n"
     ]
    }
   ],
   "source": [
    "#Matriz C.... Matriz de fuerzas centrípeta y Coriolis\n",
    "#Matriz C_RB\n",
    "#Matriz C12 \n",
    "C11 = np.eye(3)*0 #Crea matriz 3x3 de Ceros\n",
    "C12 = np.array([[ m*(yg*q +zg*r), -m*(xg*q-w)  , -m*(xg*r+v)  ],\n",
    "                [ -m*(yg*p+w)   , m*(zg*r+xg*p), -m*(yg*r-u)  ],\n",
    "                [ -m*(zg*p-v)   , -m*(zg*q+u)  , m*(xg*p+yg*q)]])\n",
    "\n",
    "C22 = np.array([[         0                 ,-Iyz*q-Ixz*p+Iz*r, Iyz*r+Ixy*p-Iy*q],\n",
    "                [ Iyz*q+Ixz*p-Iz*r,          0               ,-Ixz*r-Ixy*q+Ix*p],\n",
    "                [-Iyz*r-Ixy*p+Iy*q , Ixz*r+Ixy*q-Ix*p, 0                  ]])\n",
    "C21 = -np.transpose(C12) # Transpuesta de C12\n",
    "C_RB = np.concatenate((np.concatenate((C11, C12), axis=1), np.concatenate((C21, C22), axis=1)), axis=0)\n",
    "\n",
    "\n",
    "\n",
    "CA = np.array([[     0        ,        0      ,        0      ,      0        , -Zwdot*w  ,     Yvdot*v ],\n",
    "               [     0        ,        0      ,        0      ,   Zwdot*w     ,     0     ,    -Xudot*u ],\n",
    "               [     0        ,        0      ,        0      ,  -Yvdot*v     ,  Xudot*u  ,       0     ],\n",
    "               [     0        ,    -Zwdot*w   ,      Yvdot*v  ,      0        , -Nrdot*r  ,     Mqdot*q ],\n",
    "               [   Zwdot*w    ,        0      ,    -Xudot*u   ,  Nrdot*r      ,     0     ,   -Kpdot*p ],\n",
    "               [  -Yvdot*v    ,    Xudot*u    ,        0      , -Mqdot*q      ,  Kpdot*p  ,          0     ]])\n",
    " \n",
    "C = C_RB + CA\n",
    "print(\"C_RB = \\n{}\".format(C_RB))\n",
    "print(\"CA = \\n{}\".format(CA))\n",
    "print(\"C = \\n{}\".format(C))\n"
   ]
  },
  {
   "cell_type": "code",
   "execution_count": 372,
   "metadata": {},
   "outputs": [
    {
     "name": "stdout",
     "output_type": "stream",
     "text": [
      "DL = \n",
      "[[4.03 0.   0.   0.   0.   0.  ]\n",
      " [0.   6.22 0.   0.   0.   0.  ]\n",
      " [0.   0.   5.18 0.   0.   0.  ]\n",
      " [0.   0.   0.   0.07 0.   0.  ]\n",
      " [0.   0.   0.   0.   0.07 0.  ]\n",
      " [0.   0.   0.   0.   0.   0.07]]\n",
      "DQ = \n",
      "[[18.18*Abs(u) 0 0 0 0 0]\n",
      " [0 21.66*Abs(v) 0 0 0 0]\n",
      " [0 0 36.99*Abs(w) 0 0 0]\n",
      " [0 0 0 1.55*Abs(p) 0 0]\n",
      " [0 0 0 0 1.55*Abs(q) 0]\n",
      " [0 0 0 0 0 1.55*Abs(r)]]\n"
     ]
    }
   ],
   "source": [
    "#Matriz de amortiguamiento hidrodinamico\n",
    "DL = -1 *np.array([Xu,Yv,Zw,Kp,Mq,Nr]) * np.eye(6)\n",
    "DQ = -1 *np.array([Xuu*Abs(u),Yvv*Abs(v),Zww*Abs(w),Kpp*Abs(p),Mqq*Abs(q),Nrr*Abs(r)]) * np.eye(6)\n",
    "D = DL + DQ\n",
    "print(\"DL = \\n{}\".format(DL))\n",
    "print(\"DQ = \\n{}\".format(DQ))\n"
   ]
  },
  {
   "cell_type": "code",
   "execution_count": 373,
   "metadata": {},
   "outputs": [
    {
     "name": "stdout",
     "output_type": "stream",
     "text": [
      "T = \n",
      "[[ 0.00e+00  0.00e+00  0.00e+00  1.00e-03  1.00e-03  0.00e+00]\n",
      " [ 0.00e+00  0.00e+00  0.00e+00  0.00e+00  0.00e+00  1.00e-03]\n",
      " [-1.00e-03 -1.00e-03 -1.00e-03  0.00e+00  0.00e+00  0.00e+00]\n",
      " [ 1.11e-07 -1.11e-07 -0.00e+00  0.00e+00  0.00e+00 -9.50e-08]\n",
      " [ 1.53e-07  1.53e-07 -1.99e-07 -1.40e-08 -1.40e-08  0.00e+00]\n",
      " [ 0.00e+00  0.00e+00  0.00e+00 -1.11e-07  1.11e-07  8.00e-09]]\n",
      "C+ = \n",
      "[[0.000333 0.       0.       0.       0.       0.      ]\n",
      " [0.       0.000333 0.       0.       0.       0.      ]\n",
      " [0.       0.       0.000224 0.       0.       0.      ]\n",
      " [0.       0.       0.       0.000241 0.       0.      ]\n",
      " [0.       0.       0.       0.       0.000241 0.      ]\n",
      " [0.       0.       0.       0.       0.       0.000243]]\n",
      "TC+ = \n",
      "[[ 0.0000e+00  0.0000e+00  0.0000e+00  2.4100e-07  2.4100e-07  0.0000e+00]\n",
      " [ 0.0000e+00  0.0000e+00  0.0000e+00  0.0000e+00  0.0000e+00  2.4300e-07]\n",
      " [-3.3300e-07 -3.3300e-07 -2.2400e-07  0.0000e+00  0.0000e+00  0.0000e+00]\n",
      " [ 3.6963e-11 -3.6963e-11  0.0000e+00  0.0000e+00  0.0000e+00 -2.3085e-11]\n",
      " [ 5.0949e-11  5.0949e-11 -4.4576e-11 -3.3740e-12 -3.3740e-12  0.0000e+00]\n",
      " [ 0.0000e+00  0.0000e+00  0.0000e+00 -2.6751e-11  2.6751e-11  1.9440e-12]]\n"
     ]
    }
   ],
   "source": [
    "#Matriz de configuracion de los propulsores T\n",
    "T= np.array([[     0        ,        0      ,        0      ,      1        ,       1     ,          0      ],\n",
    "             [     0        ,        0      ,        0      ,      0        ,       0     ,          1      ],\n",
    "             [    -1        ,        -1     ,        -1     ,      0        ,       0     ,          0      ],\n",
    "             [   -ly1       ,      -ly2     ,      -ly3     ,      0        ,       0     ,        -lz6     ],\n",
    "             [    lx1       ,        lx2    ,       lx3     ,     lz4       ,      lz5    ,          0      ],\n",
    "             [     0        ,        0      ,        0      ,    -ly4       ,     -ly5    ,         lx6     ]])/1000\n",
    "\n",
    "Cmas = np.array([Cmas1,Cmas2,Cmas3,Cmas4,Cmas5,Cmas6]) * np.eye(6)\n",
    "Cmenos = np.array([Cmenos1,Cmenos2,Cmenos3,Cmenos4,Cmenos5,Cmenos6]) * np.eye(6)\n",
    "\n",
    "TCmas = np.dot(T,Cmas)\n",
    "TCmenos = np.dot(T,Cmenos)\n",
    "\n",
    "print(\"T = \\n{}\".format(T))\n",
    "print(\"C+ = \\n{}\".format(Cmas))\n",
    "print(\"TC+ = \\n{}\".format(TCmas))\n",
    "\n"
   ]
  },
  {
   "cell_type": "code",
   "execution_count": 374,
   "metadata": {},
   "outputs": [
    {
     "name": "stdout",
     "output_type": "stream",
     "text": [
      "[1.88134270101483e-8*u4 + 1.88134270101483e-8*u5 1.2143928035982e-8*u6\n",
      " -1.52193784277879e-8*u1 - 1.52193784277879e-8*u2 - 1.02376599634369e-8*u3\n",
      " 1.32010714285714e-10*u1 - 1.32010714285714e-10*u2 - 8.24464285714286e-11*u6\n",
      " 1.81960714285714e-10*u1 + 1.81960714285714e-10*u2 - 1.592e-10*u3 - 1.205e-11*u4 - 1.205e-11*u5\n",
      " -9.55392857142857e-11*u4 + 9.55392857142857e-11*u5 + 6.94285714285714e-12*u6]\n"
     ]
    }
   ],
   "source": [
    "print(np.dot(np.dot(  np.linalg.inv(M) ,  TCmas) ,U)) #M-1*TC+*V\n"
   ]
  },
  {
   "cell_type": "code",
   "execution_count": 379,
   "metadata": {
    "scrolled": true
   },
   "outputs": [
    {
     "name": "stdout",
     "output_type": "stream",
     "text": [
      "[1.88134270101483e-8*u4 + 1.88134270101483e-8*u5 1.2143928035982e-8*u6\n",
      " -1.52193784277879e-8*u1 - 1.52193784277879e-8*u2 - 1.02376599634369e-8*u3\n",
      " 1.32010714285714e-10*u1 - 1.32010714285714e-10*u2 - 8.24464285714286e-11*u6\n",
      " 1.81960714285714e-10*u1 + 1.81960714285714e-10*u2 - 1.592e-10*u3 - 1.205e-11*u4 - 1.205e-11*u5\n",
      " -9.55392857142857e-11*u4 + 9.55392857142857e-11*u5 + 6.94285714285714e-12*u6]\n",
      "udot = \n",
      "-1.70804059328649*q*w + 1.56206088992974*r*v - u*(1.4192037470726*Abs(u) + 0.314597970335675) + 1.88134270101483e-8*u4 + 1.88134270101483e-8*u5 + 0.520686963309914*sin(theta) + 1.0e-8\n",
      "\n",
      "\n",
      "vdot = \n",
      "1.09345327336332*p*w - 0.640179910044978*r*u + 1.2143928035982e-8*u6 - v*(1.08245877061469*Abs(v) + 0.310844577711144) - 0.333333333333333*sin(phi)*cos(theta) + 1.0e-8\n",
      "\n",
      "\n",
      "wdot = \n",
      "-0.914533820840951*p*v + 0.585466179159049*q*u - 1.52193784277879e-8*u1 - 1.52193784277879e-8*u2 - 1.02376599634369e-8*u3 - w*(1.69058500914077*Abs(w) + 0.236745886654479) - 0.304844606946984*cos(phi)*cos(theta) + 1.0e-8\n",
      "\n",
      "\n",
      "pdot = \n",
      "-p*(5.53571428571429*Abs(p) + 0.25) + 1.32010714285714e-10*u1 - 1.32010714285714e-10*u2 - 8.24464285714286e-11*u6 - 6.67857142857143*v*w + 0.0531864285714286*sin(phi)*cos(theta) + 1.0e-8\n",
      "\n",
      "\n",
      "qdot = \n",
      "-q*(5.53571428571429*Abs(q) + 0.25) + 32.3928571428571*u*w + 1.81960714285714e-10*u1 + 1.81960714285714e-10*u2 - 1.592e-10*u3 - 1.205e-11*u4 - 1.205e-11*u5 + 0.0531864285714286*sin(theta) + 1.0e-8\n",
      "\n",
      "\n",
      "rdot = \n",
      "-r*(5.53571428571429*Abs(r) + 0.25) - 25.7142857142857*u*v - 9.55392857142857e-11*u4 + 9.55392857142857e-11*u5 + 6.94285714285714e-12*u6 + 1.0e-8\n",
      "\n",
      "\n",
      "xdot = \n",
      "u*cos(psi)*cos(theta) + v*(sin(phi)*sin(theta)*cos(psi) - sin(psi)*cos(phi)) + w*(sin(phi)*sin(psi) + sin(theta)*cos(phi)*cos(psi))\n",
      "\n",
      "\n",
      "ydot = \n",
      "u*sin(psi)*cos(theta) + v*(sin(phi)*sin(psi)*sin(theta) + cos(phi)*cos(psi)) + w*(-sin(phi)*cos(psi) + sin(psi)*sin(theta)*cos(phi))\n",
      "\n",
      "\n",
      "zdot = \n",
      "-u*sin(theta) + v*sin(phi)*cos(theta) + w*cos(phi)*cos(theta)\n",
      "\n",
      "\n",
      "phidot = \n",
      "1.0*p + q*sin(phi)*sin(theta)/cos(theta) + r*sin(theta)*cos(phi)/cos(theta)\n",
      "\n",
      "\n",
      "thetadot = \n",
      "q*cos(phi) - r*sin(phi)\n",
      "\n",
      "\n",
      "psidot = \n",
      "q*sin(phi)/cos(theta) + 1.0*r\n",
      "\n",
      "\n"
     ]
    }
   ],
   "source": [
    "#Se replantea la ecuacion diferencial despejando Vdot\n",
    "# INGRESO\n",
    "D_ = np.dot(np.dot(  np.linalg.inv(M) ,  D ) ,V)  #M-1*D*V\n",
    "C_ = np.dot(np.dot(  np.linalg.inv(M) ,  C ) ,V)  #M-1*C*V\n",
    "\n",
    "TMas_ = np.dot(np.dot(  np.linalg.inv(M) ,  TCmas) ,U) #M-1*TC+*V\n",
    "TMenos_ = np.dot(np.dot(  np.linalg.inv(M) ,  TCmenos) ,U) #M-1*TC+*V\n",
    "#print(\"M = \\n{}\".format( np.linalg.inv(M)))\n",
    "#print(\"C = \\n{}\".format(C))\n",
    "#print(\"V = \\n{}\".format(V))\n",
    "print(TMas_)\n",
    "\n",
    "Vdott = {}\n",
    "Vdott[\"CMas\"] = -C_ -D_ -np.dot(  np.linalg.inv(M) ,  g)  + TMas_ + np.array([0.000001,0.00000001,0.00000001,0.00000001,0.00000001,0.00000001])\n",
    "Vdott[\"CMenos\"] = -C_ -D_ -np.dot(  np.linalg.inv(M) ,  g) + TMenos_\n",
    "\n",
    "print(\"udot = \\n{}\\n\\n\".format(Vdott[\"CMas\"][0]))\n",
    "print(\"vdot = \\n{}\\n\\n\".format(Vdott[\"CMas\"][1]))\n",
    "print(\"wdot = \\n{}\\n\\n\".format(Vdott[\"CMas\"][2]))\n",
    "print(\"pdot = \\n{}\\n\\n\".format(Vdott[\"CMas\"][3]))\n",
    "print(\"qdot = \\n{}\\n\\n\".format(Vdott[\"CMas\"][4]))\n",
    "print(\"rdot = \\n{}\\n\\n\".format(Vdott[\"CMas\"][5]))\n",
    "\n",
    "\n",
    "\n",
    "#Se expresa ndot y de esta forma tenemos nuestro sistema de 12 ecuaciones diferenciales no lineales\n",
    "\n",
    "ndott = np.dot(J,V) #Vector de velocidad en el marco de referencia\n",
    "print(\"xdot = \\n{}\\n\\n\".format(ndott[0]))\n",
    "print(\"ydot = \\n{}\\n\\n\".format(ndott[1]))\n",
    "print(\"zdot = \\n{}\\n\\n\".format(ndott[2]))\n",
    "print(\"phidot = \\n{}\\n\\n\".format(ndott[3]))\n",
    "print(\"thetadot = \\n{}\\n\\n\".format(ndott[4]))\n",
    "print(\"psidot = \\n{}\\n\\n\".format(ndott[5]))"
   ]
  },
  {
   "cell_type": "code",
   "execution_count": 380,
   "metadata": {},
   "outputs": [
    {
     "name": "stdout",
     "output_type": "stream",
     "text": [
      "[1.88134270101483e-8*u4 + 1.88134270101483e-8*u5, 1.2143928035982e-8*u6, -1.52193784277879e-8*u1 - 1.52193784277879e-8*u2 - 1.02376599634369e-8*u3, 1.32010714285714e-10*u1 - 1.32010714285714e-10*u2 - 8.24464285714286e-11*u6, 1.81960714285714e-10*u1 + 1.81960714285714e-10*u2 - 1.592e-10*u3 - 1.205e-11*u4 - 1.205e-11*u5, -9.55392857142857e-11*u4 + 9.55392857142857e-11*u5 + 6.94285714285714e-12*u6]\n"
     ]
    }
   ],
   "source": [
    "print(TMas_.tolist())"
   ]
  },
  {
   "cell_type": "code",
   "execution_count": 381,
   "metadata": {},
   "outputs": [],
   "source": [
    "def ResolvEcuations(Vdot,ndot,VSym,nSym,USym,V_ant,n_ant,U,dt): #Retorna acelaraciones locales y velocidades inerciales\n",
    "    Values = []\n",
    "    for i in range(6):\n",
    "        Values.append((VSym.item(i),V_ant.item(i))) #Agrega tupla de (symbolo valor)   \n",
    "        Values.append((nSym.item(i),n_ant.item(i))) #Agrega tupla de (symbolo valor)\n",
    "        Values.append((USym.item(i),U.item(i)))     #Agrega tupla de (symbolo valor)\n",
    " \n",
    "    _Vdot = np.empty(6)\n",
    "    _ndot = np.empty(6)\n",
    "\n",
    "    for i in range(6):\n",
    "        _ndot[i] = ndot[i].subs(Values)\n",
    "        _Vdot[i] = Vdot[\"CMas\"][i].subs(Values)\n",
    "        \n",
    "    # limitacion para que zdot no sea negativa cuando z<=0  ...\n",
    "    \n",
    "    # -u*sin(theta) + v*sin(phi)*cos(theta) + w*cos(phi)*cos(theta)>=0 cuando z <=0\n",
    "\n",
    "    \n",
    "    return [_Vdot*dt,_ndot*dt,]\n",
    "    \n",
    "def IntegerEcuations(Vdot,ndot,VSym,nSym,USym,V_ant,n_ant,U,dt,T):\n",
    "    VdotValue,ndotValue = ResolvEcuations(Vdott,ndott,V,n,U,ceros,ceros,ceros,1)"
   ]
  },
  {
   "cell_type": "code",
   "execution_count": 404,
   "metadata": {},
   "outputs": [],
   "source": [
    "#Se crea escalon unitario e impulso unitario\n",
    "u_ = lambda t: np.piecewise(t,t>=0,[1,0])\n",
    "\n",
    "a = -0.1\n",
    "b = 40\n",
    "dt =0.05\n",
    "# PROCEDIMIENTO\n",
    "t = np.arange(a, b, dt)\n",
    "U1 = 349235.5992356712*u_(t-5)\n",
    "U2 = 349235.599235671*u_(t-5)\n",
    "U3 = -1038352.2727271*u_(t-5)\n",
    "U4 = 12132780.0829876*u_(t-5)\n",
    "U5 = 12132780.0829876*u_(t-5)\n",
    "U6 = 0*u_(t+1)\n",
    "MTrans = np.array([[349235.599235671,10776587.3982091,-16176850.5,304358412.466521,959766584.766585,       0     ],\n",
    "                   [349235.599235671,-10776587.398208,-16176850.5,-304358412.46652,959766584.766585,       0     ],\n",
    "                   [-1038352.2727271,0               ,-36979287.4,       0        ,-2853591720.7792,       0     ],\n",
    "                   [12132780.0829876,1253934.43235767,     0     ,       0        ,     0          ,-420545026.35],\n",
    "                   [12132780.0829876,-1253934.4323576,     0     ,       0        ,     0          ,420545026.354],\n",
    "                   [       0        ,34510288.0658436,     0     ,       0        ,     0          ,       0     ]])\n",
    "\n",
    "# SALIDA - GRAFICA\n"
   ]
  },
  {
   "cell_type": "code",
   "execution_count": 405,
   "metadata": {},
   "outputs": [
    {
     "ename": "SyntaxError",
     "evalue": "invalid character in identifier (<ipython-input-405-49182ddd92b5>, line 1)",
     "output_type": "error",
     "traceback": [
      "\u001b[1;36m  File \u001b[1;32m\"<ipython-input-405-49182ddd92b5>\"\u001b[1;36m, line \u001b[1;32m1\u001b[0m\n\u001b[1;33m    {(−3804591.52334152, −3804591.52334152, −8697062.70292208, 0, 0, 0)}\u001b[0m\n\u001b[1;37m             ^\u001b[0m\n\u001b[1;31mSyntaxError\u001b[0m\u001b[1;31m:\u001b[0m invalid character in identifier\n"
     ]
    }
   ],
   "source": [
    "{(−3804591.52334152, −3804591.52334152, −8697062.70292208, 0, 0, 0)}\n",
    "{(−1947285.35353535, −1947285.35353535, −4451374.79707792, 0, 0, 0)}"
   ]
  },
  {
   "cell_type": "code",
   "execution_count": null,
   "metadata": {},
   "outputs": [],
   "source": [
    "UValores = np.array([U1,U2,U3,U4,U5,U6])\n",
    "UValores = UValores.transpose()\n",
    "ceros = np.zeros(6)\n",
    "Vdot = np.zeros(6)\n",
    "ndot = np.zeros(6)\n",
    "VActual = np.zeros(6)\n",
    "nActual = np.zeros(6)\n",
    "nActual[0] = 0\n",
    "nActual[1] = 0\n",
    "nActual[2] = 0\n",
    "nActual[3] = 0\n",
    "Referencia = np.array([0.1,0.2,-0.1,0,0,0])\n",
    "errorV = np.array([0,0,0,0,0,0])\n",
    "VValues = np.empty((t.size,6))\n",
    "nValues = np.empty((t.size,6))\n",
    "VdotValues = np.empty((t.size,6))\n",
    "ndotValues = np.empty((t.size,6))\n",
    "VectorerrorV = np.empty((t.size,6))\n",
    "errori = 0\n",
    "for i in arange(t.size):\n",
    "    errori += (Referencia - VActual)*dt\n",
    "    error = 20*(Referencia - VActual) + 100*errori\n",
    "    errorV =  np.dot(MTrans,error)\n",
    "    #errorV = np.array([298696514.773373, -310020310.159668, -12942750.6087662, 0, 0, 0])\n",
    "    Vdot,ndot = ResolvEcuations(Vdott,ndott,V,n,U,VActual,nActual,errorV,dt)\n",
    "    #Vdot,ndot = ResolvEcuations(Vdott,ndott,V,n,U,VActual,nActual,UValores[i],dt)\n",
    "\n",
    "    VectorerrorV[i] = error\n",
    "    VActual += Vdot\n",
    "    nActual += ndot\n",
    "    VValues[i] = VActual\n",
    "    nValues[i] = nActual\n",
    "    VdotValues[i] = Vdot\n",
    "    ndotValues[i] = ndot\n",
    "    \n",
    "    #print(\"p = {}     q = {}    r = {}     ndot = {} t= {}\".format(VActual[3],VActual[4],VActual[5],ndot[3], i*dt))"
   ]
  },
  {
   "cell_type": "code",
   "execution_count": null,
   "metadata": {},
   "outputs": [],
   "source": [
    "plt.figure(1, figsize = [15,20])\n",
    "\n",
    "plt.subplot(511)\n",
    "#plt.plot(t,u0,label='Impulso')\n",
    "plt.plot(t,VdotValues.transpose()[0],label='Udot')\n",
    "plt.plot(t,VdotValues.transpose()[1],label='Vdot')\n",
    "plt.plot(t,VdotValues.transpose()[2],label='Wdot')\n",
    "plt.plot(t,VdotValues.transpose()[3],label='Pdot')\n",
    "plt.plot(t,VdotValues.transpose()[4],label='Qdot')\n",
    "plt.plot(t,VdotValues.transpose()[5],label='Rdot')\n",
    "plt.legend(loc='upper center')\n",
    "\n",
    "plt.subplot(512)\n",
    "#plt.plot(t,U1,label='Impulso')\n",
    "plt.plot(t,VValues.transpose()[0],label='U')\n",
    "plt.plot(t,VValues.transpose()[1],label='V')\n",
    "plt.plot(t,VValues.transpose()[2],label='W')\n",
    "plt.plot(t,VValues.transpose()[3],label='P')\n",
    "plt.plot(t,VValues.transpose()[4],label='Q')\n",
    "plt.plot(t,VValues.transpose()[5],label='R')\n",
    "plt.legend(loc='lower left')\n",
    "\n",
    "\n",
    "plt.subplot(513)\n",
    "#plt.plot(t,u0,label='Impulso')\n",
    "plt.plot(t,ndotValues.transpose()[0],label='Xdot')\n",
    "plt.plot(t,ndotValues.transpose()[1],label='Ydot')\n",
    "plt.plot(t,ndotValues.transpose()[2],label='Zdot')\n",
    "plt.plot(t,ndotValues.transpose()[3],label='Φdot')\n",
    "plt.plot(t,ndotValues.transpose()[4],label='θdot')\n",
    "plt.plot(t,ndotValues.transpose()[5],label='Ψdot')\n",
    "plt.legend(loc='lower center')\n",
    "\n",
    "plt.subplot(514)\n",
    "#plt.plot(t,u0,label='Impulso')\n",
    "plt.plot(t,nValues.transpose()[0],label='X')\n",
    "plt.plot(t,nValues.transpose()[1],label='Y')\n",
    "plt.plot(t,nValues.transpose()[2],label='Z')\n",
    "plt.plot(t,nValues.transpose()[3],label='Φ')\n",
    "plt.plot(t,nValues.transpose()[4],label='θ')\n",
    "plt.plot(t,nValues.transpose()[5],label='Ψ')\n",
    "plt.legend(loc='lower center')\n",
    "\n",
    "plt.subplot(515)\n",
    "plt.plot(t,VectorerrorV,label='Impulso')\n",
    "plt.legend(loc='lower center')"
   ]
  },
  {
   "cell_type": "code",
   "execution_count": null,
   "metadata": {},
   "outputs": [],
   "source": []
  },
  {
   "cell_type": "code",
   "execution_count": 233,
   "metadata": {},
   "outputs": [
    {
     "name": "stdout",
     "output_type": "stream",
     "text": [
      "[1.88134270101483e-8*u4 + 1.88134270101483e-8*u5, 1.2143928035982e-8*u6, -1.52193784277879e-8*u1 - 1.52193784277879e-8*u2 - 1.02376599634369e-8*u3 - 0.264264168190128, 1.32010714285714e-10*u1 - 1.32010714285714e-10*u2 - 8.24464285714286e-11*u6, 1.81960714285714e-10*u1 + 1.81960714285714e-10*u2 - 1.592e-10*u3 - 1.205e-11*u4 - 1.205e-11*u5, -9.55392857142857e-11*u4 + 9.55392857142857e-11*u5 + 6.94285714285714e-12*u6]\n"
     ]
    }
   ],
   "source": [
    "Solve = []\n",
    "Solve.append(Vdott[\"CMas\"][0].subs([(u, 0), (x, 0.0), (u1, u1), (v, 0), (y, 0.0), (u2, u2), (w, 0), (z, 0.0), (u3, u3), (p, 0.0), (phi, 0.0), (u4, u4), (q, 0.0), (theta, 0.0), (u5, u5), (r, 0.0), (psi, 0.0), (u6, u6)]))\n",
    "Solve.append(Vdott[\"CMas\"][1].subs([(u, 0), (x, 0.0), (u1, u1), (v, 0), (y, 0.0), (u2, u2), (w, 0), (z, 0.0), (u3, u3), (p, 0.0), (phi, 0.0), (u4, u4), (q, 0.0), (theta, 0.0), (u5, u5), (r, 0.0), (psi, 0.0), (u6, u6)]))\n",
    "Solve.append(Vdott[\"CMas\"][2].subs([(u, 0), (x, 0.0), (u1, u1), (v, 0), (y, 0.0), (u2, u2), (w, 0), (z, 0.0), (u3, u3), (p, 0.0), (phi, 0.0), (u4, u4), (q, 0.0), (theta, 0.0), (u5, u5), (r, 0.0), (psi, 0.0), (u6, u6)]))\n",
    "Solve.append(Vdott[\"CMas\"][3].subs([(u, 0), (x, 0.0), (u1, u1), (v, 0), (y, 0.0), (u2, u2), (w, 0), (z, 0.0), (u3, u3), (p, 0.0), (phi, 0.0), (u4, u4), (q, 0.0), (theta, 0.0), (u5, u5), (r, 0.0), (psi, 0.0), (u6, u6)]))\n",
    "Solve.append(Vdott[\"CMas\"][4].subs([(u, 0), (x, 0.0), (u1, u1), (v, 0), (y, 0.0), (u2, u2), (w, 0), (z, 0.0), (u3, u3), (p, 0.0), (phi, 0.0), (u4, u4), (q, 0.0), (theta, 0.0), (u5, u5), (r, 0.0), (psi, 0.0), (u6, u6)]))\n",
    "Solve.append(Vdott[\"CMas\"][5].subs([(u, 0), (x, 0.0), (u1, u1), (v, 0), (y, 0.0), (u2, u2), (w, 0), (z, 0.0), (u3, u3), (p, 0.0), (phi, 0.0), (u4, u4), (q, 0.0), (theta, 0.0), (u5, u5), (r, 0.0), (psi, 0.0), (u6, u6)]))\n",
    "\n",
    "Solve = np.array(Solve) + np.array([0,0,0,0,0,0])\n",
    "print(Solve.tolist())\n",
    "\n"
   ]
  },
  {
   "cell_type": "code",
   "execution_count": 234,
   "metadata": {},
   "outputs": [
    {
     "data": {
      "text/latex": [
       "$\\displaystyle \\left\\{\\left( -4908194.7003822, \\  -4908194.7003822, \\  -11219831.8283279, \\  0, \\  0, \\  0\\right)\\right\\}$"
      ],
      "text/plain": [
       "{(-4908194.7003822, -4908194.7003822, -11219831.8283279, 0, 0, 0)}"
      ]
     },
     "execution_count": 234,
     "metadata": {},
     "output_type": "execute_result"
    }
   ],
   "source": [
    "from sympy import *\n",
    "linsolve(Solve.tolist(), [u1,u2,u3,u4,u5,u6])"
   ]
  },
  {
   "cell_type": "code",
   "execution_count": null,
   "metadata": {},
   "outputs": [],
   "source": []
  },
  {
   "cell_type": "code",
   "execution_count": null,
   "metadata": {},
   "outputs": [],
   "source": []
  }
 ],
 "metadata": {
  "kernelspec": {
   "display_name": "Python 3",
   "language": "python",
   "name": "python3"
  },
  "language_info": {
   "codemirror_mode": {
    "name": "ipython",
    "version": 3
   },
   "file_extension": ".py",
   "mimetype": "text/x-python",
   "name": "python",
   "nbconvert_exporter": "python",
   "pygments_lexer": "ipython3",
   "version": "3.7.3"
  }
 },
 "nbformat": 4,
 "nbformat_minor": 2
}
