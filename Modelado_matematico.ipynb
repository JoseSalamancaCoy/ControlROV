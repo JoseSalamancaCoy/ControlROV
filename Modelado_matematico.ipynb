{
 "cells": [
  {
   "cell_type": "code",
   "execution_count": 239,
   "metadata": {},
   "outputs": [],
   "source": [
    "import matplotlib.pyplot as plt\n",
    "import numpy as np\n",
    "import matplotlib.mlab as mlab\n",
    "import matplotlib.gridspec as gridspec\n",
    "import numpy as np\n",
    "import os\n",
    "from sympy import *\n",
    "\n",
    "from scipy import *\n",
    "from scipy import integrate\n",
    "from scipy.integrate import ode\n",
    "\n",
    "from jupyter_client.manager import KernelManager\n",
    "from ipykernel import kernelapp as app\n",
    "\n"
   ]
  },
  {
   "cell_type": "code",
   "execution_count": 240,
   "metadata": {},
   "outputs": [],
   "source": [
    "#Importa Parametros de control\n",
    "\n",
    "f = open ('parrov_bluerov.txt','r')\n",
    "D={}\n",
    "for i in f:\n",
    "    [clave, valor]= i.split(\"=\")\n",
    "    D[clave] = float(valor[:-2])\n",
    "f.close()\n",
    "#Se asignan las variables... esto se hace para que sea sencillo describir mas adelante las matrices .... Ya estan los C+ y C- ??\n",
    "[m,xg,yg,zg,xb,yb,zb,Ix,Iy,Iz,Ixy,Ixz,Iyz,W,B,Xu,Yv,Zw,Kp,Mq,Nr,Xudot,Yvdot,Zwdot,Kpdot,Mqdot,Nrdot,Xuu,Yvv,Zww,Kpp,Mqq,Nrr,lx1,ly1,lz1,lx2,ly2,lz2,lx3,ly3,lz3,lx4,ly4,lz4,lx5,ly5,lz5,lx6,ly6,lz6,Cmas1,Cmas2,Cmas3,Cmas4,Cmas5,Cmas6,Cmenos1,Cmenos2,Cmenos3,Cmenos4,Cmenos5,Cmenos6 ]   =   [D['m'],D['xg'],D['yg'],D['zg'],D['xb'],D['yb'],D['zb'],D['Ix'],D['Iy'],D['Iz'],D['Ixy'],D['Ixz'],D['Iyz'],D['W'],D['B'],D['Xu'],D['Yv'],D['Zw'],D['Kp'],D['Mq'],D['Nr'],D['Xudot'],D['Yvdot'],D['Zwdot'],D['Kpdot'],D['Mqdot'],D['Nrdot'],D['Xuu'],D['Yvv'],D['Zww'],D['Kpp'],D['Mqq'],D['Nrr'],D['lx1'],D['ly1'],D['lz1'],D['lx2'],D['ly2'],D['lz2'],D['lx3'],D['ly3'],D['lz3'],D['lx4'],D['ly4'],D['lz4'],D['lx5'],D['ly5'],D['lz5'],D['lx6'],D['ly6'],D['lz6'],0.000333,0.000333,0.000224,0.000241,0.000241,0.000243,0.000368,0.000368,0.000227,0.000175,0.000175,0.000229]\n",
    "\n",
    "\n"
   ]
  },
  {
   "cell_type": "code",
   "execution_count": 241,
   "metadata": {},
   "outputs": [],
   "source": [
    "#Se crean las variables simbolicas dependientes e independientes\n",
    "\n",
    "#Entradas para el modelo dinamico .... Torques aplicados por los propulsores\n",
    "u1 = symbols('u1')\n",
    "u2 = symbols('u2')\n",
    "u3 = symbols('u3')\n",
    "u4 = symbols('u4')\n",
    "u5 = symbols('u5')\n",
    "u6 = symbols('u6')\n",
    "U= np.array([u1,u2,u3,u4,u5,u6]) # Se define el vector de entradas\n",
    "\n",
    "#Salidas de mi modelo dinamico... o velocidades en el marco de referencia local\n",
    "u = symbols('u')\n",
    "v = symbols('v')\n",
    "w = symbols('w')\n",
    "p = symbols('p')\n",
    "q = symbols('q')\n",
    "r = symbols('r')\n",
    "V = np.array([u,v,w,p,q,r])\n",
    "t = symbols(\"t\") #Tiempo\n",
    "\n",
    "#Salidas de posiciones lineales y angulares del marco de referencia inercial en funcion a las velocidades del marco local\n",
    "x = symbols('x')\n",
    "y = symbols('y')\n",
    "z = symbols('z')\n",
    "theta = symbols('theta')\n",
    "phi = symbols('phi')\n",
    "psi = symbols('psi')\n",
    "n = np.array([x,y,z,phi,theta,psi])\n",
    "\n"
   ]
  },
  {
   "cell_type": "code",
   "execution_count": 242,
   "metadata": {},
   "outputs": [
    {
     "name": "stdout",
     "output_type": "stream",
     "text": [
      "J1 = \n",
      "[[cos(psi)*cos(theta) sin(phi)*sin(theta)*cos(psi) - sin(psi)*cos(phi)\n",
      "  sin(phi)*sin(psi) + sin(theta)*cos(phi)*cos(psi)]\n",
      " [sin(psi)*cos(theta) sin(phi)*sin(psi)*sin(theta) + cos(phi)*cos(psi)\n",
      "  -sin(phi)*cos(psi) + sin(psi)*sin(theta)*cos(phi)]\n",
      " [-sin(theta) sin(phi)*cos(theta) cos(phi)*cos(theta)]]\n",
      "J2 = \n",
      "[[1.0 sin(phi)*sin(theta)/cos(theta) sin(theta)*cos(phi)/cos(theta)]\n",
      " [0.0 cos(phi) -sin(phi)]\n",
      " [0.0 sin(phi)/cos(theta) 1.0]]\n",
      "J = \n",
      "[[cos(psi)*cos(theta) sin(phi)*sin(theta)*cos(psi) - sin(psi)*cos(phi)\n",
      "  sin(phi)*sin(psi) + sin(theta)*cos(phi)*cos(psi) 0.0 0.0 0.0]\n",
      " [sin(psi)*cos(theta) sin(phi)*sin(psi)*sin(theta) + cos(phi)*cos(psi)\n",
      "  -sin(phi)*cos(psi) + sin(psi)*sin(theta)*cos(phi) 0.0 0.0 0.0]\n",
      " [-sin(theta) sin(phi)*cos(theta) cos(phi)*cos(theta) 0.0 0.0 0.0]\n",
      " [0.0 0.0 0.0 1.0 sin(phi)*sin(theta)/cos(theta)\n",
      "  sin(theta)*cos(phi)/cos(theta)]\n",
      " [0.0 0.0 0.0 0.0 cos(phi) -sin(phi)]\n",
      " [0.0 0.0 0.0 0.0 sin(phi)/cos(theta) 1.0]]\n"
     ]
    }
   ],
   "source": [
    "#Se construye la matriz J1 y J2 y finalmente J2\n",
    "from sympy import *\n",
    "\n",
    "J1 = np.array([[cos(theta)*cos(psi),(-cos(phi)*sin(psi))+(sin(phi)*sin(theta)*cos(psi)), (sin(phi)*sin(psi))+ (cos(phi)*sin(theta)*cos(psi))],\n",
    "               [cos(theta)*sin(psi),(cos(phi)*cos(psi))+(sin(phi)*sin(theta)*sin(psi)) ,(-sin(phi)*cos(psi))+ (cos(phi)*sin(theta)*sin(psi))],\n",
    "               [   -sin(theta)     ,            cos(theta)*sin(phi)                    ,                   cos(theta)*cos(phi)              ]])\n",
    "J2 = np.array([[     1.0     ,  sin(phi)*sin(theta)/cos(theta)  ,  cos(phi)*sin(theta)/cos(theta)  ],\n",
    "               [     0.0     ,             cos(phi)             ,            -sin(phi)             ],\n",
    "               [     0.0     ,        sin(phi)/cos(theta)       ,               1.0                ]])\n",
    "zeros = np.zeros((3,3))\n",
    "J = np.concatenate((np.concatenate((J1, zeros), axis=1), np.concatenate((zeros, J2), axis=1)), axis=0)\n",
    "print(\"J1 = \\n{}\".format(J1))\n",
    "print(\"J2 = \\n{}\".format(J2))\n",
    "print(\"J = \\n{}\".format(J))\n",
    "\n"
   ]
  },
  {
   "cell_type": "code",
   "execution_count": 243,
   "metadata": {},
   "outputs": [
    {
     "name": "stdout",
     "output_type": "stream",
     "text": [
      "[-6.67*sin(theta), 6.67*sin(phi)*cos(theta), 6.67*cos(phi)*cos(theta), -0.0148922*sin(phi)*cos(theta), -0.0148922*sin(theta), 0]\n",
      "C = \n",
      "<sympy.deprecated.class_registry.ClassRegistry object at 0x000001F81B327990>\n"
     ]
    }
   ],
   "source": [
    "#Vector de fuerza gravitacional y de empuje\n",
    "from sympy import *\n",
    "\n",
    "g = [                         (W-B)*sin(theta)                             ,    \n",
    "                         -(W-B)*cos(theta)*sin(phi)                        ,    \n",
    "                         -(W-B)*cos(theta)*cos(phi)                        ,     \n",
    "     -((yg*W)-(yb*B))*cos(theta)*cos(phi) + (zg*W-zb*B)*cos(theta)*sin(phi),\n",
    "           ((zg*W)-(zb*B))*sin(theta) + (xg*W-xb*B)*cos(theta)*cos(phi)   ,\n",
    "       -((xg*W)-(xb*B))*cos(theta)*sin(phi) - (yg*W-yb*B)*sin(theta)       ]\n",
    "print(g)\n",
    "print(\"C = \\n{}\".format(C))"
   ]
  },
  {
   "cell_type": "code",
   "execution_count": 244,
   "metadata": {},
   "outputs": [
    {
     "name": "stdout",
     "output_type": "stream",
     "text": [
      "M_RB = \n",
      "[[ 7.31  0.    0.    0.    0.   -0.  ]\n",
      " [ 0.    7.31  0.   -0.    0.    0.  ]\n",
      " [ 0.    0.    7.31  0.   -0.    0.  ]\n",
      " [ 0.   -0.    0.   -0.16 -0.   -0.  ]\n",
      " [ 0.    0.   -0.   -0.    0.16 -0.  ]\n",
      " [-0.    0.    0.   -0.   -0.    0.16]]\n",
      "M_A = \n",
      "[[ 5.5   0.    0.    0.    0.    0.  ]\n",
      " [ 0.   12.7   0.    0.    0.    0.  ]\n",
      " [ 0.    0.   14.57  0.    0.    0.  ]\n",
      " [ 0.    0.    0.    0.12  0.    0.  ]\n",
      " [ 0.    0.    0.    0.    0.12  0.  ]\n",
      " [ 0.    0.    0.    0.    0.    0.12]]\n"
     ]
    }
   ],
   "source": [
    "#Matriz M\n",
    "#Matriz M_RB                     \n",
    "M_RB = np.array([[     m        ,        0      ,        0      ,      0        ,     m*zg     ,       -m*yg    ],\n",
    "                 [     0        ,        m      ,        0      ,    -m*zg      ,       0      ,        m*xg    ],\n",
    "                 [     0        ,        0      ,        m      ,     m*yg      ,    -m*xg     ,          0     ],\n",
    "                 [     0        ,      -m*zg    ,       m*yg    ,     -Ix       ,    -Ixy      ,        -Ixz    ],\n",
    "                 [    m*zg      ,        0      ,      -m*xg    ,     -Ixy      ,     Iy       ,        -Iyz    ],\n",
    "                 [   -m*yg      ,       m*xg    ,        0      ,     -Ixz      ,     -Iyz     ,         Iz     ]])\n",
    "#Matriz M_A\n",
    "M_A = -np.array([Xudot,Yvdot,Zwdot,Kpdot,Mqdot,Nrdot]) * np.eye(6) # MUltiplica vector valores con matris identidad 6x6\n",
    "\n",
    "M= M_RB + M_A\n",
    "\n",
    "print(\"M_RB = \\n{}\".format(M_RB))\n",
    "print(\"M_A = \\n{}\".format(M_A))\n"
   ]
  },
  {
   "cell_type": "code",
   "execution_count": 245,
   "metadata": {},
   "outputs": [
    {
     "name": "stdout",
     "output_type": "stream",
     "text": [
      "C_RB = \n",
      "[[0.0 0.0 0.0 0 7.31*w -7.31*v]\n",
      " [0.0 0.0 0.0 -7.31*w 0 7.31*u]\n",
      " [0.0 0.0 0.0 7.31*v -7.31*u 0]\n",
      " [0 7.31*w -7.31*v 0 0.16*r -0.16*q]\n",
      " [-7.31*w 0 7.31*u -0.16*r 0 0.16*p]\n",
      " [7.31*v -7.31*u 0 0.16*q -0.16*p 0]]\n",
      "CA = \n",
      "[[0 0 0 0 14.57*w -12.7*v]\n",
      " [0 0 0 -14.57*w 0 5.5*u]\n",
      " [0 0 0 12.7*v -5.5*u 0]\n",
      " [0 14.57*w -12.7*v 0 0.12*r -0.12*q]\n",
      " [-14.57*w 0 5.5*u -0.12*r 0 0.12*p]\n",
      " [12.7*v -5.5*u 0 0.12*q -0.12*p 0]]\n",
      "C = \n",
      "[[0.0 0.0 0.0 0 21.88*w -20.01*v]\n",
      " [0.0 0.0 0.0 -21.88*w 0 12.81*u]\n",
      " [0.0 0.0 0.0 20.01*v -12.81*u 0]\n",
      " [0 21.88*w -20.01*v 0 0.28*r -0.28*q]\n",
      " [-21.88*w 0 12.81*u -0.28*r 0 0.28*p]\n",
      " [20.01*v -12.81*u 0 0.28*q -0.28*p 0]]\n"
     ]
    }
   ],
   "source": [
    "#Matriz C.... Matriz de fuerzas centrípeta y Coriolis\n",
    "#Matriz C_RB\n",
    "#Matriz C12 \n",
    "C11 = np.eye(3)*0 #Crea matriz 3x3 de Ceros\n",
    "C12 = np.array([[ m*(yg*q +zg*r), -m*(xg*q-w)  , -m*(xg*r+v)  ],\n",
    "                [ -m*(yg*p+w)   , m*(zg*r+xg*p), -m*(yg*r-u)  ],\n",
    "                [ -m*(zg*p-v)   , -m*(zg*q+u)  , m*(xg*p+yg*q)]])\n",
    "\n",
    "C22 = np.array([[         0                 ,-Iyz*q-Ixz*p+Iz*r, Iyz*r+Ixy*p-Iy*q],\n",
    "                [ Iyz*q+Ixz*p-+Iz*r,          0               ,-Ixz*r-Ixy*q+Iy*p],\n",
    "                [-Iyz*r-Ixy*p+Iy*q , Ixz*r+Ixy*q-Iy*p, 0                  ]])\n",
    "C21 = -np.transpose(C12) # Transpuesta de C12\n",
    "C_RB = np.concatenate((np.concatenate((C11, C12), axis=1), np.concatenate((C21, C22), axis=1)), axis=0)\n",
    "\n",
    "\n",
    "\n",
    "CA = np.array([[     0        ,        0      ,        0      ,      0        , -Zwdot*w  ,     Yvdot*v ],\n",
    "               [     0        ,        0      ,        0      ,  Zwdot*w   ,       0      ,    -Xudot*u ],\n",
    "               [     0        ,        0      ,        0      , -Yvdot*v   ,  Xudot*u  ,          0     ],\n",
    "               [      0       , -Zwdot*w   ,    Yvdot*v ,      0        , -Nrdot*r  ,     Mqdot*q ],\n",
    "               [  Zwdot*w  ,        0      ,   -Xudot*u ,  Nrdot*r   ,       0      ,    -Kpdot*p ],\n",
    "               [ -Yvdot*v  ,  Xudot*u   ,          0    , -Mqdot*q   ,  Kpdot*p  ,          0     ]])\n",
    "\n",
    "C = C_RB + CA\n",
    "print(\"C_RB = \\n{}\".format(C_RB))\n",
    "print(\"CA = \\n{}\".format(CA))\n",
    "print(\"C = \\n{}\".format(C))\n"
   ]
  },
  {
   "cell_type": "code",
   "execution_count": 246,
   "metadata": {},
   "outputs": [
    {
     "name": "stdout",
     "output_type": "stream",
     "text": [
      "DL = \n",
      "[[4.03 0.   0.   0.   0.   0.  ]\n",
      " [0.   6.22 0.   0.   0.   0.  ]\n",
      " [0.   0.   5.18 0.   0.   0.  ]\n",
      " [0.   0.   0.   0.07 0.   0.  ]\n",
      " [0.   0.   0.   0.   0.07 0.  ]\n",
      " [0.   0.   0.   0.   0.   0.07]]\n",
      "DQ = \n",
      "[[18.18*Abs(u) 0 0 0 0 0]\n",
      " [0 21.66*Abs(v) 0 0 0 0]\n",
      " [0 0 36.99*Abs(w) 0 0 0]\n",
      " [0 0 0 1.55*Abs(p) 0 0]\n",
      " [0 0 0 0 1.55*Abs(q) 0]\n",
      " [0 0 0 0 0 1.55*Abs(r)]]\n"
     ]
    }
   ],
   "source": [
    "#Matriz de amortiguamiento hidrodinamico\n",
    "DL = -1 *np.array([Xu,Yv,Zw,Kp,Mq,Nr]) * np.eye(6)\n",
    "DQ = -1 *np.array([Xuu*Abs(u),Yvv*Abs(v),Zww*Abs(w),Kpp*Abs(p),Mqq*Abs(q),Nrr*Abs(r)]) * np.eye(6)\n",
    "D = DL + DQ\n",
    "print(\"DL = \\n{}\".format(DL))\n",
    "print(\"DQ = \\n{}\".format(DQ))\n"
   ]
  },
  {
   "cell_type": "code",
   "execution_count": 247,
   "metadata": {},
   "outputs": [
    {
     "name": "stdout",
     "output_type": "stream",
     "text": [
      "T = \n",
      "[[ 0.00e+00  0.00e+00  0.00e+00  1.00e+00  1.00e+00  0.00e+00]\n",
      " [ 0.00e+00  7.31e+00  0.00e+00  0.00e+00  0.00e+00  1.00e+00]\n",
      " [-1.00e+00 -1.00e+00 -1.00e+00  0.00e+00  0.00e+00  0.00e+00]\n",
      " [ 1.11e-04 -1.11e-04 -0.00e+00  0.00e+00  0.00e+00 -9.50e-05]\n",
      " [ 1.53e-04  1.53e-04 -1.99e-04 -1.40e-05 -1.40e-05  0.00e+00]\n",
      " [ 0.00e+00  0.00e+00  0.00e+00 -1.11e-04  1.11e-04  8.00e-06]]\n",
      "C+ = \n",
      "[[0.000333 0.       0.       0.       0.       0.      ]\n",
      " [0.       0.000333 0.       0.       0.       0.      ]\n",
      " [0.       0.       0.000224 0.       0.       0.      ]\n",
      " [0.       0.       0.       0.000241 0.       0.      ]\n",
      " [0.       0.       0.       0.       0.000241 0.      ]\n",
      " [0.       0.       0.       0.       0.       0.000243]]\n",
      "TC+ = \n",
      "[[ 0.00000e+00  0.00000e+00  0.00000e+00  2.41000e-04  2.41000e-04\n",
      "   0.00000e+00]\n",
      " [ 0.00000e+00  2.43423e-03  0.00000e+00  0.00000e+00  0.00000e+00\n",
      "   2.43000e-04]\n",
      " [-3.33000e-04 -3.33000e-04 -2.24000e-04  0.00000e+00  0.00000e+00\n",
      "   0.00000e+00]\n",
      " [ 3.69630e-08 -3.69630e-08  0.00000e+00  0.00000e+00  0.00000e+00\n",
      "  -2.30850e-08]\n",
      " [ 5.09490e-08  5.09490e-08 -4.45760e-08 -3.37400e-09 -3.37400e-09\n",
      "   0.00000e+00]\n",
      " [ 0.00000e+00  0.00000e+00  0.00000e+00 -2.67510e-08  2.67510e-08\n",
      "   1.94400e-09]]\n"
     ]
    }
   ],
   "source": [
    "#Matriz de configuracion de los propulsores T\n",
    "T= np.array([[     0        ,        0      ,        0      ,      1        ,       1     ,          0      ],\n",
    "             [     0        ,        m      ,        0      ,      0        ,       0     ,          1      ],\n",
    "             [    -1        ,        -1     ,        -1     ,      0        ,       0     ,          0      ],\n",
    "             [   -ly1       ,      -ly2     ,      -ly3     ,      0        ,       0     ,        -lz6     ],\n",
    "             [    lx1       ,        lx2    ,       lx3     ,     lz4       ,      lz5    ,          0      ],\n",
    "             [     0        ,        0      ,        0      ,    -ly4       ,     -ly5    ,         lx6     ]])\n",
    "Cmas = np.array([Cmas1,Cmas2,Cmas3,Cmas4,Cmas5,Cmas6]) * np.eye(6)\n",
    "Cmenos = np.array([Cmenos1,Cmenos2,Cmenos3,Cmenos4,Cmenos5,Cmenos6]) * np.eye(6)\n",
    "\n",
    "TCmas = np.dot(T,Cmas)\n",
    "TCmenos = np.dot(T,Cmenos)\n",
    "\n",
    "print(\"T = \\n{}\".format(T))\n",
    "print(\"C+ = \\n{}\".format(Cmas))\n",
    "print(\"TC+ = \\n{}\".format(TCmas))\n",
    "\n"
   ]
  },
  {
   "cell_type": "code",
   "execution_count": null,
   "metadata": {},
   "outputs": [],
   "source": [
    "\n"
   ]
  },
  {
   "cell_type": "code",
   "execution_count": 333,
   "metadata": {
    "scrolled": true
   },
   "outputs": [
    {
     "name": "stdout",
     "output_type": "stream",
     "text": [
      "udot = \n",
      "-1.70804059328649*q*w + 1.56206088992974*r*v - u*(1.4192037470726*Abs(u) + 0.314597970335675) + 1.88134270101483e-5*u4 + 1.88134270101483e-5*u5 + 6.67*sin(theta)\n",
      "\n",
      "\n",
      "vdot = \n",
      "1.09345327336332*p*w - 0.640179910044978*r*u + 0.000121650674662669*u2 + 1.2143928035982e-5*u6 - v*(1.08245877061469*Abs(v) + 0.310844577711144) - 6.67*sin(phi)*cos(theta)\n",
      "\n",
      "\n",
      "wdot = \n",
      "-0.914533820840951*p*v + 0.585466179159049*q*u - 1.52193784277879e-5*u1 - 1.52193784277879e-5*u2 - 1.02376599634369e-5*u3 - w*(1.69058500914077*Abs(w) + 0.236745886654479) - 6.67*cos(phi)*cos(theta)\n",
      "\n",
      "\n",
      "pdot = \n",
      "-p*(-38.75*Abs(p) - 1.75) - 9.24075e-7*u1 + 9.24075e-7*u2 + 5.77125e-7*u6 + 46.75*v*w + 0.0148922*sin(phi)*cos(theta)\n",
      "\n",
      "\n",
      "qdot = \n",
      "-q*(5.53571428571429*Abs(q) + 0.25) + 32.3928571428571*u*w + 1.81960714285714e-7*u1 + 1.81960714285714e-7*u2 - 1.592e-7*u3 - 1.205e-8*u4 - 1.205e-8*u5 + 0.0148922*sin(theta)\n",
      "\n",
      "\n",
      "rdot = \n",
      "-r*(5.53571428571429*Abs(r) + 0.25) - 25.7142857142857*u*v - 9.55392857142857e-8*u4 + 9.55392857142857e-8*u5 + 6.94285714285714e-9*u6\n",
      "\n",
      "\n",
      "xdot = \n",
      "u*cos(psi)*cos(theta) + v*(sin(phi)*sin(theta)*cos(psi) - sin(psi)*cos(phi)) + w*(sin(phi)*sin(psi) + sin(theta)*cos(phi)*cos(psi))\n",
      "\n",
      "\n",
      "ydot = \n",
      "u*sin(psi)*cos(theta) + v*(sin(phi)*sin(psi)*sin(theta) + cos(phi)*cos(psi)) + w*(-sin(phi)*cos(psi) + sin(psi)*sin(theta)*cos(phi))\n",
      "\n",
      "\n",
      "zdot = \n",
      "-u*sin(theta) + v*sin(phi)*cos(theta) + w*cos(phi)*cos(theta)\n",
      "\n",
      "\n",
      "phidot = \n",
      "1.0*p + q*sin(phi)*sin(theta)/cos(theta) + r*sin(theta)*cos(phi)/cos(theta)\n",
      "\n",
      "\n",
      "thetadot = \n",
      "q*cos(phi) - r*sin(phi)\n",
      "\n",
      "\n",
      "psidot = \n",
      "q*sin(phi)/cos(theta) + 1.0*r\n",
      "\n",
      "\n",
      "ndot = \n",
      "-u*sin(theta) + v*sin(phi)*cos(theta) + w*cos(phi)*cos(theta)\n"
     ]
    }
   ],
   "source": [
    "#Se replantea la ecuacion diferencial despejando Vdot\n",
    "# INGRESO\n",
    "D_ = np.dot(np.dot(  np.linalg.inv(M) ,  D ) ,V)  #M-1*D*V\n",
    "C_ = np.dot(np.dot(  np.linalg.inv(M) ,  C ) ,V)  #M-1*C*V\n",
    "\n",
    "TMas_ = np.dot(np.dot(  np.linalg.inv(M) ,  TCmas) ,U) #M-1*TC+*V\n",
    "TMenos_ = np.dot(np.dot(  np.linalg.inv(M) ,  TCmenos) ,U) #M-1*TC+*V\n",
    "#print(\"M = \\n{}\".format( np.linalg.inv(M)))\n",
    "#print(\"C = \\n{}\".format(C))\n",
    "#print(\"V = \\n{}\".format(V))\n",
    "\n",
    "\n",
    "Vdott = {}\n",
    "Vdott[\"CMas\"] = -C_ -D_ -g + TMas_\n",
    "Vdott[\"CMenos\"] = -C_ -D_ -g + TMenos_\n",
    "\n",
    "print(\"udot = \\n{}\\n\\n\".format(Vdott[\"CMas\"][0]))\n",
    "print(\"vdot = \\n{}\\n\\n\".format(Vdott[\"CMas\"][1]))\n",
    "print(\"wdot = \\n{}\\n\\n\".format(Vdott[\"CMas\"][2]))\n",
    "print(\"pdot = \\n{}\\n\\n\".format(Vdott[\"CMas\"][3]))\n",
    "print(\"qdot = \\n{}\\n\\n\".format(Vdott[\"CMas\"][4]))\n",
    "print(\"rdot = \\n{}\\n\\n\".format(Vdott[\"CMas\"][5]))\n",
    "print(\"xdot = \\n{}\\n\\n\".format(ndott[0]))\n",
    "print(\"ydot = \\n{}\\n\\n\".format(ndott[1]))\n",
    "print(\"zdot = \\n{}\\n\\n\".format(ndott[2]))\n",
    "print(\"phidot = \\n{}\\n\\n\".format(ndott[3]))\n",
    "print(\"thetadot = \\n{}\\n\\n\".format(ndott[4]))\n",
    "print(\"psidot = \\n{}\\n\\n\".format(ndott[5]))\n",
    "\n",
    "\n",
    "#Se expresa ndot y de esta forma tenemos nuestro sistema de 12 ecuaciones diferenciales no lineales\n",
    "\n",
    "ndott = np.dot(J,V) #Vector de velocidad en el marco de referencia\n",
    "print(\"ndot = \\n{}\".format(ndott[2]))\n"
   ]
  },
  {
   "cell_type": "code",
   "execution_count": 249,
   "metadata": {},
   "outputs": [
    {
     "name": "stdout",
     "output_type": "stream",
     "text": [
      "{'CMas': array([-1.70804059328649*q*w + 1.56206088992974*r*v - u*(1.4192037470726*Abs(u) + 0.314597970335675) + 1.88134270101483e-5*u4 + 1.88134270101483e-5*u5 + 6.67*sin(theta),\n",
      "       1.09345327336332*p*w - 0.640179910044978*r*u + 0.000121650674662669*u2 + 1.2143928035982e-5*u6 - v*(1.08245877061469*Abs(v) + 0.310844577711144) - 6.67*sin(phi)*cos(theta),\n",
      "       -0.914533820840951*p*v + 0.585466179159049*q*u - 1.52193784277879e-5*u1 - 1.52193784277879e-5*u2 - 1.02376599634369e-5*u3 - w*(1.69058500914077*Abs(w) + 0.236745886654479) - 6.67*cos(phi)*cos(theta),\n",
      "       -p*(-38.75*Abs(p) - 1.75) - 9.24075e-7*u1 + 9.24075e-7*u2 + 5.77125e-7*u6 + 46.75*v*w + 0.0148922*sin(phi)*cos(theta),\n",
      "       -q*(5.53571428571429*Abs(q) + 0.25) + 32.3928571428571*u*w + 1.81960714285714e-7*u1 + 1.81960714285714e-7*u2 - 1.592e-7*u3 - 1.205e-8*u4 - 1.205e-8*u5 + 0.0148922*sin(theta),\n",
      "       -r*(5.53571428571429*Abs(r) + 0.25) - 25.7142857142857*u*v - 9.55392857142857e-8*u4 + 9.55392857142857e-8*u5 + 6.94285714285714e-9*u6],\n",
      "      dtype=object), 'CMenos': array([-1.70804059328649*q*w + 1.56206088992974*r*v - u*(1.4192037470726*Abs(u) + 0.314597970335675) + 1.36612021857923e-5*u4 + 1.36612021857923e-5*u5 + 6.67*sin(theta),\n",
      "       1.09345327336332*p*w - 0.640179910044978*r*u + 0.000134436781609195*u2 + 1.14442778610695e-5*u6 - v*(1.08245877061469*Abs(v) + 0.310844577711144) - 6.67*sin(phi)*cos(theta),\n",
      "       -0.914533820840951*p*v + 0.585466179159049*q*u - 1.6819012797075e-5*u1 - 1.6819012797075e-5*u2 - 1.03747714808044e-5*u3 - w*(1.69058500914077*Abs(w) + 0.236745886654479) - 6.67*cos(phi)*cos(theta),\n",
      "       -p*(-38.75*Abs(p) - 1.75) - 1.0212e-6*u1 + 1.0212e-6*u2 + 5.43875e-7*u6 + 46.75*v*w + 0.0148922*sin(phi)*cos(theta),\n",
      "       -q*(5.53571428571429*Abs(q) + 0.25) + 32.3928571428571*u*w + 2.01085714285714e-7*u1 + 2.01085714285714e-7*u2 - 1.61332142857143e-7*u3 - 8.75e-9*u4 - 8.75e-9*u5 + 0.0148922*sin(theta),\n",
      "       -r*(5.53571428571429*Abs(r) + 0.25) - 25.7142857142857*u*v - 6.9375e-8*u4 + 6.9375e-8*u5 + 6.54285714285714e-9*u6],\n",
      "      dtype=object)}\n"
     ]
    }
   ],
   "source": [
    "print(Vdott)"
   ]
  },
  {
   "cell_type": "code",
   "execution_count": 250,
   "metadata": {},
   "outputs": [],
   "source": [
    "def ResolvEcuations(Vdot,ndot,VSym,nSym,USym,V_ant,n_ant,U,dt): #Retorna acelaraciones locales y velocidades inerciales\n",
    "    Values = []\n",
    "    for i in range(6):\n",
    "        Values.append((VSym.item(i),V_ant.item(i))) #Agrega tupla de (symbolo valor)   \n",
    "        Values.append((nSym.item(i),n_ant.item(i))) #Agrega tupla de (symbolo valor)\n",
    "        Values.append((USym.item(i),U.item(i)))     #Agrega tupla de (symbolo valor)\n",
    " \n",
    "    _Vdot = np.empty(6)\n",
    "    _ndot = np.empty(6)\n",
    "\n",
    "    for i in range(6):\n",
    "        _ndot[i] = ndot[i].subs(Values)\n",
    "        _Vdot[i] = Vdot[\"CMas\"][i].subs(Values)\n",
    "        \n",
    "    # limitacion para que zdot no sea negativa cuando z<=0  ...\n",
    "    \n",
    "    # -u*sin(theta) + v*sin(phi)*cos(theta) + w*cos(phi)*cos(theta)>=0 cuando z <=0\n",
    "\n",
    "    \n",
    "    return [_Vdot*dt,_ndot*dt,]\n",
    "    \n",
    "def IntegerEcuations(Vdot,ndot,VSym,nSym,USym,V_ant,n_ant,U,dt,T):\n",
    "    VdotValue,ndotValue = ResolvEcuations(Vdott,ndott,V,n,U,ceros,ceros,ceros,1)"
   ]
  },
  {
   "cell_type": "code",
   "execution_count": 344,
   "metadata": {},
   "outputs": [
    {
     "data": {
      "text/plain": [
       "[<matplotlib.lines.Line2D at 0x1f8399afdd8>]"
      ]
     },
     "execution_count": 344,
     "metadata": {},
     "output_type": "execute_result"
    },
    {
     "data": {
      "image/png": "[encoded data removed]",
      "text/plain": [
       "<Figure size 1080x288 with 1 Axes>"
      ]
     },
     "metadata": {
      "needs_background": "light"
     },
     "output_type": "display_data"
    }
   ],
   "source": [
    "#Se crea escalon unitario e impulso unitario\n",
    "u_ = lambda t: np.piecewise(t,t>=0,[1,0])\n",
    "\n",
    "a = -0.1\n",
    "b = 11\n",
    "dt =0.1\n",
    "# PROCEDIMIENTO\n",
    "t = np.arange(a, b, dt)\n",
    "U1 = -305975.830222824*u_(t-1)\n",
    "U2 = 58211.1871706801*u_(t-1)\n",
    "U3 = -283187.383319806*u_(t-1)\n",
    "U4 = -21187.9059693447*u_(t-1)\n",
    "U5 = 21187.9059693447*u_(t-1)\n",
    "U6 = -583125.177557552*u_(t-1)\n",
    "\n",
    "# SALIDA - GRAFICA\n",
    "plt.figure(1, figsize = [15,4])\n",
    "plt.plot(t,U1)\n"
   ]
  },
  {
   "cell_type": "code",
   "execution_count": 345,
   "metadata": {},
   "outputs": [],
   "source": [
    "UValores = np.array([U1,U2,U3,U4,U5,U6])\n",
    "UValores = UValores.transpose()\n",
    "ceros = np.zeros(6)\n",
    "Vdot = np.zeros(6)\n",
    "ndot = np.zeros(6)\n",
    "VActual = np.zeros(6)\n",
    "nActual = np.zeros(6)\n",
    "nActual[0] = 0\n",
    "nActual[1] = 0\n",
    "nActual[2] = 3\n",
    "nActual[3] = 0.00000000\n",
    "VValues = np.empty((t.size,6))\n",
    "nValues = np.empty((t.size,6))\n",
    "VdotValues = np.empty((t.size,6))\n",
    "ndotValues = np.empty((t.size,6))\n",
    "\n",
    "for i in arange(t.size):\n",
    "        \n",
    "    Vdot,ndot = ResolvEcuations(Vdott,ndott,V,n,U,VActual,nActual,UValores[i],dt)\n",
    "    \n",
    "    VActual += Vdot\n",
    "    nActual += ndot\n",
    "    if(nActual[3]>pi):\n",
    "        nActual[3]=-pi\n",
    "    elif(nActual[3]<-pi):\n",
    "        nActual[3] = pi\n",
    "    VValues[i] = VActual\n",
    "    nValues[i] = nActual\n",
    "    VdotValues[i] = Vdot\n",
    "    ndotValues[i] = ndot\n",
    "    \n",
    "    #print(\"p = {}     q = {}    r = {}     ndot = {} t= {}\".format(VActual[3],VActual[4],VActual[5],ndot[3], i*dt))"
   ]
  },
  {
   "cell_type": "code",
   "execution_count": 346,
   "metadata": {},
   "outputs": [
    {
     "data": {
      "text/plain": [
       "<matplotlib.legend.Legend at 0x1f83a3d9630>"
      ]
     },
     "execution_count": 346,
     "metadata": {},
     "output_type": "execute_result"
    },
    {
     "data": {
      "image/png": "[encoded data removed]",
      "text/plain": [
       "<Figure size 1080x1080 with 4 Axes>"
      ]
     },
     "metadata": {
      "needs_background": "light"
     },
     "output_type": "display_data"
    }
   ],
   "source": [
    "plt.figure(1, figsize = [15,15])\n",
    "\n",
    "plt.subplot(411)\n",
    "#plt.plot(t,u0,label='Impulso')\n",
    "plt.plot(t,VdotValues.transpose()[0],label='Udot')\n",
    "plt.plot(t,VdotValues.transpose()[1],label='Vdot')\n",
    "plt.plot(t,VdotValues.transpose()[2],label='Wdot')\n",
    "plt.plot(t,VdotValues.transpose()[3],label='Pdot')\n",
    "plt.plot(t,VdotValues.transpose()[4],label='Qdot')\n",
    "plt.plot(t,VdotValues.transpose()[5],label='Rdot')\n",
    "plt.legend(loc='upper center')\n",
    "\n",
    "plt.subplot(412)\n",
    "plt.plot(t,U1,label='Impulso')\n",
    "plt.plot(t,VValues.transpose()[0],label='U')\n",
    "plt.plot(t,VValues.transpose()[1],label='V')\n",
    "plt.plot(t,VValues.transpose()[2],label='W')\n",
    "plt.plot(t,VValues.transpose()[3],label='P')\n",
    "plt.plot(t,VValues.transpose()[4],label='Q')\n",
    "plt.plot(t,VValues.transpose()[5],label='R')\n",
    "plt.legend(loc='lower left')\n",
    "\n",
    "\n",
    "plt.subplot(413)\n",
    "#plt.plot(t,u0,label='Impulso')\n",
    "plt.plot(t,ndotValues.transpose()[0],label='Xdot')\n",
    "plt.plot(t,ndotValues.transpose()[1],label='Ydot')\n",
    "plt.plot(t,ndotValues.transpose()[2],label='Zdot')\n",
    "plt.plot(t,ndotValues.transpose()[3],label='Φdot')\n",
    "plt.plot(t,ndotValues.transpose()[4],label='θdot')\n",
    "plt.plot(t,ndotValues.transpose()[5],label='Ψdot')\n",
    "plt.legend(loc='lower center')\n",
    "\n",
    "plt.subplot(414)\n",
    "#plt.plot(t,u0,label='Impulso')\n",
    "plt.plot(t,nValues.transpose()[0],label='X')\n",
    "plt.plot(t,nValues.transpose()[1],label='Y')\n",
    "plt.plot(t,nValues.transpose()[2],label='Z')\n",
    "plt.plot(t,nValues.transpose()[3],label='Φ')\n",
    "plt.plot(t,nValues.transpose()[4],label='θ')\n",
    "plt.plot(t,nValues.transpose()[5],label='Ψ')\n",
    "plt.legend(loc='lower center')"
   ]
  },
  {
   "cell_type": "code",
   "execution_count": 340,
   "metadata": {},
   "outputs": [
    {
     "ename": "TypeError",
     "evalue": "can't convert expression to float",
     "output_type": "error",
     "traceback": [
      "\u001b[1;31m---------------------------------------------------------------------------\u001b[0m",
      "\u001b[1;31mTypeError\u001b[0m                                 Traceback (most recent call last)",
      "\u001b[1;32m<ipython-input-340-4b08dc280c10>\u001b[0m in \u001b[0;36m<module>\u001b[1;34m\u001b[0m\n\u001b[1;32m----> 1\u001b[1;33m \u001b[0mVdot2\u001b[0m\u001b[1;33m,\u001b[0m\u001b[0mndot2\u001b[0m \u001b[1;33m=\u001b[0m \u001b[0mResolvEcuations\u001b[0m\u001b[1;33m(\u001b[0m\u001b[0mVdott\u001b[0m\u001b[1;33m,\u001b[0m\u001b[0mndott\u001b[0m\u001b[1;33m,\u001b[0m\u001b[0mV\u001b[0m\u001b[1;33m,\u001b[0m\u001b[0mn\u001b[0m\u001b[1;33m,\u001b[0m\u001b[0mU\u001b[0m\u001b[1;33m,\u001b[0m\u001b[0mnp\u001b[0m\u001b[1;33m.\u001b[0m\u001b[0mzeros\u001b[0m\u001b[1;33m(\u001b[0m\u001b[1;36m6\u001b[0m\u001b[1;33m)\u001b[0m\u001b[1;33m,\u001b[0m\u001b[0mnp\u001b[0m\u001b[1;33m.\u001b[0m\u001b[0mzeros\u001b[0m\u001b[1;33m(\u001b[0m\u001b[1;36m6\u001b[0m\u001b[1;33m)\u001b[0m\u001b[1;33m,\u001b[0m\u001b[0mnp\u001b[0m\u001b[1;33m.\u001b[0m\u001b[0marray\u001b[0m\u001b[1;33m(\u001b[0m\u001b[1;33m[\u001b[0m\u001b[0mu1\u001b[0m\u001b[1;33m,\u001b[0m\u001b[0mu2\u001b[0m\u001b[1;33m,\u001b[0m\u001b[0mu3\u001b[0m\u001b[1;33m,\u001b[0m\u001b[0mu4\u001b[0m\u001b[1;33m,\u001b[0m\u001b[0mu5\u001b[0m\u001b[1;33m,\u001b[0m\u001b[0mu6\u001b[0m\u001b[1;33m]\u001b[0m\u001b[1;33m)\u001b[0m\u001b[1;33m,\u001b[0m\u001b[1;36m1\u001b[0m\u001b[1;33m)\u001b[0m\u001b[1;33m\u001b[0m\u001b[1;33m\u001b[0m\u001b[0m\n\u001b[0m",
      "\u001b[1;32m<ipython-input-250-772c3c55a5e9>\u001b[0m in \u001b[0;36mResolvEcuations\u001b[1;34m(Vdot, ndot, VSym, nSym, USym, V_ant, n_ant, U, dt)\u001b[0m\n\u001b[0;32m     11\u001b[0m     \u001b[1;32mfor\u001b[0m \u001b[0mi\u001b[0m \u001b[1;32min\u001b[0m \u001b[0mrange\u001b[0m\u001b[1;33m(\u001b[0m\u001b[1;36m6\u001b[0m\u001b[1;33m)\u001b[0m\u001b[1;33m:\u001b[0m\u001b[1;33m\u001b[0m\u001b[1;33m\u001b[0m\u001b[0m\n\u001b[0;32m     12\u001b[0m         \u001b[0m_ndot\u001b[0m\u001b[1;33m[\u001b[0m\u001b[0mi\u001b[0m\u001b[1;33m]\u001b[0m \u001b[1;33m=\u001b[0m \u001b[0mndot\u001b[0m\u001b[1;33m[\u001b[0m\u001b[0mi\u001b[0m\u001b[1;33m]\u001b[0m\u001b[1;33m.\u001b[0m\u001b[0msubs\u001b[0m\u001b[1;33m(\u001b[0m\u001b[0mValues\u001b[0m\u001b[1;33m)\u001b[0m\u001b[1;33m\u001b[0m\u001b[1;33m\u001b[0m\u001b[0m\n\u001b[1;32m---> 13\u001b[1;33m         \u001b[0m_Vdot\u001b[0m\u001b[1;33m[\u001b[0m\u001b[0mi\u001b[0m\u001b[1;33m]\u001b[0m \u001b[1;33m=\u001b[0m \u001b[0mVdot\u001b[0m\u001b[1;33m[\u001b[0m\u001b[1;34m\"CMas\"\u001b[0m\u001b[1;33m]\u001b[0m\u001b[1;33m[\u001b[0m\u001b[0mi\u001b[0m\u001b[1;33m]\u001b[0m\u001b[1;33m.\u001b[0m\u001b[0msubs\u001b[0m\u001b[1;33m(\u001b[0m\u001b[0mValues\u001b[0m\u001b[1;33m)\u001b[0m\u001b[1;33m\u001b[0m\u001b[1;33m\u001b[0m\u001b[0m\n\u001b[0m\u001b[0;32m     14\u001b[0m \u001b[1;33m\u001b[0m\u001b[0m\n\u001b[0;32m     15\u001b[0m     \u001b[1;31m# limitacion para que zdot no sea negativa cuando z<=0  ...\u001b[0m\u001b[1;33m\u001b[0m\u001b[1;33m\u001b[0m\u001b[1;33m\u001b[0m\u001b[0m\n",
      "\u001b[1;32m~\\Anaconda3\\lib\\site-packages\\sympy\\core\\expr.py\u001b[0m in \u001b[0;36m__float__\u001b[1;34m(self)\u001b[0m\n\u001b[0;32m    278\u001b[0m         \u001b[1;32mif\u001b[0m \u001b[0mresult\u001b[0m\u001b[1;33m.\u001b[0m\u001b[0mis_number\u001b[0m \u001b[1;32mand\u001b[0m \u001b[0mresult\u001b[0m\u001b[1;33m.\u001b[0m\u001b[0mas_real_imag\u001b[0m\u001b[1;33m(\u001b[0m\u001b[1;33m)\u001b[0m\u001b[1;33m[\u001b[0m\u001b[1;36m1\u001b[0m\u001b[1;33m]\u001b[0m\u001b[1;33m:\u001b[0m\u001b[1;33m\u001b[0m\u001b[1;33m\u001b[0m\u001b[0m\n\u001b[0;32m    279\u001b[0m             \u001b[1;32mraise\u001b[0m \u001b[0mTypeError\u001b[0m\u001b[1;33m(\u001b[0m\u001b[1;34m\"can't convert complex to float\"\u001b[0m\u001b[1;33m)\u001b[0m\u001b[1;33m\u001b[0m\u001b[1;33m\u001b[0m\u001b[0m\n\u001b[1;32m--> 280\u001b[1;33m         \u001b[1;32mraise\u001b[0m \u001b[0mTypeError\u001b[0m\u001b[1;33m(\u001b[0m\u001b[1;34m\"can't convert expression to float\"\u001b[0m\u001b[1;33m)\u001b[0m\u001b[1;33m\u001b[0m\u001b[1;33m\u001b[0m\u001b[0m\n\u001b[0m\u001b[0;32m    281\u001b[0m \u001b[1;33m\u001b[0m\u001b[0m\n\u001b[0;32m    282\u001b[0m     \u001b[1;32mdef\u001b[0m \u001b[0m__complex__\u001b[0m\u001b[1;33m(\u001b[0m\u001b[0mself\u001b[0m\u001b[1;33m)\u001b[0m\u001b[1;33m:\u001b[0m\u001b[1;33m\u001b[0m\u001b[1;33m\u001b[0m\u001b[0m\n",
      "\u001b[1;31mTypeError\u001b[0m: can't convert expression to float"
     ]
    }
   ],
   "source": [
    "Vdot2,ndot2 = ResolvEcuations(Vdott,ndott,V,n,U,np.zeros(6),np.zeros(6),np.array([u1,u2,u3,u4,u5,u6]),1)"
   ]
  },
  {
   "cell_type": "code",
   "execution_count": null,
   "metadata": {},
   "outputs": [],
   "source": [
    "print(sin())"
   ]
  },
  {
   "cell_type": "code",
   "execution_count": 225,
   "metadata": {},
   "outputs": [
    {
     "name": "stdout",
     "output_type": "stream",
     "text": [
      "[u1 u2 u3 u4 u5 u6]\n"
     ]
    }
   ],
   "source": [
    "expr = x**3 + 4*x*y - z\n",
    "expr.subs([(x, 2), (y, 4), (z, z)])\n",
    "print(U)\n"
   ]
  },
  {
   "cell_type": "code",
   "execution_count": 226,
   "metadata": {},
   "outputs": [
    {
     "name": "stdout",
     "output_type": "stream",
     "text": [
      "[1.88134270101483e-5*u4 + 1.88134270101483e-5*u5, 0.000121650674662669*u2 + 1.2143928035982e-5*u6, -1.52193784277879e-5*u1 - 1.52193784277879e-5*u2 - 1.02376599634369e-5*u3 - 6.67, -9.24075e-7*u1 + 9.24075e-7*u2 + 5.77125e-7*u6, 1.81960714285714e-7*u1 + 1.81960714285714e-7*u2 - 1.592e-7*u3 - 1.205e-8*u4 - 1.205e-8*u5, -9.55392857142857e-8*u4 + 9.55392857142857e-8*u5 + 6.94285714285714e-9*u6]\n"
     ]
    }
   ],
   "source": [
    "Solve = []\n",
    "Solve.append(Vdott[\"CMas\"][0].subs([(u, 0.0), (x, 0.0), (u1, u1), (v, 0.0), (y, 0.0), (u2, u2), (w, 0.0), (z, 0.0), (u3, u3), (p, 0.0), (phi, 0.0), (u4, u4), (q, 0.0), (theta, 0.0), (u5, u5), (r, 0.0), (psi, 0.0), (u6, u6)]))\n",
    "Solve.append(Vdott[\"CMas\"][1].subs([(u, 0.0), (x, 0.0), (u1, u1), (v, 0.0), (y, 0.0), (u2, u2), (w, 0.0), (z, 0.0), (u3, u3), (p, 0.0), (phi, 0.0), (u4, u4), (q, 0.0), (theta, 0.0), (u5, u5), (r, 0.0), (psi, 0.0), (u6, u6)]))\n",
    "Solve.append(Vdott[\"CMas\"][2].subs([(u, 0.0), (x, 0.0), (u1, u1), (v, 0.0), (y, 0.0), (u2, u2), (w, 0.0), (z, 0.0), (u3, u3), (p, 0.0), (phi, 0.0), (u4, u4), (q, 0.0), (theta, 0.0), (u5, u5), (r, 0.0), (psi, 0.0), (u6, u6)]))\n",
    "Solve.append(Vdott[\"CMas\"][3].subs([(u, 0.0), (x, 0.0), (u1, u1), (v, 0.0), (y, 0.0), (u2, u2), (w, 0.0), (z, 0.0), (u3, u3), (p, 0.0), (phi, 0.0), (u4, u4), (q, 0.0), (theta, 0.0), (u5, u5), (r, 0.0), (psi, 0.0), (u6, u6)]))\n",
    "Solve.append(Vdott[\"CMas\"][4].subs([(u, 0.0), (x, 0.0), (u1, u1), (v, 0.0), (y, 0.0), (u2, u2), (w, 0.0), (z, 0.0), (u3, u3), (p, 0.0), (phi, 0.0), (u4, u4), (q, 0.0), (theta, 0.0), (u5, u5), (r, 0.0), (psi, 0.0), (u6, u6)]))\n",
    "Solve.append(Vdott[\"CMas\"][5].subs([(u, 0.0), (x, 0.0), (u1, u1), (v, 0.0), (y, 0.0), (u2, u2), (w, 0.0), (z, 0.0), (u3, u3), (p, 0.0), (phi, 0.0), (u4, u4), (q, 0.0), (theta, 0.0), (u5, u5), (r, 0.0), (psi, 0.0), (u6, u6)]))\n",
    "print(Solve)"
   ]
  },
  {
   "cell_type": "code",
   "execution_count": null,
   "metadata": {},
   "outputs": [],
   "source": [
    "\n"
   ]
  },
  {
   "cell_type": "code",
   "execution_count": 234,
   "metadata": {},
   "outputs": [
    {
     "data": {
      "image/png": "[encoded data removed]",
      "text/latex": [
       "$\\displaystyle \\left\\{\\left( -305975.830222824, \\  58211.1871706801, \\  -283187.383319806, \\  -21187.9059693447, \\  21187.9059693447, \\  -583125.177557552\\right)\\right\\}$"
      ],
      "text/plain": [
       "{(-305975.830222824, 58211.1871706801, -283187.383319806, -21187.9059693447, 2\n",
       "1187.9059693447, -583125.177557552)}"
      ]
     },
     "execution_count": 234,
     "metadata": {},
     "output_type": "execute_result"
    }
   ],
   "source": [
    "from sympy import *\n",
    "linsolve([1.88134270101483e-5*u4 + 1.88134270101483e-5*u5, 0.000121650674662669*u2 + 1.2143928035982e-5*u6, -1.52193784277879e-5*u1 - 1.52193784277879e-5*u2 - 1.02376599634369e-5*u3 - 6.67, -9.24075e-7*u1 + 9.24075e-7*u2 + 5.77125e-7*u6, 1.81960714285714e-7*u1 + 1.81960714285714e-7*u2 - 1.592e-7*u3 - 1.205e-8*u4 - 1.205e-8*u5, -9.55392857142857e-8*u4 + 9.55392857142857e-8*u5 + 6.94285714285714e-9*u6], [u1,u2,u3,u4,u5,u6])"
   ]
  },
  {
   "cell_type": "code",
   "execution_count": 291,
   "metadata": {},
   "outputs": [
    {
     "ename": "AttributeError",
     "evalue": "module 'sympy' has no attribute 'polys'",
     "output_type": "error",
     "traceback": [
      "\u001b[1;31m---------------------------------------------------------------------------\u001b[0m",
      "\u001b[1;31mAttributeError\u001b[0m                            Traceback (most recent call last)",
      "\u001b[1;32m<ipython-input-291-4704ad37ab9e>\u001b[0m in \u001b[0;36m<module>\u001b[1;34m\u001b[0m\n\u001b[0;32m      6\u001b[0m        -r*(5.53571428571429*Abs(r) + 0.25) - 25.7142857142857*u*v - 9.55392857142857e-8*u4 + 9.55392857142857e-8*u5 + 6.94285714285714e-9*u6,u*cos(psi)*cos(theta) + v*(sin(phi)*sin(theta)*cos(psi) - sin(psi)*cos(phi)) + w*(sin(phi)*sin(psi) + sin(theta)*cos(phi)*cos(psi)), u*sin(psi)*cos(theta) + v*(sin(phi)*sin(psi)*sin(theta) + cos(phi)*cos(psi)) + w*(-sin(phi)*cos(psi) + sin(psi)*sin(theta)*cos(phi)), -u*sin(theta) + v*sin(phi)*cos(theta) + w*cos(phi)*cos(theta), 1.0*p + q*sin(phi)*sin(theta)/cos(theta) + r*sin(theta)*cos(phi)/cos(theta), q*cos(phi) - r*sin(phi), q*sin(phi)/cos(theta) + 1.0*r]\n\u001b[0;32m      7\u001b[0m \u001b[0mEGGG_n\u001b[0m \u001b[1;33m=\u001b[0m\u001b[1;33m[\u001b[0m\u001b[0mu\u001b[0m\u001b[1;33m*\u001b[0m\u001b[0mcos\u001b[0m\u001b[1;33m(\u001b[0m\u001b[0mpsi\u001b[0m\u001b[1;33m)\u001b[0m\u001b[1;33m*\u001b[0m\u001b[0mcos\u001b[0m\u001b[1;33m(\u001b[0m\u001b[0mtheta\u001b[0m\u001b[1;33m)\u001b[0m \u001b[1;33m+\u001b[0m \u001b[0mv\u001b[0m\u001b[1;33m*\u001b[0m\u001b[1;33m(\u001b[0m\u001b[0msin\u001b[0m\u001b[1;33m(\u001b[0m\u001b[0mphi\u001b[0m\u001b[1;33m)\u001b[0m\u001b[1;33m*\u001b[0m\u001b[0msin\u001b[0m\u001b[1;33m(\u001b[0m\u001b[0mtheta\u001b[0m\u001b[1;33m)\u001b[0m\u001b[1;33m*\u001b[0m\u001b[0mcos\u001b[0m\u001b[1;33m(\u001b[0m\u001b[0mpsi\u001b[0m\u001b[1;33m)\u001b[0m \u001b[1;33m-\u001b[0m \u001b[0msin\u001b[0m\u001b[1;33m(\u001b[0m\u001b[0mpsi\u001b[0m\u001b[1;33m)\u001b[0m\u001b[1;33m*\u001b[0m\u001b[0mcos\u001b[0m\u001b[1;33m(\u001b[0m\u001b[0mphi\u001b[0m\u001b[1;33m)\u001b[0m\u001b[1;33m)\u001b[0m \u001b[1;33m+\u001b[0m \u001b[0mw\u001b[0m\u001b[1;33m*\u001b[0m\u001b[1;33m(\u001b[0m\u001b[0msin\u001b[0m\u001b[1;33m(\u001b[0m\u001b[0mphi\u001b[0m\u001b[1;33m)\u001b[0m\u001b[1;33m*\u001b[0m\u001b[0msin\u001b[0m\u001b[1;33m(\u001b[0m\u001b[0mpsi\u001b[0m\u001b[1;33m)\u001b[0m \u001b[1;33m+\u001b[0m \u001b[0msin\u001b[0m\u001b[1;33m(\u001b[0m\u001b[0mtheta\u001b[0m\u001b[1;33m)\u001b[0m\u001b[1;33m*\u001b[0m\u001b[0mcos\u001b[0m\u001b[1;33m(\u001b[0m\u001b[0mphi\u001b[0m\u001b[1;33m)\u001b[0m\u001b[1;33m*\u001b[0m\u001b[0mcos\u001b[0m\u001b[1;33m(\u001b[0m\u001b[0mpsi\u001b[0m\u001b[1;33m)\u001b[0m\u001b[1;33m)\u001b[0m\u001b[1;33m,\u001b[0m \u001b[0mu\u001b[0m\u001b[1;33m*\u001b[0m\u001b[0msin\u001b[0m\u001b[1;33m(\u001b[0m\u001b[0mpsi\u001b[0m\u001b[1;33m)\u001b[0m\u001b[1;33m*\u001b[0m\u001b[0mcos\u001b[0m\u001b[1;33m(\u001b[0m\u001b[0mtheta\u001b[0m\u001b[1;33m)\u001b[0m \u001b[1;33m+\u001b[0m \u001b[0mv\u001b[0m\u001b[1;33m*\u001b[0m\u001b[1;33m(\u001b[0m\u001b[0msin\u001b[0m\u001b[1;33m(\u001b[0m\u001b[0mphi\u001b[0m\u001b[1;33m)\u001b[0m\u001b[1;33m*\u001b[0m\u001b[0msin\u001b[0m\u001b[1;33m(\u001b[0m\u001b[0mpsi\u001b[0m\u001b[1;33m)\u001b[0m\u001b[1;33m*\u001b[0m\u001b[0msin\u001b[0m\u001b[1;33m(\u001b[0m\u001b[0mtheta\u001b[0m\u001b[1;33m)\u001b[0m \u001b[1;33m+\u001b[0m \u001b[0mcos\u001b[0m\u001b[1;33m(\u001b[0m\u001b[0mphi\u001b[0m\u001b[1;33m)\u001b[0m\u001b[1;33m*\u001b[0m\u001b[0mcos\u001b[0m\u001b[1;33m(\u001b[0m\u001b[0mpsi\u001b[0m\u001b[1;33m)\u001b[0m\u001b[1;33m)\u001b[0m \u001b[1;33m+\u001b[0m \u001b[0mw\u001b[0m\u001b[1;33m*\u001b[0m\u001b[1;33m(\u001b[0m\u001b[1;33m-\u001b[0m\u001b[0msin\u001b[0m\u001b[1;33m(\u001b[0m\u001b[0mphi\u001b[0m\u001b[1;33m)\u001b[0m\u001b[1;33m*\u001b[0m\u001b[0mcos\u001b[0m\u001b[1;33m(\u001b[0m\u001b[0mpsi\u001b[0m\u001b[1;33m)\u001b[0m \u001b[1;33m+\u001b[0m \u001b[0msin\u001b[0m\u001b[1;33m(\u001b[0m\u001b[0mpsi\u001b[0m\u001b[1;33m)\u001b[0m\u001b[1;33m*\u001b[0m\u001b[0msin\u001b[0m\u001b[1;33m(\u001b[0m\u001b[0mtheta\u001b[0m\u001b[1;33m)\u001b[0m\u001b[1;33m*\u001b[0m\u001b[0mcos\u001b[0m\u001b[1;33m(\u001b[0m\u001b[0mphi\u001b[0m\u001b[1;33m)\u001b[0m\u001b[1;33m)\u001b[0m\u001b[1;33m,\u001b[0m \u001b[1;33m-\u001b[0m\u001b[0mu\u001b[0m\u001b[1;33m*\u001b[0m\u001b[0msin\u001b[0m\u001b[1;33m(\u001b[0m\u001b[0mtheta\u001b[0m\u001b[1;33m)\u001b[0m \u001b[1;33m+\u001b[0m \u001b[0mv\u001b[0m\u001b[1;33m*\u001b[0m\u001b[0msin\u001b[0m\u001b[1;33m(\u001b[0m\u001b[0mphi\u001b[0m\u001b[1;33m)\u001b[0m\u001b[1;33m*\u001b[0m\u001b[0mcos\u001b[0m\u001b[1;33m(\u001b[0m\u001b[0mtheta\u001b[0m\u001b[1;33m)\u001b[0m \u001b[1;33m+\u001b[0m \u001b[0mw\u001b[0m\u001b[1;33m*\u001b[0m\u001b[0mcos\u001b[0m\u001b[1;33m(\u001b[0m\u001b[0mphi\u001b[0m\u001b[1;33m)\u001b[0m\u001b[1;33m*\u001b[0m\u001b[0mcos\u001b[0m\u001b[1;33m(\u001b[0m\u001b[0mtheta\u001b[0m\u001b[1;33m)\u001b[0m\u001b[1;33m,\u001b[0m \u001b[1;36m1.0\u001b[0m\u001b[1;33m*\u001b[0m\u001b[0mp\u001b[0m \u001b[1;33m+\u001b[0m \u001b[0mq\u001b[0m\u001b[1;33m*\u001b[0m\u001b[0msin\u001b[0m\u001b[1;33m(\u001b[0m\u001b[0mphi\u001b[0m\u001b[1;33m)\u001b[0m\u001b[1;33m*\u001b[0m\u001b[0msin\u001b[0m\u001b[1;33m(\u001b[0m\u001b[0mtheta\u001b[0m\u001b[1;33m)\u001b[0m\u001b[1;33m/\u001b[0m\u001b[0mcos\u001b[0m\u001b[1;33m(\u001b[0m\u001b[0mtheta\u001b[0m\u001b[1;33m)\u001b[0m \u001b[1;33m+\u001b[0m \u001b[0mr\u001b[0m\u001b[1;33m*\u001b[0m\u001b[0msin\u001b[0m\u001b[1;33m(\u001b[0m\u001b[0mtheta\u001b[0m\u001b[1;33m)\u001b[0m\u001b[1;33m*\u001b[0m\u001b[0mcos\u001b[0m\u001b[1;33m(\u001b[0m\u001b[0mphi\u001b[0m\u001b[1;33m)\u001b[0m\u001b[1;33m/\u001b[0m\u001b[0mcos\u001b[0m\u001b[1;33m(\u001b[0m\u001b[0mtheta\u001b[0m\u001b[1;33m)\u001b[0m\u001b[1;33m,\u001b[0m \u001b[0mq\u001b[0m\u001b[1;33m*\u001b[0m\u001b[0mcos\u001b[0m\u001b[1;33m(\u001b[0m\u001b[0mphi\u001b[0m\u001b[1;33m)\u001b[0m \u001b[1;33m-\u001b[0m \u001b[0mr\u001b[0m\u001b[1;33m*\u001b[0m\u001b[0msin\u001b[0m\u001b[1;33m(\u001b[0m\u001b[0mphi\u001b[0m\u001b[1;33m)\u001b[0m\u001b[1;33m,\u001b[0m \u001b[0mq\u001b[0m\u001b[1;33m*\u001b[0m\u001b[0msin\u001b[0m\u001b[1;33m(\u001b[0m\u001b[0mphi\u001b[0m\u001b[1;33m)\u001b[0m\u001b[1;33m/\u001b[0m\u001b[0mcos\u001b[0m\u001b[1;33m(\u001b[0m\u001b[0mtheta\u001b[0m\u001b[1;33m)\u001b[0m \u001b[1;33m+\u001b[0m \u001b[1;36m1.0\u001b[0m\u001b[1;33m*\u001b[0m\u001b[0mr\u001b[0m\u001b[1;33m]\u001b[0m\u001b[1;33m\u001b[0m\u001b[1;33m\u001b[0m\u001b[0m\n\u001b[1;32m----> 8\u001b[1;33m \u001b[0mnonlinsolve\u001b[0m\u001b[1;33m(\u001b[0m\u001b[0mEGGG_V\u001b[0m\u001b[1;33m,\u001b[0m\u001b[1;33m[\u001b[0m\u001b[0mu\u001b[0m\u001b[1;33m,\u001b[0m\u001b[0mv\u001b[0m\u001b[1;33m,\u001b[0m\u001b[0mw\u001b[0m\u001b[1;33m,\u001b[0m\u001b[0mp\u001b[0m\u001b[1;33m,\u001b[0m\u001b[0mq\u001b[0m\u001b[1;33m,\u001b[0m\u001b[0mr\u001b[0m\u001b[1;33m,\u001b[0m\u001b[0mx\u001b[0m\u001b[1;33m,\u001b[0m\u001b[0my\u001b[0m\u001b[1;33m,\u001b[0m\u001b[0mz\u001b[0m\u001b[1;33m,\u001b[0m\u001b[0mphi\u001b[0m\u001b[1;33m,\u001b[0m\u001b[0mtheta\u001b[0m\u001b[1;33m,\u001b[0m\u001b[0mpsi\u001b[0m\u001b[1;33m,\u001b[0m\u001b[0mu1\u001b[0m\u001b[1;33m,\u001b[0m\u001b[0mu2\u001b[0m\u001b[1;33m,\u001b[0m\u001b[0mu3\u001b[0m\u001b[1;33m,\u001b[0m\u001b[0mu4\u001b[0m\u001b[1;33m,\u001b[0m\u001b[0mu5\u001b[0m\u001b[1;33m,\u001b[0m\u001b[0mu6\u001b[0m\u001b[1;33m]\u001b[0m\u001b[1;33m)\u001b[0m\u001b[1;33m\u001b[0m\u001b[1;33m\u001b[0m\u001b[0m\n\u001b[0m",
      "\u001b[1;32m~\\Anaconda3\\lib\\site-packages\\sympy\\solvers\\solveset.py\u001b[0m in \u001b[0;36mnonlinsolve\u001b[1;34m(system, *symbols)\u001b[0m\n\u001b[0;32m   3061\u001b[0m         \u001b[1;31m# Use `substitution` method for the system\u001b[0m\u001b[1;33m\u001b[0m\u001b[1;33m\u001b[0m\u001b[1;33m\u001b[0m\u001b[0m\n\u001b[0;32m   3062\u001b[0m         result = substitution(\n\u001b[1;32m-> 3063\u001b[1;33m             polys_expr + nonpolys, symbols, exclude=denominators)\n\u001b[0m\u001b[0;32m   3064\u001b[0m         \u001b[1;32mreturn\u001b[0m \u001b[0mresult\u001b[0m\u001b[1;33m\u001b[0m\u001b[1;33m\u001b[0m\u001b[0m\n",
      "\u001b[1;32m~\\Anaconda3\\lib\\site-packages\\sympy\\solvers\\solveset.py\u001b[0m in \u001b[0;36msubstitution\u001b[1;34m(system, symbols, result, known_symbols, exclude, all_symbols)\u001b[0m\n\u001b[0;32m   2717\u001b[0m \u001b[1;33m\u001b[0m\u001b[0m\n\u001b[0;32m   2718\u001b[0m     new_result_real, solve_call1, cnd_call1 = _solve_using_known_values(\n\u001b[1;32m-> 2719\u001b[1;33m         old_result, solveset_real)\n\u001b[0m\u001b[0;32m   2720\u001b[0m     new_result_complex, solve_call2, cnd_call2 = _solve_using_known_values(\n\u001b[0;32m   2721\u001b[0m         old_result, solveset_complex)\n",
      "\u001b[1;32m~\\Anaconda3\\lib\\site-packages\\sympy\\solvers\\solveset.py\u001b[0m in \u001b[0;36m_solve_using_known_values\u001b[1;34m(result, solver)\u001b[0m\n\u001b[0;32m   2632\u001b[0m                     \u001b[0mnot_solvable\u001b[0m \u001b[1;33m=\u001b[0m \u001b[1;32mFalse\u001b[0m\u001b[1;33m\u001b[0m\u001b[1;33m\u001b[0m\u001b[0m\n\u001b[0;32m   2633\u001b[0m                     \u001b[1;32mtry\u001b[0m\u001b[1;33m:\u001b[0m\u001b[1;33m\u001b[0m\u001b[1;33m\u001b[0m\u001b[0m\n\u001b[1;32m-> 2634\u001b[1;33m                         \u001b[0msoln\u001b[0m \u001b[1;33m=\u001b[0m \u001b[0msolver\u001b[0m\u001b[1;33m(\u001b[0m\u001b[0meq2\u001b[0m\u001b[1;33m,\u001b[0m \u001b[0msym\u001b[0m\u001b[1;33m)\u001b[0m\u001b[1;33m\u001b[0m\u001b[1;33m\u001b[0m\u001b[0m\n\u001b[0m\u001b[0;32m   2635\u001b[0m                         \u001b[0mtotal_solvest_call\u001b[0m \u001b[1;33m+=\u001b[0m \u001b[1;36m1\u001b[0m\u001b[1;33m\u001b[0m\u001b[1;33m\u001b[0m\u001b[0m\n\u001b[0;32m   2636\u001b[0m                         \u001b[0msoln_new\u001b[0m \u001b[1;33m=\u001b[0m \u001b[0mS\u001b[0m\u001b[1;33m.\u001b[0m\u001b[0mEmptySet\u001b[0m\u001b[1;33m\u001b[0m\u001b[1;33m\u001b[0m\u001b[0m\n",
      "\u001b[1;32m~\\Anaconda3\\lib\\site-packages\\sympy\\solvers\\solveset.py\u001b[0m in \u001b[0;36msolveset_real\u001b[1;34m(f, symbol)\u001b[0m\n\u001b[0;32m   1716\u001b[0m \u001b[1;33m\u001b[0m\u001b[0m\n\u001b[0;32m   1717\u001b[0m \u001b[1;32mdef\u001b[0m \u001b[0msolveset_real\u001b[0m\u001b[1;33m(\u001b[0m\u001b[0mf\u001b[0m\u001b[1;33m,\u001b[0m \u001b[0msymbol\u001b[0m\u001b[1;33m)\u001b[0m\u001b[1;33m:\u001b[0m\u001b[1;33m\u001b[0m\u001b[1;33m\u001b[0m\u001b[0m\n\u001b[1;32m-> 1718\u001b[1;33m     \u001b[1;32mreturn\u001b[0m \u001b[0msolveset\u001b[0m\u001b[1;33m(\u001b[0m\u001b[0mf\u001b[0m\u001b[1;33m,\u001b[0m \u001b[0msymbol\u001b[0m\u001b[1;33m,\u001b[0m \u001b[0mS\u001b[0m\u001b[1;33m.\u001b[0m\u001b[0mReals\u001b[0m\u001b[1;33m)\u001b[0m\u001b[1;33m\u001b[0m\u001b[1;33m\u001b[0m\u001b[0m\n\u001b[0m\u001b[0;32m   1719\u001b[0m \u001b[1;33m\u001b[0m\u001b[0m\n\u001b[0;32m   1720\u001b[0m \u001b[1;33m\u001b[0m\u001b[0m\n",
      "\u001b[1;32m~\\Anaconda3\\lib\\site-packages\\sympy\\solvers\\solveset.py\u001b[0m in \u001b[0;36msolveset\u001b[1;34m(f, symbol, domain)\u001b[0m\n\u001b[0;32m   1694\u001b[0m             \u001b[1;32mtry\u001b[0m\u001b[1;33m:\u001b[0m\u001b[1;33m\u001b[0m\u001b[1;33m\u001b[0m\u001b[0m\n\u001b[0;32m   1695\u001b[0m                 \u001b[0mr\u001b[0m \u001b[1;33m=\u001b[0m \u001b[0mDummy\u001b[0m\u001b[1;33m(\u001b[0m\u001b[1;34m'r'\u001b[0m\u001b[1;33m,\u001b[0m \u001b[1;33m**\u001b[0m\u001b[0massumptions\u001b[0m\u001b[1;33m)\u001b[0m\u001b[1;33m\u001b[0m\u001b[1;33m\u001b[0m\u001b[0m\n\u001b[1;32m-> 1696\u001b[1;33m                 return solveset(f.xreplace({symbol: r}), r, domain\n\u001b[0m\u001b[0;32m   1697\u001b[0m                     ).xreplace({r: symbol})\n\u001b[0;32m   1698\u001b[0m             \u001b[1;32mexcept\u001b[0m \u001b[0mInconsistentAssumptions\u001b[0m\u001b[1;33m:\u001b[0m\u001b[1;33m\u001b[0m\u001b[1;33m\u001b[0m\u001b[0m\n",
      "\u001b[1;32m~\\Anaconda3\\lib\\site-packages\\sympy\\solvers\\solveset.py\u001b[0m in \u001b[0;36msolveset\u001b[1;34m(f, symbol, domain)\u001b[0m\n\u001b[0;32m   1712\u001b[0m     \u001b[0mf\u001b[0m \u001b[1;33m=\u001b[0m \u001b[0mpiecewise_fold\u001b[0m\u001b[1;33m(\u001b[0m\u001b[0mf\u001b[0m\u001b[1;33m)\u001b[0m\u001b[1;33m\u001b[0m\u001b[1;33m\u001b[0m\u001b[0m\n\u001b[0;32m   1713\u001b[0m \u001b[1;33m\u001b[0m\u001b[0m\n\u001b[1;32m-> 1714\u001b[1;33m     \u001b[1;32mreturn\u001b[0m \u001b[0m_solveset\u001b[0m\u001b[1;33m(\u001b[0m\u001b[0mf\u001b[0m\u001b[1;33m,\u001b[0m \u001b[0msymbol\u001b[0m\u001b[1;33m,\u001b[0m \u001b[0mdomain\u001b[0m\u001b[1;33m,\u001b[0m \u001b[0m_check\u001b[0m\u001b[1;33m=\u001b[0m\u001b[1;32mTrue\u001b[0m\u001b[1;33m)\u001b[0m\u001b[1;33m\u001b[0m\u001b[1;33m\u001b[0m\u001b[0m\n\u001b[0m\u001b[0;32m   1715\u001b[0m \u001b[1;33m\u001b[0m\u001b[0m\n\u001b[0;32m   1716\u001b[0m \u001b[1;33m\u001b[0m\u001b[0m\n",
      "\u001b[1;32m~\\Anaconda3\\lib\\site-packages\\sympy\\solvers\\solveset.py\u001b[0m in \u001b[0;36m_solveset\u001b[1;34m(f, symbol, domain, _check)\u001b[0m\n\u001b[0;32m    956\u001b[0m                         \u001b[0mresult\u001b[0m \u001b[1;33m+=\u001b[0m \u001b[0m_solve_abs\u001b[0m\u001b[1;33m(\u001b[0m\u001b[0mf\u001b[0m\u001b[1;33m,\u001b[0m \u001b[0msymbol\u001b[0m\u001b[1;33m,\u001b[0m \u001b[0mdomain\u001b[0m\u001b[1;33m)\u001b[0m\u001b[1;33m\u001b[0m\u001b[1;33m\u001b[0m\u001b[0m\n\u001b[0;32m    957\u001b[0m                     \u001b[1;32melse\u001b[0m\u001b[1;33m:\u001b[0m\u001b[1;33m\u001b[0m\u001b[1;33m\u001b[0m\u001b[0m\n\u001b[1;32m--> 958\u001b[1;33m                         \u001b[0mresult_rational\u001b[0m \u001b[1;33m=\u001b[0m \u001b[0m_solve_as_rational\u001b[0m\u001b[1;33m(\u001b[0m\u001b[0mequation\u001b[0m\u001b[1;33m,\u001b[0m \u001b[0msymbol\u001b[0m\u001b[1;33m,\u001b[0m \u001b[0mdomain\u001b[0m\u001b[1;33m)\u001b[0m\u001b[1;33m\u001b[0m\u001b[1;33m\u001b[0m\u001b[0m\n\u001b[0m\u001b[0;32m    959\u001b[0m                         \u001b[1;32mif\u001b[0m \u001b[0misinstance\u001b[0m\u001b[1;33m(\u001b[0m\u001b[0mresult_rational\u001b[0m\u001b[1;33m,\u001b[0m \u001b[0mConditionSet\u001b[0m\u001b[1;33m)\u001b[0m\u001b[1;33m:\u001b[0m\u001b[1;33m\u001b[0m\u001b[1;33m\u001b[0m\u001b[0m\n\u001b[0;32m    960\u001b[0m                             \u001b[1;31m# may be a transcendental type equation\u001b[0m\u001b[1;33m\u001b[0m\u001b[1;33m\u001b[0m\u001b[1;33m\u001b[0m\u001b[0m\n",
      "\u001b[1;32m~\\Anaconda3\\lib\\site-packages\\sympy\\solvers\\solveset.py\u001b[0m in \u001b[0;36m_solve_as_rational\u001b[1;34m(f, symbol, domain)\u001b[0m\n\u001b[0;32m    501\u001b[0m     \u001b[1;32mif\u001b[0m \u001b[1;32mnot\u001b[0m \u001b[0mh\u001b[0m\u001b[1;33m.\u001b[0m\u001b[0mhas\u001b[0m\u001b[1;33m(\u001b[0m\u001b[0msymbol\u001b[0m\u001b[1;33m)\u001b[0m\u001b[1;33m:\u001b[0m\u001b[1;33m\u001b[0m\u001b[1;33m\u001b[0m\u001b[0m\n\u001b[0;32m    502\u001b[0m         \u001b[1;32mtry\u001b[0m\u001b[1;33m:\u001b[0m\u001b[1;33m\u001b[0m\u001b[1;33m\u001b[0m\u001b[0m\n\u001b[1;32m--> 503\u001b[1;33m             \u001b[1;32mreturn\u001b[0m \u001b[0m_solve_as_poly\u001b[0m\u001b[1;33m(\u001b[0m\u001b[0mg\u001b[0m\u001b[1;33m,\u001b[0m \u001b[0msymbol\u001b[0m\u001b[1;33m,\u001b[0m \u001b[0mdomain\u001b[0m\u001b[1;33m)\u001b[0m\u001b[1;33m\u001b[0m\u001b[1;33m\u001b[0m\u001b[0m\n\u001b[0m\u001b[0;32m    504\u001b[0m         \u001b[1;32mexcept\u001b[0m \u001b[0mNotImplementedError\u001b[0m\u001b[1;33m:\u001b[0m\u001b[1;33m\u001b[0m\u001b[1;33m\u001b[0m\u001b[0m\n\u001b[0;32m    505\u001b[0m             \u001b[1;31m# The polynomial formed from g could end up having\u001b[0m\u001b[1;33m\u001b[0m\u001b[1;33m\u001b[0m\u001b[1;33m\u001b[0m\u001b[0m\n",
      "\u001b[1;32m~\\Anaconda3\\lib\\site-packages\\sympy\\solvers\\solveset.py\u001b[0m in \u001b[0;36m_solve_as_poly\u001b[1;34m(f, symbol, domain)\u001b[0m\n\u001b[0;32m    635\u001b[0m     \u001b[1;32mif\u001b[0m \u001b[0mf\u001b[0m\u001b[1;33m.\u001b[0m\u001b[0mis_polynomial\u001b[0m\u001b[1;33m(\u001b[0m\u001b[0msymbol\u001b[0m\u001b[1;33m)\u001b[0m\u001b[1;33m:\u001b[0m\u001b[1;33m\u001b[0m\u001b[1;33m\u001b[0m\u001b[0m\n\u001b[0;32m    636\u001b[0m         solns = roots(f, symbol, cubics=True, quartics=True,\n\u001b[1;32m--> 637\u001b[1;33m                       quintics=True, domain='EX')\n\u001b[0m\u001b[0;32m    638\u001b[0m         \u001b[0mnum_roots\u001b[0m \u001b[1;33m=\u001b[0m \u001b[0msum\u001b[0m\u001b[1;33m(\u001b[0m\u001b[0msolns\u001b[0m\u001b[1;33m.\u001b[0m\u001b[0mvalues\u001b[0m\u001b[1;33m(\u001b[0m\u001b[1;33m)\u001b[0m\u001b[1;33m)\u001b[0m\u001b[1;33m\u001b[0m\u001b[1;33m\u001b[0m\u001b[0m\n\u001b[0;32m    639\u001b[0m         \u001b[1;32mif\u001b[0m \u001b[0mdegree\u001b[0m\u001b[1;33m(\u001b[0m\u001b[0mf\u001b[0m\u001b[1;33m,\u001b[0m \u001b[0msymbol\u001b[0m\u001b[1;33m)\u001b[0m \u001b[1;33m<=\u001b[0m \u001b[0mnum_roots\u001b[0m\u001b[1;33m:\u001b[0m\u001b[1;33m\u001b[0m\u001b[1;33m\u001b[0m\u001b[0m\n",
      "\u001b[1;32m~\\Anaconda3\\lib\\site-packages\\sympy\\polys\\polyroots.py\u001b[0m in \u001b[0;36mroots\u001b[1;34m(f, *gens, **flags)\u001b[0m\n\u001b[0;32m    871\u001b[0m     \u001b[1;32melse\u001b[0m\u001b[1;33m:\u001b[0m\u001b[1;33m\u001b[0m\u001b[1;33m\u001b[0m\u001b[0m\n\u001b[0;32m    872\u001b[0m         \u001b[1;32mtry\u001b[0m\u001b[1;33m:\u001b[0m\u001b[1;33m\u001b[0m\u001b[1;33m\u001b[0m\u001b[0m\n\u001b[1;32m--> 873\u001b[1;33m             \u001b[0mf\u001b[0m \u001b[1;33m=\u001b[0m \u001b[0mPoly\u001b[0m\u001b[1;33m(\u001b[0m\u001b[0mf\u001b[0m\u001b[1;33m,\u001b[0m \u001b[1;33m*\u001b[0m\u001b[0mgens\u001b[0m\u001b[1;33m,\u001b[0m \u001b[1;33m**\u001b[0m\u001b[0mflags\u001b[0m\u001b[1;33m)\u001b[0m\u001b[1;33m\u001b[0m\u001b[1;33m\u001b[0m\u001b[0m\n\u001b[0m\u001b[0;32m    874\u001b[0m             \u001b[1;32mif\u001b[0m \u001b[0mf\u001b[0m\u001b[1;33m.\u001b[0m\u001b[0mlength\u001b[0m \u001b[1;33m==\u001b[0m \u001b[1;36m2\u001b[0m \u001b[1;32mand\u001b[0m \u001b[0mf\u001b[0m\u001b[1;33m.\u001b[0m\u001b[0mdegree\u001b[0m\u001b[1;33m(\u001b[0m\u001b[1;33m)\u001b[0m \u001b[1;33m!=\u001b[0m \u001b[1;36m1\u001b[0m\u001b[1;33m:\u001b[0m\u001b[1;33m\u001b[0m\u001b[1;33m\u001b[0m\u001b[0m\n\u001b[0;32m    875\u001b[0m                 \u001b[1;31m# check for foo**n factors in the constant\u001b[0m\u001b[1;33m\u001b[0m\u001b[1;33m\u001b[0m\u001b[1;33m\u001b[0m\u001b[0m\n",
      "\u001b[1;32m~\\Anaconda3\\lib\\site-packages\\sympy\\polys\\polytools.py\u001b[0m in \u001b[0;36m__new__\u001b[1;34m(cls, rep, *gens, **args)\u001b[0m\n\u001b[0;32m    107\u001b[0m     \u001b[1;32mdef\u001b[0m \u001b[0m__new__\u001b[0m\u001b[1;33m(\u001b[0m\u001b[0mcls\u001b[0m\u001b[1;33m,\u001b[0m \u001b[0mrep\u001b[0m\u001b[1;33m,\u001b[0m \u001b[1;33m*\u001b[0m\u001b[0mgens\u001b[0m\u001b[1;33m,\u001b[0m \u001b[1;33m**\u001b[0m\u001b[0margs\u001b[0m\u001b[1;33m)\u001b[0m\u001b[1;33m:\u001b[0m\u001b[1;33m\u001b[0m\u001b[1;33m\u001b[0m\u001b[0m\n\u001b[0;32m    108\u001b[0m         \u001b[1;34m\"\"\"Create a new polynomial instance out of something useful. \"\"\"\u001b[0m\u001b[1;33m\u001b[0m\u001b[1;33m\u001b[0m\u001b[0m\n\u001b[1;32m--> 109\u001b[1;33m         \u001b[0mopt\u001b[0m \u001b[1;33m=\u001b[0m \u001b[0moptions\u001b[0m\u001b[1;33m.\u001b[0m\u001b[0mbuild_options\u001b[0m\u001b[1;33m(\u001b[0m\u001b[0mgens\u001b[0m\u001b[1;33m,\u001b[0m \u001b[0margs\u001b[0m\u001b[1;33m)\u001b[0m\u001b[1;33m\u001b[0m\u001b[1;33m\u001b[0m\u001b[0m\n\u001b[0m\u001b[0;32m    110\u001b[0m \u001b[1;33m\u001b[0m\u001b[0m\n\u001b[0;32m    111\u001b[0m         \u001b[1;32mif\u001b[0m \u001b[1;34m'order'\u001b[0m \u001b[1;32min\u001b[0m \u001b[0mopt\u001b[0m\u001b[1;33m:\u001b[0m\u001b[1;33m\u001b[0m\u001b[1;33m\u001b[0m\u001b[0m\n",
      "\u001b[1;32m~\\Anaconda3\\lib\\site-packages\\sympy\\polys\\polyoptions.py\u001b[0m in \u001b[0;36mbuild_options\u001b[1;34m(gens, args)\u001b[0m\n\u001b[0;32m    729\u001b[0m \u001b[1;33m\u001b[0m\u001b[0m\n\u001b[0;32m    730\u001b[0m     \u001b[1;32mif\u001b[0m \u001b[0mlen\u001b[0m\u001b[1;33m(\u001b[0m\u001b[0margs\u001b[0m\u001b[1;33m)\u001b[0m \u001b[1;33m!=\u001b[0m \u001b[1;36m1\u001b[0m \u001b[1;32mor\u001b[0m \u001b[1;34m'opt'\u001b[0m \u001b[1;32mnot\u001b[0m \u001b[1;32min\u001b[0m \u001b[0margs\u001b[0m \u001b[1;32mor\u001b[0m \u001b[0mgens\u001b[0m\u001b[1;33m:\u001b[0m\u001b[1;33m\u001b[0m\u001b[1;33m\u001b[0m\u001b[0m\n\u001b[1;32m--> 731\u001b[1;33m         \u001b[1;32mreturn\u001b[0m \u001b[0mOptions\u001b[0m\u001b[1;33m(\u001b[0m\u001b[0mgens\u001b[0m\u001b[1;33m,\u001b[0m \u001b[0margs\u001b[0m\u001b[1;33m)\u001b[0m\u001b[1;33m\u001b[0m\u001b[1;33m\u001b[0m\u001b[0m\n\u001b[0m\u001b[0;32m    732\u001b[0m     \u001b[1;32melse\u001b[0m\u001b[1;33m:\u001b[0m\u001b[1;33m\u001b[0m\u001b[1;33m\u001b[0m\u001b[0m\n\u001b[0;32m    733\u001b[0m         \u001b[1;32mreturn\u001b[0m \u001b[0margs\u001b[0m\u001b[1;33m[\u001b[0m\u001b[1;34m'opt'\u001b[0m\u001b[1;33m]\u001b[0m\u001b[1;33m\u001b[0m\u001b[1;33m\u001b[0m\u001b[0m\n",
      "\u001b[1;32m~\\Anaconda3\\lib\\site-packages\\sympy\\polys\\polyoptions.py\u001b[0m in \u001b[0;36m__init__\u001b[1;34m(self, gens, args, flags, strict)\u001b[0m\n\u001b[0;32m    152\u001b[0m                     \u001b[0mself\u001b[0m\u001b[1;33m[\u001b[0m\u001b[0moption\u001b[0m\u001b[1;33m]\u001b[0m \u001b[1;33m=\u001b[0m \u001b[0mcls\u001b[0m\u001b[1;33m.\u001b[0m\u001b[0mpreprocess\u001b[0m\u001b[1;33m(\u001b[0m\u001b[0mvalue\u001b[0m\u001b[1;33m)\u001b[0m\u001b[1;33m\u001b[0m\u001b[1;33m\u001b[0m\u001b[0m\n\u001b[0;32m    153\u001b[0m \u001b[1;33m\u001b[0m\u001b[0m\n\u001b[1;32m--> 154\u001b[1;33m         \u001b[0mpreprocess_options\u001b[0m\u001b[1;33m(\u001b[0m\u001b[0margs\u001b[0m\u001b[1;33m)\u001b[0m\u001b[1;33m\u001b[0m\u001b[1;33m\u001b[0m\u001b[0m\n\u001b[0m\u001b[0;32m    155\u001b[0m \u001b[1;33m\u001b[0m\u001b[0m\n\u001b[0;32m    156\u001b[0m         \u001b[1;32mfor\u001b[0m \u001b[0mkey\u001b[0m\u001b[1;33m,\u001b[0m \u001b[0mvalue\u001b[0m \u001b[1;32min\u001b[0m \u001b[0mdict\u001b[0m\u001b[1;33m(\u001b[0m\u001b[0mdefaults\u001b[0m\u001b[1;33m)\u001b[0m\u001b[1;33m.\u001b[0m\u001b[0mitems\u001b[0m\u001b[1;33m(\u001b[0m\u001b[1;33m)\u001b[0m\u001b[1;33m:\u001b[0m\u001b[1;33m\u001b[0m\u001b[1;33m\u001b[0m\u001b[0m\n",
      "\u001b[1;32m~\\Anaconda3\\lib\\site-packages\\sympy\\polys\\polyoptions.py\u001b[0m in \u001b[0;36mpreprocess_options\u001b[1;34m(args)\u001b[0m\n\u001b[0;32m    150\u001b[0m \u001b[1;33m\u001b[0m\u001b[0m\n\u001b[0;32m    151\u001b[0m                 \u001b[1;32mif\u001b[0m \u001b[0mvalue\u001b[0m \u001b[1;32mis\u001b[0m \u001b[1;32mnot\u001b[0m \u001b[1;32mNone\u001b[0m\u001b[1;33m:\u001b[0m\u001b[1;33m\u001b[0m\u001b[1;33m\u001b[0m\u001b[0m\n\u001b[1;32m--> 152\u001b[1;33m                     \u001b[0mself\u001b[0m\u001b[1;33m[\u001b[0m\u001b[0moption\u001b[0m\u001b[1;33m]\u001b[0m \u001b[1;33m=\u001b[0m \u001b[0mcls\u001b[0m\u001b[1;33m.\u001b[0m\u001b[0mpreprocess\u001b[0m\u001b[1;33m(\u001b[0m\u001b[0mvalue\u001b[0m\u001b[1;33m)\u001b[0m\u001b[1;33m\u001b[0m\u001b[1;33m\u001b[0m\u001b[0m\n\u001b[0m\u001b[0;32m    153\u001b[0m \u001b[1;33m\u001b[0m\u001b[0m\n\u001b[0;32m    154\u001b[0m         \u001b[0mpreprocess_options\u001b[0m\u001b[1;33m(\u001b[0m\u001b[0margs\u001b[0m\u001b[1;33m)\u001b[0m\u001b[1;33m\u001b[0m\u001b[1;33m\u001b[0m\u001b[0m\n",
      "\u001b[1;32m~\\Anaconda3\\lib\\site-packages\\sympy\\polys\\polyoptions.py\u001b[0m in \u001b[0;36mpreprocess\u001b[1;34m(cls, domain)\u001b[0m\n\u001b[0;32m    412\u001b[0m     \u001b[1;33m@\u001b[0m\u001b[0mclassmethod\u001b[0m\u001b[1;33m\u001b[0m\u001b[1;33m\u001b[0m\u001b[0m\n\u001b[0;32m    413\u001b[0m     \u001b[1;32mdef\u001b[0m \u001b[0mpreprocess\u001b[0m\u001b[1;33m(\u001b[0m\u001b[0mcls\u001b[0m\u001b[1;33m,\u001b[0m \u001b[0mdomain\u001b[0m\u001b[1;33m)\u001b[0m\u001b[1;33m:\u001b[0m\u001b[1;33m\u001b[0m\u001b[1;33m\u001b[0m\u001b[0m\n\u001b[1;32m--> 414\u001b[1;33m         \u001b[1;32mif\u001b[0m \u001b[0misinstance\u001b[0m\u001b[1;33m(\u001b[0m\u001b[0mdomain\u001b[0m\u001b[1;33m,\u001b[0m \u001b[0msympy\u001b[0m\u001b[1;33m.\u001b[0m\u001b[0mpolys\u001b[0m\u001b[1;33m.\u001b[0m\u001b[0mdomains\u001b[0m\u001b[1;33m.\u001b[0m\u001b[0mDomain\u001b[0m\u001b[1;33m)\u001b[0m\u001b[1;33m:\u001b[0m\u001b[1;33m\u001b[0m\u001b[1;33m\u001b[0m\u001b[0m\n\u001b[0m\u001b[0;32m    415\u001b[0m             \u001b[1;32mreturn\u001b[0m \u001b[0mdomain\u001b[0m\u001b[1;33m\u001b[0m\u001b[1;33m\u001b[0m\u001b[0m\n\u001b[0;32m    416\u001b[0m         \u001b[1;32melif\u001b[0m \u001b[0mhasattr\u001b[0m\u001b[1;33m(\u001b[0m\u001b[0mdomain\u001b[0m\u001b[1;33m,\u001b[0m \u001b[1;34m'to_domain'\u001b[0m\u001b[1;33m)\u001b[0m\u001b[1;33m:\u001b[0m\u001b[1;33m\u001b[0m\u001b[1;33m\u001b[0m\u001b[0m\n",
      "\u001b[1;31mAttributeError\u001b[0m: module 'sympy' has no attribute 'polys'"
     ]
    }
   ],
   "source": [
    "EGGG_V = [-1.70804059328649*q*w + 1.56206088992974*r*v - u*(1.4192037470726*Abs(u) + 0.314597970335675) + 1.88134270101483e-5*u4 + 1.88134270101483e-5*u5 + 6.67*sin(theta),\n",
    "       1.09345327336332*p*w - 0.640179910044978*r*u + 0.000121650674662669*u2 + 1.2143928035982e-5*u6 - v*(1.08245877061469*Abs(v) + 0.310844577711144) - 6.67*sin(phi)*cos(theta),\n",
    "       -0.914533820840951*p*v + 0.585466179159049*q*u - 1.52193784277879e-5*u1 - 1.52193784277879e-5*u2 - 1.02376599634369e-5*u3 - w*(1.69058500914077*Abs(w) + 0.236745886654479) - 6.67*cos(phi)*cos(theta),\n",
    "       -p*(-38.75*Abs(p) - 1.75) - 9.24075e-7*u1 + 9.24075e-7*u2 + 5.77125e-7*u6 + 46.75*v*w + 0.0148922*sin(phi)*cos(theta),\n",
    "       -q*(5.53571428571429*Abs(q) + 0.25) + 32.3928571428571*u*w + 1.81960714285714e-7*u1 + 1.81960714285714e-7*u2 - 1.592e-7*u3 - 1.205e-8*u4 - 1.205e-8*u5 + 0.0148922*sin(theta),\n",
    "       -r*(5.53571428571429*Abs(r) + 0.25) - 25.7142857142857*u*v - 9.55392857142857e-8*u4 + 9.55392857142857e-8*u5 + 6.94285714285714e-9*u6,u*cos(psi)*cos(theta) + v*(sin(phi)*sin(theta)*cos(psi) - sin(psi)*cos(phi)) + w*(sin(phi)*sin(psi) + sin(theta)*cos(phi)*cos(psi)), u*sin(psi)*cos(theta) + v*(sin(phi)*sin(psi)*sin(theta) + cos(phi)*cos(psi)) + w*(-sin(phi)*cos(psi) + sin(psi)*sin(theta)*cos(phi)), -u*sin(theta) + v*sin(phi)*cos(theta) + w*cos(phi)*cos(theta), 1.0*p + q*sin(phi)*sin(theta)/cos(theta) + r*sin(theta)*cos(phi)/cos(theta), q*cos(phi) - r*sin(phi), q*sin(phi)/cos(theta) + 1.0*r]\n",
    "EGGG_n =[u*cos(psi)*cos(theta) + v*(sin(phi)*sin(theta)*cos(psi) - sin(psi)*cos(phi)) + w*(sin(phi)*sin(psi) + sin(theta)*cos(phi)*cos(psi)), u*sin(psi)*cos(theta) + v*(sin(phi)*sin(psi)*sin(theta) + cos(phi)*cos(psi)) + w*(-sin(phi)*cos(psi) + sin(psi)*sin(theta)*cos(phi)), -u*sin(theta) + v*sin(phi)*cos(theta) + w*cos(phi)*cos(theta), 1.0*p + q*sin(phi)*sin(theta)/cos(theta) + r*sin(theta)*cos(phi)/cos(theta), q*cos(phi) - r*sin(phi), q*sin(phi)/cos(theta) + 1.0*r]\n",
    "nonlinsolve(EGGG_V,[u,v,w,p,q,r,x,y,z,phi,theta,psi,u1,u2,u3,u4,u5,u6])"
   ]
  },
  {
   "cell_type": "code",
   "execution_count": 289,
   "metadata": {},
   "outputs": [
    {
     "name": "stdout",
     "output_type": "stream",
     "text": [
      "[u*cos(psi)*cos(theta) + v*(sin(phi)*sin(theta)*cos(psi) - sin(psi)*cos(phi)) + w*(sin(phi)*sin(psi) + sin(theta)*cos(phi)*cos(psi)), u*sin(psi)*cos(theta) + v*(sin(phi)*sin(psi)*sin(theta) + cos(phi)*cos(psi)) + w*(-sin(phi)*cos(psi) + sin(psi)*sin(theta)*cos(phi)), -u*sin(theta) + v*sin(phi)*cos(theta) + w*cos(phi)*cos(theta), 1.0*p + q*sin(phi)*sin(theta)/cos(theta) + r*sin(theta)*cos(phi)/cos(theta), q*cos(phi) - r*sin(phi), q*sin(phi)/cos(theta) + 1.0*r]\n"
     ]
    }
   ],
   "source": [
    "print(ndott.tolist())"
   ]
  },
  {
   "cell_type": "code",
   "execution_count": null,
   "metadata": {},
   "outputs": [],
   "source": []
  }
 ],
 "metadata": {
  "kernelspec": {
   "display_name": "Python 3",
   "language": "python",
   "name": "python3"
  },
  "language_info": {
   "codemirror_mode": {
    "name": "ipython",
    "version": 3
   },
   "file_extension": ".py",
   "mimetype": "text/x-python",
   "name": "python",
   "nbconvert_exporter": "python",
   "pygments_lexer": "ipython3",
   "version": "3.7.3"
  }
 },
 "nbformat": 4,
 "nbformat_minor": 2
}
