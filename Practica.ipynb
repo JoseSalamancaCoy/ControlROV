{
 "cells": [
  {
   "cell_type": "code",
   "execution_count": 105,
   "metadata": {},
   "outputs": [],
   "source": [
    "import matplotlib.pyplot as plt\n",
    "import numpy as np\n",
    "from scipy import *\n",
    "from scipy import integrate\n",
    "from scipy.integrate import ode\n"
   ]
  },
  {
   "cell_type": "code",
   "execution_count": 162,
   "metadata": {},
   "outputs": [
    {
     "name": "stdout",
     "output_type": "stream",
     "text": [
      "7.31\n"
     ]
    }
   ],
   "source": [
    "f = open ('parrov_bluerov.txt','r')\n",
    "D={}\n",
    "for i in f:\n",
    "    [clave, valor]= i.split(\"=\")\n",
    "    D[clave] = float(valor[:-2])\n",
    "f.close()\n"
   ]
  },
  {
   "cell_type": "code",
   "execution_count": 145,
   "metadata": {},
   "outputs": [
    {
     "data": {
      "text/latex": [
       "$\\displaystyle \\frac{d}{d x} y{\\left(x \\right)} = - 3 x^{2} y{\\left(x \\right)} + 6 x^{2}$"
      ],
      "text/plain": [
       "Eq(Derivative(y(x), x), -3*x**2*y(x) + 6*x**2)"
      ]
     },
     "execution_count": 145,
     "metadata": {},
     "output_type": "execute_result"
    }
   ],
   "source": [
    "# Resolviendo ecuación diferencial\n",
    "# defino las incognitas\n",
    "x = sympy.Symbol('x')\n",
    "y = sympy.Function('y')\n",
    "\n",
    "# expreso la ecuacion\n",
    "f = np.array([6*x**2 - 3*x**2*(y(x)), 6*x**3 - 3*x**2*(y(x))])\n",
    "\n",
    "sympy.Eq(y(x).diff(x), f[0])\n"
   ]
  },
  {
   "cell_type": "code",
   "execution_count": 146,
   "metadata": {},
   "outputs": [
    {
     "data": {
      "text/latex": [
       "$\\displaystyle \\frac{d}{d x} y{\\left(x \\right)} = 6 x^{3} - 3 x^{2} y{\\left(x \\right)}$"
      ],
      "text/plain": [
       "Eq(Derivative(y(x), x), 6*x**3 - 3*x**2*y(x))"
      ]
     },
     "execution_count": 146,
     "metadata": {},
     "output_type": "execute_result"
    }
   ],
   "source": [
    "sympy.Eq(y(x).diff(x), f[1])"
   ]
  },
  {
   "cell_type": "code",
   "execution_count": 121,
   "metadata": {},
   "outputs": [
    {
     "data": {
      "text/latex": [
       "$\\displaystyle x^{2} + y^{2}{\\left(x \\right)} - 1$"
      ],
      "text/plain": [
       "x**2 + y(x)**2 - 1"
      ]
     },
     "execution_count": 121,
     "metadata": {},
     "output_type": "execute_result"
    }
   ],
   "source": []
  },
  {
   "cell_type": "code",
   "execution_count": 158,
   "metadata": {},
   "outputs": [],
   "source": [
    "f_np1 = sympy.lambdify((y(x), x), f[0])\n",
    "f_np2 = sympy.lambdify((y(x), x), f[0])\n",
    "\n",
    "# Definimos los valores de la condición inicial y el rango de x sobre los \n",
    "# que vamos a iterar para calcular y(x)\n",
    "y0 = 0.00 #Condicion Inicial\n",
    "xp = np.linspace(0,1, 1000) #Valores de x\n",
    "\n",
    "# Calculando la solución numerica para los valores de y0 y xp\n",
    "yp = integrate.odeint(f_np2, y0, xp)\n",
    "\n",
    "# Aplicamos el mismo procedimiento para valores de x negativos\n",
    "xn = np.linspace(0, -1, 1000)\n",
    "yn = integrate.odeint(f_np, y0, xn)"
   ]
  },
  {
   "cell_type": "code",
   "execution_count": 159,
   "metadata": {},
   "outputs": [
    {
     "data": {
      "image/png": "[encoded data removed]",
      "text/plain": [
       "<Figure size 576x432 with 1 Axes>"
      ]
     },
     "metadata": {
      "needs_background": "light"
     },
     "output_type": "display_data"
    }
   ],
   "source": [
    "fig, axes = plt.subplots(1, 1, figsize=(8, 6))\n",
    "#plot_direction_field(x, y(x), f, ax=axes)\n",
    "axes.plot(xn, yn, 'b', lw=2)\n",
    "axes.plot(xp, yp, 'r', lw=2)\n",
    "plt.show()"
   ]
  },
  {
   "cell_type": "code",
   "execution_count": null,
   "metadata": {},
   "outputs": [],
   "source": []
  }
 ],
 "metadata": {
  "kernelspec": {
   "display_name": "Python 3",
   "language": "python",
   "name": "python3"
  },
  "language_info": {
   "codemirror_mode": {
    "name": "ipython",
    "version": 3
   },
   "file_extension": ".py",
   "mimetype": "text/x-python",
   "name": "python",
   "nbconvert_exporter": "python",
   "pygments_lexer": "ipython3",
   "version": "3.7.3"
  }
 },
 "nbformat": 4,
 "nbformat_minor": 2
}
